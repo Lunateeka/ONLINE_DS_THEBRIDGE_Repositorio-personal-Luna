{
  "metadata": {
    "kernelspec": {
      "name": "python",
      "display_name": "Python (Pyodide)",
      "language": "python"
    },
    "language_info": {
      "codemirror_mode": {
        "name": "python",
        "version": 3
      },
      "file_extension": ".py",
      "mimetype": "text/x-python",
      "name": "python",
      "nbconvert_exporter": "python",
      "pygments_lexer": "ipython3",
      "version": "3.8"
    },
    "colab": {
      "provenance": []
    }
  },
  "nbformat_minor": 4,
  "nbformat": 4,
  "cells": [
    {
      "cell_type": "markdown",
      "source": "<img src = \"./img/TheBridge_logo_RGB_color.jpg\" width = 500><img src = \"./img/python.jpg\" width = 500>",
      "metadata": {
        "id": "BP_-oaC0uqQs"
      }
    },
    {
      "cell_type": "markdown",
      "source": "# Python Basics I\n",
      "metadata": {
        "id": "FG9qbtJBuqQx"
      }
    },
    {
      "cell_type": "markdown",
      "source": "## Tipos de los datos\nPython es un lenguaje fuertemente tipado. Eso significa que las variables que usamos pertenecen a un tipo de datos: numero entero (int), real (float), texto (String), u otro tipo de objetos.\n\n**¿Por qué es importante saber bien de que tipos son los datos?** Porque cada tipo de dato tiene una serie propiedades y operaciones asociadas. Por ejemplo, a un texto no lo puedo sumar 5. Por lo que cuando vayamos a hacer operaciones entre ellos, tenemos que asegurarnos de que son del mismo tipo para que el resultado sea el esperado. `texto + 5` no tiene sentido y va a dar error. Parece obvio, pero hay ocasiones en las que los tipos de los datos no son los esperados.\n\n**¿Cuántos tipos de datos hay?** Básicamente aquí no hay límites. En este notebook veremos los más básicos, pero en notebooks posteriores verás que puedes crearte tus propios tipos de datos mediante las **clases**. En Python hay una serie de tipos de datos básicos, que podremos usar sin importar ningun módulo externo, son los llamados [*built-in Types*](https://docs.python.org/3/library/stdtypes.html). Estos son los más comunes:\n\n* **Numérico**: tenemos `int`, `float` y `complex`. Dependiendo de si es un numero entero, uno real o un complejo respectivamente.\n* **String**: o Cadena. Cadena de texto plano\n* **Booleano**: o Lógico. `True`/`False`\n\n**¿Cómo sabemos el tipo de datos de una variable?** Mediante `type(nombre_variable)`",
      "metadata": {
        "id": "r6eHVXpkuqQz"
      }
    },
    {
      "cell_type": "markdown",
      "source": "## Contenidos",
      "metadata": {
        "id": "5Eu8d6YguqQ1"
      }
    },
    {
      "cell_type": "markdown",
      "source": "* [Numéricos](#Numéricos)\n* [Strings](#Strings)\n* [Booleano](#Booleano)\n",
      "metadata": {
        "id": "muSH95_BuqQ1"
      }
    },
    {
      "cell_type": "markdown",
      "source": "### Numéricos [al indice](#Contenidos)\n",
      "metadata": {
        "id": "1tdL9J4SuqQ2"
      }
    },
    {
      "cell_type": "code",
      "source": "numero = 22\ntype(numero) #Es una función que nos va a dar el tipo de variable",
      "metadata": {
        "id": "LFhyivipuqQ3",
        "trusted": true
      },
      "outputs": [
        {
          "execution_count": 6,
          "output_type": "execute_result",
          "data": {
            "text/plain": "int"
          },
          "metadata": {}
        }
      ],
      "execution_count": 6
    },
    {
      "cell_type": "markdown",
      "source": "Bien, es un ***int***, un número entero. Si lo que quiero es un numero real, es decir, que tenga decimales, le añado un punto",
      "metadata": {
        "id": "CdN0TQMpuqQ5"
      }
    },
    {
      "cell_type": "code",
      "source": "numero_real = 22.0\nprint(type(numero_real))",
      "metadata": {
        "id": "r9nxTpcluqQ5",
        "trusted": true
      },
      "outputs": [
        {
          "name": "stdout",
          "output_type": "stream",
          "text": "<class 'float'>\n"
        }
      ],
      "execution_count": 3
    },
    {
      "cell_type": "markdown",
      "source": "Aunque no le haya añadido decimales como tal, ya le estoy diciendo a Python que esta variable es un numero real (***float***).",
      "metadata": {
        "id": "ysbEylhiuqQ6"
      }
    },
    {
      "cell_type": "code",
      "source": "numero_real_decimales = 22.45123\nprint(type(numero_real_decimales))",
      "metadata": {
        "id": "b7T3x7heuqQ8",
        "trusted": true
      },
      "outputs": [
        {
          "name": "stdout",
          "output_type": "stream",
          "text": "<class 'float'>\n"
        }
      ],
      "execution_count": 4
    },
    {
      "cell_type": "markdown",
      "source": "Algunas operaciones básicas que podemos hacer con los numeros:\n* Sumar: `+`\n* Restar: `-`\n* Multiplicar: `*`\n* Dividir: `/`\n* Elevar: `**`\n* Cociente division: `//`\n* Resto de la división: `%`",
      "metadata": {
        "id": "01b3VZgjuqQ8"
      }
    },
    {
      "cell_type": "code",
      "source": "print(\"Sumas/restas\")\nprint(1 + 2)\nprint(1.0 + 2) # Fijate que cuando fuerzo a que alguno de los numeros sea float, el resultado es float\nprint(1 + 2.0)\nprint(1-2)",
      "metadata": {
        "id": "rSxGsfwhuqQ9",
        "trusted": true
      },
      "outputs": [
        {
          "name": "stdout",
          "output_type": "stream",
          "text": "Sumas/restas\n3\n3.0\n3.0\n-1\n"
        }
      ],
      "execution_count": 7
    },
    {
      "cell_type": "code",
      "source": "print(\"Multiplicaciones/Divisiones\")\nprint(2 * 2)\nprint(2.0 * 2) # Ocurre lo mismo que en las sumas, cuando ponemos uno de los numeros como float.\nprint(2/2) # Al hacer la división, directamente convierte el numero en float, a pesar de que los dos son enteros y el resultado también.\nprint(1000/10)",
      "metadata": {
        "trusted": true
      },
      "outputs": [
        {
          "name": "stdout",
          "output_type": "stream",
          "text": "Multiplicaciones/Divisiones\n4\n4.0\n1.0\n100.0\n"
        }
      ],
      "execution_count": 10
    },
    {
      "cell_type": "code",
      "source": "print(\"Resto de la división\")\nprint(10/3)\nprint(int(10/3)) # Me quedo con el entero de la división, no redondea\nprint(10 % 3)# Me quedo con el resto de la división\nprint(10 // 3)# Me quedo con el cociente de la división",
      "metadata": {
        "trusted": true
      },
      "outputs": [
        {
          "name": "stdout",
          "output_type": "stream",
          "text": "Resto de la división\n3.3333333333333335\n3\n1\n3\n"
        }
      ],
      "execution_count": 13
    },
    {
      "cell_type": "code",
      "source": "#Para ver si un número es par o impar se utiliza esa función de resto %\nn=23\nprint(\"¿Es\", n, \"par?\")\nresto = n % 2\nprint (\"el resto es\",resto)\nif resto == 0:\n   print (\"Es par\")\nelse: print (\"Es impar\")",
      "metadata": {
        "trusted": true
      },
      "outputs": [
        {
          "name": "stdout",
          "output_type": "stream",
          "text": "¿Es 23 par?\nel resto es 1\nEs impar\n"
        }
      ],
      "execution_count": 18
    },
    {
      "cell_type": "code",
      "source": "n=7483842758\nprint(\"¿Es\", n, \"par?\")\nresto = n % 2\nprint (\"el resto es\",resto)\nif resto == 0:\n   print (\"Es par\")\nelse: print (\"Es impar\")",
      "metadata": {
        "trusted": true
      },
      "outputs": [
        {
          "name": "stdout",
          "output_type": "stream",
          "text": "¿Es 7483842758 par?\nel resto es 0\nEs par\n"
        }
      ],
      "execution_count": 19
    },
    {
      "cell_type": "markdown",
      "source": "### Strings\n[al indice](#Contenidos)\nEl tercer tipo de datos más común es el *String*, o cadena de texto. Hay varias maneras de declararlo:",
      "metadata": {
        "id": "yA13Hs27uqQ_"
      }
    },
    {
      "cell_type": "code",
      "source": "# Con comillas dobles\ncadena = \"Esto es una variable de tipo string\"\n# Con comillas simples\ncadena_2 = \"Esto es una variable de tipo string en comillas simples\"\nprint(cadena)\nprint(cadena_2)",
      "metadata": {
        "id": "4goCVot_uqRA",
        "trusted": true
      },
      "outputs": [
        {
          "name": "stdout",
          "output_type": "stream",
          "text": "Esto es una variable de tipo string\nEsto es una variable de tipo string en comillas simples\n"
        }
      ],
      "execution_count": 20
    },
    {
      "cell_type": "markdown",
      "source": "Si da la casualidad de que en el texto hay comillas, tenemos la posibilidad de que Python las interprete como parte del texto y no como comando de inicio/cierre de String",
      "metadata": {
        "id": "IY2mww-1uqRA"
      }
    },
    {
      "cell_type": "code",
      "source": "print(\"String con 'simples'\")\nprint('String con \"simples\"')\nprint(\"String con \\\"simples o dobles\\\"\") \n#Esta \\ hace que el siguiente caracter no interfiera con la función",
      "metadata": {
        "id": "xRz_6JlguqRB",
        "trusted": true
      },
      "outputs": [
        {
          "name": "stdout",
          "output_type": "stream",
          "text": "String con 'simples'\nString con \"simples\"\nString con \"simples o dobles\"\n"
        }
      ],
      "execution_count": 24
    },
    {
      "cell_type": "markdown",
      "source": "En ocasiones queremos poner saltos de línea o tabulaciones en los prints, o simplemente en una variable de tipo String. Para ello usamos los [*escape characters*](https://www.w3schools.com/python/gloss_python_escape_characters.asp) como `\\n` para saltos de línea o `\\t` para tabulaciones.",
      "metadata": {
        "id": "dReNlP-luqRB"
      }
    },
    {
      "cell_type": "code",
      "source": "print(\"Primera linea\\nSegunda linea\\n\\tTercera linea, tablulada\")",
      "metadata": {
        "id": "ReM5-dxYuqRC",
        "trusted": true
      },
      "outputs": [
        {
          "name": "stdout",
          "output_type": "stream",
          "text": "Primera linea\nSegunda linea\n\tTercera linea, tablulada\n"
        }
      ],
      "execution_count": 29
    },
    {
      "cell_type": "code",
      "source": "mi_string = \"Primera linea\\nSegunda linea\\n\\tTercera linea, tablulada\"\nprint (mi_string)",
      "metadata": {
        "trusted": true
      },
      "outputs": [
        {
          "name": "stdout",
          "output_type": "stream",
          "text": "Primera linea\nSegunda linea\n\tTercera linea, tablulada\n"
        }
      ],
      "execution_count": 28
    },
    {
      "cell_type": "markdown",
      "source": "Para unir dos variables de tipo String, simplemente usamos el `+`",
      "metadata": {
        "id": "f38LkB9cuqRC"
      }
    },
    {
      "cell_type": "code",
      "source": "nombre = \"Antonia\"\napellido = \"Scott\"\nnombre_apellido = nombre + \" \" + apellido #podemos añadir el espacio con \" \"\nprint (nombre_apellido)",
      "metadata": {
        "id": "8_iDQCz2uqRD",
        "trusted": true
      },
      "outputs": [
        {
          "name": "stdout",
          "output_type": "stream",
          "text": "Antonia Scott\n"
        }
      ],
      "execution_count": 34
    },
    {
      "cell_type": "code",
      "source": "nombre = \"Antonia\"\napellido = \"Scott\"\nespacio = \" \"\nnombre_apellido_2 = nombre + espacio + apellido #o añadirlo escribiendo la variable espacio\nprint (nombre_apellido_2)",
      "metadata": {
        "trusted": true
      },
      "outputs": [
        {
          "name": "stdout",
          "output_type": "stream",
          "text": "Antonia Scott\n"
        }
      ],
      "execution_count": 35
    },
    {
      "cell_type": "code",
      "source": " # Solo puedo concatenar string a string y int a int \nprueba=\"una prueba\"\nun_entero=100\nprint(prueba + un_entero)",
      "metadata": {
        "trusted": true
      },
      "outputs": [
        {
          "ename": "<class 'TypeError'>",
          "evalue": "can only concatenate str (not \"int\") to str",
          "traceback": [
            "\u001b[0;31m---------------------------------------------------------------------------\u001b[0m",
            "\u001b[0;31mTypeError\u001b[0m                                 Traceback (most recent call last)",
            "Cell \u001b[0;32mIn[39], line 4\u001b[0m\n\u001b[1;32m      2\u001b[0m prueba\u001b[38;5;241m=\u001b[39m\u001b[38;5;124m\"\u001b[39m\u001b[38;5;124muna prueba\u001b[39m\u001b[38;5;124m\"\u001b[39m\n\u001b[1;32m      3\u001b[0m un_entero\u001b[38;5;241m=\u001b[39m\u001b[38;5;241m100\u001b[39m\n\u001b[0;32m----> 4\u001b[0m \u001b[38;5;28mprint\u001b[39m(\u001b[43mprueba\u001b[49m\u001b[43m \u001b[49m\u001b[38;5;241;43m+\u001b[39;49m\u001b[43m \u001b[49m\u001b[43mun_entero\u001b[49m)\n",
            "\u001b[0;31mTypeError\u001b[0m: can only concatenate str (not \"int\") to str"
          ],
          "output_type": "error"
        }
      ],
      "execution_count": 39
    },
    {
      "cell_type": "markdown",
      "source": "### Booleano\n[al indice](#Contenidos)\nPor último, el cuarto tipo de datos basiquísimo es el *booleano*: `True`/`False`. Para que Python reconoza este tipo de datos, hay que escribirlos con la primera letra en mayúscula",
      "metadata": {
        "id": "wDAkMt23uqRD"
      }
    },
    {
      "cell_type": "code",
      "source": "#Las variables booleanas solo funcionan con la primera letra en mayuscula!!!\nya_se_de_phyton=False\nprint(type(ya_se_de_phyton))",
      "metadata": {
        "id": "mlyZHhDRuqRD",
        "trusted": true
      },
      "outputs": [
        {
          "name": "stdout",
          "output_type": "stream",
          "text": "<class 'bool'>\n"
        }
      ],
      "execution_count": 41
    },
    {
      "cell_type": "code",
      "source": "#Este tipo de operaciones nos dan un booleano\ndinerito = 5\ndinerito >= 15",
      "metadata": {
        "trusted": true
      },
      "outputs": [
        {
          "execution_count": 43,
          "output_type": "execute_result",
          "data": {
            "text/plain": "False"
          },
          "metadata": {}
        }
      ],
      "execution_count": 43
    },
    {
      "cell_type": "code",
      "source": "#también se pueden incluir en variables\ndinerito = 15\ncond_1= dinerito>= 15\nprint(cond_1)\nprint(type(cond_1))",
      "metadata": {
        "trusted": true
      },
      "outputs": [
        {
          "name": "stdout",
          "output_type": "stream",
          "text": "True\n<class 'bool'>\n"
        }
      ],
      "execution_count": 46
    },
    {
      "cell_type": "markdown",
      "source": "Tipos de datos hay muchos, verás más adelante cómo crear tus propios tipos de datos mediante las clases y los objetos. Pero por ahora, quédate con los tipos de datos más simples:\n* **int**: entero\n* **float**: real\n* **str**: cadena de texto\n* **booleano**: true/false",
      "metadata": {
        "id": "gWKealPpuqRE"
      }
    },
    {
      "cell_type": "markdown",
      "source": "En otros lenguajes de programación el valor numérico suele ir más desagregado dependiendo del volumen del mismo. No es lo mismo tener un `double`, que un `float`. Por suerte en Python no hay que preocuparse de eso :)\n\nVeamos más ejemplos",
      "metadata": {
        "id": "sWHxjqccuqRE"
      }
    },
    {
      "cell_type": "code",
      "source": "print (type(1.0))",
      "metadata": {
        "id": "7lqR02I2uqRF",
        "trusted": true
      },
      "outputs": [
        {
          "name": "stdout",
          "output_type": "stream",
          "text": "<class 'float'>\n"
        }
      ],
      "execution_count": 47
    },
    {
      "cell_type": "code",
      "source": "print (type(-74))",
      "metadata": {
        "id": "Q4PSshpauqRF",
        "trusted": true
      },
      "outputs": [
        {
          "name": "stdout",
          "output_type": "stream",
          "text": "<class 'int'>\n"
        }
      ],
      "execution_count": 49
    },
    {
      "cell_type": "code",
      "source": "print (type(\"3.45\"))",
      "metadata": {
        "trusted": true
      },
      "outputs": [
        {
          "name": "stdout",
          "output_type": "stream",
          "text": "<class 'str'>\n"
        }
      ],
      "execution_count": 50
    },
    {
      "cell_type": "code",
      "source": "print (type(True))",
      "metadata": {
        "trusted": true
      },
      "outputs": [
        {
          "name": "stdout",
          "output_type": "stream",
          "text": "<class 'bool'>\n"
        }
      ],
      "execution_count": 52
    }
  ]
}