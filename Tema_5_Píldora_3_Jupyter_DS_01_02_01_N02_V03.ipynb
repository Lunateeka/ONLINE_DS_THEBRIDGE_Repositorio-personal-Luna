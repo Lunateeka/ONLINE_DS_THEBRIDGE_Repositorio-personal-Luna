{
  "metadata": {
    "kernelspec": {
      "name": "python",
      "display_name": "Python (Pyodide)",
      "language": "python"
    },
    "language_info": {
      "codemirror_mode": {
        "name": "python",
        "version": 3
      },
      "file_extension": ".py",
      "mimetype": "text/x-python",
      "name": "python",
      "nbconvert_exporter": "python",
      "pygments_lexer": "ipython3",
      "version": "3.8"
    },
    "colab": {
      "provenance": []
    }
  },
  "nbformat_minor": 4,
  "nbformat": 4,
  "cells": [
    {
      "cell_type": "markdown",
      "source": "![TheBridge_Python_v0.png](attachment:TheBridge_Python_v0.png)",
      "metadata": {
        "id": "QGG9NnGEVXRT"
      }
    },
    {
      "cell_type": "markdown",
      "source": "##  Colecciones Python: Tuplas\n",
      "metadata": {
        "id": "yG4FuNGpVXRT"
      }
    },
    {
      "cell_type": "markdown",
      "source": "### Contenidos\n",
      "metadata": {
        "id": "SK-SjXRBVXRU"
      }
    },
    {
      "cell_type": "markdown",
      "source": "* [Introducción](#Introducción)\n\n* [Listas y tuplas](#Listas-y-tuplas)\n\n",
      "metadata": {
        "id": "EKOO65b0VXRU"
      }
    },
    {
      "cell_type": "markdown",
      "source": "### Introducción\n[al indice](#Contenidos)  \n\nMuy similares a las listas. Si en Notebooks anteriores definíamos a las listas como ordenadas y mutables, las tuplas son ordenadas e inmutables.\n\n* **Inmutables**: una vez creada la tupla con sus elementos iniciales, no se puede modificar\n* **Ordenadas**: podemos acceder a sus elementos a través del indice y reordenar la tupla según queramos\n\nLas tuplas se suelen usar para pequeñas colecciones de datos que no van a cambiar a lo largo del programa, como es el caso de las constantes.\n\nSi las listas se construían mediante corchetes `[]`, las tuplas lo hacen con los paréntesis `()`",
      "metadata": {
        "id": "N69km-N_VXRU"
      }
    },
    {
      "cell_type": "code",
      "source": "tupla_ejemplo=(3,\"Texto\")\nprint(tupla_ejemplo)\nprint(type(tupla_ejemplo))",
      "metadata": {
        "id": "U858SIRTVXRV",
        "trusted": true
      },
      "outputs": [
        {
          "name": "stdout",
          "output_type": "stream",
          "text": "(3, 'Texto')\n<class 'tuple'>\n"
        }
      ],
      "execution_count": 1
    },
    {
      "cell_type": "code",
      "source": "print(\"El primer elemento es\", tupla_ejemplo[0])\nprint(\"El segundo elemento es\", tupla_ejemplo[1])",
      "metadata": {
        "id": "s7URCM-VVXRV",
        "trusted": true
      },
      "outputs": [
        {
          "name": "stdout",
          "output_type": "stream",
          "text": "El primer elemento es 3\nEl segundo elemento es Texto\n"
        }
      ],
      "execution_count": 3
    },
    {
      "cell_type": "markdown",
      "source": "Los paréntesis ya se usan para reordenar operaciones `5 * (3 + 4)`, por lo que hay que añadir una coma cuando definamos una tupla con un único elemento, sino Python lo interpretará como un número.",
      "metadata": {
        "id": "xVFeZuFeVXRV"
      }
    },
    {
      "cell_type": "code",
      "source": "mala_tupla =(24)\nprint(type(mala_tupla),mala_tupla)\n\nbuena_tupla =(24,2)\nprint(type(buena_tupla),buena_tupla)",
      "metadata": {
        "id": "sa4-yckgVXRV",
        "trusted": true,
        "scrolled": true
      },
      "outputs": [
        {
          "name": "stdout",
          "output_type": "stream",
          "text": "<class 'int'> 24\n<class 'tuple'> (24, 2)\n"
        }
      ],
      "execution_count": 5
    },
    {
      "cell_type": "code",
      "source": "#Anidación tupla\n\ntupla_anid = (1,2,3,(\"A\",\"B\",\"C\"))\nprint(tupla_anid)\nprint(len(tupla_anid))",
      "metadata": {
        "trusted": true
      },
      "outputs": [
        {
          "name": "stdout",
          "output_type": "stream",
          "text": "(1, 2, 3, ('A', 'B', 'C'))\n4\n"
        }
      ],
      "execution_count": 8
    },
    {
      "cell_type": "code",
      "source": "print(tupla_anid [2])\nprint(tupla_anid [3][1]) \n# Este es el primer elemento de la tupla, que forma parte del tercer elemento \n# de la tupla_anid",
      "metadata": {
        "trusted": true
      },
      "outputs": [
        {
          "name": "stdout",
          "output_type": "stream",
          "text": "3\nB\n"
        }
      ],
      "execution_count": 10
    },
    {
      "cell_type": "code",
      "source": "#Son iterables\nfor i in tupla_anid:\n    print (i)\n    \n#Al igual que las listas\nlista_anid = [1,2,3,[\"A\",\"B\",\"C\"]]\nfor j in lista_anid:\n    print (j)",
      "metadata": {
        "trusted": true
      },
      "outputs": [
        {
          "name": "stdout",
          "output_type": "stream",
          "text": "1\n2\n3\n('A', 'B', 'C')\n1\n2\n3\n['A', 'B', 'C']\n"
        }
      ],
      "execution_count": 13
    },
    {
      "cell_type": "code",
      "source": "#Slicing\ntupla_bis = tupla_anid[2:]\nprint(tupla_bis)",
      "metadata": {
        "trusted": true
      },
      "outputs": [
        {
          "name": "stdout",
          "output_type": "stream",
          "text": "(3, ('A', 'B', 'C'))\n"
        }
      ],
      "execution_count": 14
    },
    {
      "cell_type": "markdown",
      "source": "<table align=\"left\">\n <tr>\n     <td style=\"text-align:left\">\n         <h3>ERRORES tuplas</h3>\n         \n </td></tr>\n</table>",
      "metadata": {
        "id": "muXZqs5_VXRV"
      }
    },
    {
      "cell_type": "markdown",
      "source": "Cuidado que las tuplas son inmutables, y una vez creadas no las podrás modificar después",
      "metadata": {
        "id": "8m0JgEJBVXRW"
      }
    },
    {
      "cell_type": "code",
      "source": "tupla_error = (1,2,3,4,5)\ntupla_error[3] = 23",
      "metadata": {
        "id": "hQIfsfkGVXRW",
        "trusted": true
      },
      "outputs": [
        {
          "ename": "<class 'TypeError'>",
          "evalue": "'tuple' object does not support item assignment",
          "traceback": [
            "\u001b[0;31m---------------------------------------------------------------------------\u001b[0m",
            "\u001b[0;31mTypeError\u001b[0m                                 Traceback (most recent call last)",
            "Cell \u001b[0;32mIn[15], line 2\u001b[0m\n\u001b[1;32m      1\u001b[0m tupla_error \u001b[38;5;241m=\u001b[39m (\u001b[38;5;241m1\u001b[39m,\u001b[38;5;241m2\u001b[39m,\u001b[38;5;241m3\u001b[39m,\u001b[38;5;241m4\u001b[39m,\u001b[38;5;241m5\u001b[39m)\n\u001b[0;32m----> 2\u001b[0m \u001b[43mtupla_error\u001b[49m\u001b[43m[\u001b[49m\u001b[38;5;241;43m3\u001b[39;49m\u001b[43m]\u001b[49m \u001b[38;5;241m=\u001b[39m\u001b[38;5;241m23\u001b[39m\n",
            "\u001b[0;31mTypeError\u001b[0m: 'tuple' object does not support item assignment"
          ],
          "output_type": "error"
        }
      ],
      "execution_count": 15
    },
    {
      "cell_type": "code",
      "source": "# Si queremos añadir elementos, podemos meterlos en otra tupla y sumarlas para que se concatenen\ntupla_1 = (1,2,3)\nprint(\"la tupla 1 es\",tupla_1)\ntupla_2 = (4,5,6)\nprint(\"la tupla 2 es\",tupla_2)\ntupla_3=tupla_1+tupla_2\nprint(\"la tupla 3 es\",tupla_3)\n\n#Aunque no se puede modificar una tupla por elementos lo que si se puede es asisnar una\n#nueva tupla a la variable\ntupla_1=tupla_1+tupla_2\nprint(\"la tupla 1 es\",tupla_1)",
      "metadata": {
        "id": "Mzno471AVXRW",
        "trusted": true
      },
      "outputs": [
        {
          "name": "stdout",
          "output_type": "stream",
          "text": "la tupla 1 es (1, 2, 3)\nla tupla 2 es (4, 5, 6)\nla tupla 3 es (1, 2, 3, 4, 5, 6)\nla tupla 1 es (1, 2, 3, 4, 5, 6)\n"
        }
      ],
      "execution_count": 19
    },
    {
      "cell_type": "markdown",
      "source": "### Listas y tuplas\n[al indice](#Contenidos)  \n\nPodemos combinar listas y tuplas que no tendremos ningún problema, siempre y cuando respetemos las propiedades de cada tipo de dato.",
      "metadata": {
        "id": "2c0jT1L-VXRW"
      }
    },
    {
      "cell_type": "code",
      "source": "lista_tupla = [\"Fresas\",(\"Naranjas\",\"Limones\"),\"Kiwis\"]\ntupla_lista= (\"Fresas\",[\"Naranjas\",\"Limones\"],\"Kiwis\")\n\nprint(lista_tupla,type(lista_tupla))\nprint(tupla_lista,type(tupla_lista))\n",
      "metadata": {
        "id": "9G0vkrJZVXRW",
        "trusted": true
      },
      "outputs": [
        {
          "name": "stdout",
          "output_type": "stream",
          "text": "['Fresas', ('Naranjas', 'Limones'), 'Kiwis'] <class 'list'>\n('Fresas', ['Naranjas', 'Limones'], 'Kiwis') <class 'tuple'>\n"
        },
        {
          "ename": "<class 'TypeError'>",
          "evalue": "'str' object does not support item assignment",
          "traceback": [
            "\u001b[0;31m---------------------------------------------------------------------------\u001b[0m",
            "\u001b[0;31mTypeError\u001b[0m                                 Traceback (most recent call last)",
            "Cell \u001b[0;32mIn[22], line 8\u001b[0m\n\u001b[1;32m      5\u001b[0m \u001b[38;5;28mprint\u001b[39m(tupla_lista,\u001b[38;5;28mtype\u001b[39m(tupla_lista))\n\u001b[1;32m      7\u001b[0m \u001b[38;5;66;03m#Parece ser que no se puede cambiar el valor de la lista dentro de la tupla\u001b[39;00m\n\u001b[0;32m----> 8\u001b[0m \u001b[43mtupla_lista\u001b[49m\u001b[43m[\u001b[49m\u001b[38;5;241;43m2\u001b[39;49m\u001b[43m]\u001b[49m\u001b[43m[\u001b[49m\u001b[38;5;241;43m1\u001b[39;49m\u001b[43m]\u001b[49m \u001b[38;5;241m=\u001b[39m \u001b[38;5;124m\"\u001b[39m\u001b[38;5;124mCacao\u001b[39m\u001b[38;5;124m\"\u001b[39m\n",
            "\u001b[0;31mTypeError\u001b[0m: 'str' object does not support item assignment"
          ],
          "output_type": "error"
        }
      ],
      "execution_count": 22
    },
    {
      "cell_type": "code",
      "source": "#Parece ser que no se puede cambiar el valor de la lista dentro de la tupla\ntupla_lista[2][1] = \"Cacao\"\n",
      "metadata": {
        "id": "d54lHfKFVXRW"
      },
      "outputs": [],
      "execution_count": null
    }
  ]
}