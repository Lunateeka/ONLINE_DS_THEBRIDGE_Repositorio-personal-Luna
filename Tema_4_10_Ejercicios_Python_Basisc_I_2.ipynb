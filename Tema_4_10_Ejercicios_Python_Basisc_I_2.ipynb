{
  "metadata": {
    "kernelspec": {
      "name": "python",
      "display_name": "Python (Pyodide)",
      "language": "python"
    },
    "language_info": {
      "codemirror_mode": {
        "name": "python",
        "version": 3
      },
      "file_extension": ".py",
      "mimetype": "text/x-python",
      "name": "python",
      "nbconvert_exporter": "python",
      "pygments_lexer": "ipython3",
      "version": "3.8"
    },
    "colab": {
      "provenance": []
    }
  },
  "nbformat_minor": 4,
  "nbformat": 4,
  "cells": [
    {
      "cell_type": "markdown",
      "source": "![TheBridge_logo_RGB_color.jpg](attachment:TheBridge_logo_RGB_color.jpg)",
      "metadata": {
        "id": "GB2K42EgK9q5"
      }
    },
    {
      "cell_type": "markdown",
      "source": "![imagen](./img/ejercicios.png)",
      "metadata": {
        "id": "GnwVlO37K9q6"
      }
    },
    {
      "cell_type": "markdown",
      "source": "## EJERCICIOS PYTHON BASICO 2:\n## Tipos y conversión de tipos",
      "metadata": {
        "id": "_9pTa0PXK9q6"
      }
    },
    {
      "cell_type": "markdown",
      "source": "Completa los siguiente ejercicios, la solución a los mismos se publicarán en el repo del curso a lo largo del sprint",
      "metadata": {
        "id": "tYmV-veoK9q6"
      }
    },
    {
      "cell_type": "markdown",
      "source": "![ejercicio.png](./img/ejercicio.png)\n\n## Ejercicio 1\n\n1. Crea dos variables numericas: un `int` y un `float`\n2. Comprueba sus tipos\n3. Sumalas en otra nueva\n4. ¿De qué tipo es la nueva variable?\n5. Elimina las dos primeras variables creadas",
      "metadata": {
        "id": "YAdFbIOXK9q7"
      }
    },
    {
      "cell_type": "code",
      "source": "variable_int=1\nvariable_float=3.14\nprint(type(variable_int))\nprint(type(variable_float))\nvariable_suma=variable_int+variable_float\nprint(type(variable_suma))\ndel variable_int,variable_float",
      "metadata": {
        "id": "8QZmuLOsK9q7",
        "trusted": true
      },
      "outputs": [
        {
          "name": "stdout",
          "output_type": "stream",
          "text": "<class 'int'>\n<class 'float'>\n<class 'float'>\n"
        }
      ],
      "execution_count": 4
    },
    {
      "cell_type": "markdown",
      "source": "![ejercicio.png](./img/ejercicio.png)\n\n## Ejercicio 2\nEscribe un programa para pasar de grados a radianes. Hay que usar `input`. Recuerda que la conversión se realiza mediante\n\nradianes = grados*(pi/180)",
      "metadata": {
        "id": "f5xfpkpQK9q7"
      }
    },
    {
      "cell_type": "code",
      "source": "import math\ndef DegToRad (deg):\n    for num_let in deg:\n        if num_let == \"º\":\n           deg = deg[:-1]\n    print(float(deg) * math.pi / 180, \"radianes\")\ndeg_input=input(\"Convierte tus grados en radianes :\")\nDegToRad (deg_input)",
      "metadata": {
        "id": "V50TUQMzK9q7",
        "trusted": true
      },
      "outputs": [
        {
          "output_type": "stream",
          "name": "stdin",
          "text": "Convierte tus grados en radianes : 190º\n"
        },
        {
          "name": "stdout",
          "output_type": "stream",
          "text": "3.3161255787892263 radianes\n"
        }
      ],
      "execution_count": 30
    },
    {
      "cell_type": "markdown",
      "source": "![ejercicio.png](./img/ejercicio.png)\n\n## Ejercicio 3\nEscribe un programa que calcule el area de un paralelogramo (base x altura). También con `input`",
      "metadata": {
        "id": "zX3-p58CK9q7"
      }
    },
    {
      "cell_type": "code",
      "source": "def Area_Paralelogramo (base,altura,unidades):\n    print(\"El area de tu paralelogramo es \", base*altura,\" \", unidades,\"^2\", sep=\"\")\nbase_paralelogramo = float(input(\"¿Cuál es la base de tu paralelogramo?\"))\naltura_paralelogramo = float(input(\"¿Cuál es la altura de tu paralelogramo?\"))\nunidades_paralelogramo = input(\"¿Cuál es la unidad de medida que has utilizado en las indicaciones anteriores?\")\nArea_Paralelogramo (base_paralelogramo,altura_paralelogramo,unidades_paralelogramo)",
      "metadata": {
        "id": "s2QfNiBAK9q7",
        "trusted": true
      },
      "outputs": [
        {
          "output_type": "stream",
          "name": "stdin",
          "text": "¿Cuál es la base de tu paralelogramo? 20\n¿Cuál es la altura de tu paralelogramo? 40\n¿Cuál es la unidad de medida que has utilizado en las indicaciones anteriores? m\n"
        },
        {
          "name": "stdout",
          "output_type": "stream",
          "text": "El area de tu paralelogramo es 800.0 m^2\n"
        }
      ],
      "execution_count": 39
    },
    {
      "cell_type": "markdown",
      "source": "![ejercicio.png](./img/ejercicio.png)\n\n## Ejercicio 4\nEscribe un programa que calcule el area de un paralelogramo (base x altura). También con `input`. En este caso debe ser capaz de admitir valores reales, con decimales, para base y altura en español. (PISTA: Recuerda que tendrás que hacer uso del método replace)",
      "metadata": {
        "id": "-6TBo_HvK9q8"
      }
    },
    {
      "cell_type": "code",
      "source": "def Area_Paralelogramo_ESP (base,altura,unidades):\n    for num_signo in base:\n        if num_signo == \",\":\n           base=base.replace(\",\",\".\")\n    for num_signo in altura:\n        if num_signo == \",\":\n           altura=altura.replace(\",\",\".\")\n    print(\"El area de tu paralelogramo es \", float(base)*float(altura),\" \", unidades,\"^2\", sep=\"\")\n\nbase_paralelogramo = input(\"¿Cuál es la base de tu paralelogramo?\")\naltura_paralelogramo = input(\"¿Cuál es la altura de tu paralelogramo?\")\nunidades_paralelogramo = input(\"¿Cuál es la unidad de medida que has utilizado en las indicaciones anteriores?\")\nArea_Paralelogramo_ESP (base_paralelogramo,altura_paralelogramo,unidades_paralelogramo)",
      "metadata": {
        "id": "uzUIa1JqK9q8",
        "trusted": true
      },
      "outputs": [
        {
          "output_type": "stream",
          "name": "stdin",
          "text": "¿Cuál es la base de tu paralelogramo? 10,78\n¿Cuál es la altura de tu paralelogramo? 89,01\n¿Cuál es la unidad de medida que has utilizado en las indicaciones anteriores? m\n"
        },
        {
          "name": "stdout",
          "output_type": "stream",
          "text": "El area de tu paralelogramo es 959.5278 m^2\n"
        }
      ],
      "execution_count": 47
    },
    {
      "cell_type": "markdown",
      "source": "![ejercicio.png](./img/ejercicio.png)\n\n## Ejercicio 5\nComplete el siguiente código para solicitar al usuario su nombre y su edad. Luego, calcule en qué año nació el usuario y muestre el resultado.",
      "metadata": {
        "id": "5zKugi5iK9q8"
      }
    },
    {
      "cell_type": "code",
      "source": "nombre = input(\"¿Cuál es tu nombre? \")\nedad = int(input(\"¿Cuál es tu edad? \"))\naño_actual = 2025  # Puedes cambiarlo según el año en curso\naño_nacimiento = año_actual-edad\n\nprint(f\"{nombre}, naciste en el año {año_nacimiento}.\")\n",
      "metadata": {
        "id": "LISfTnRkK9q8",
        "trusted": true
      },
      "outputs": [
        {
          "output_type": "stream",
          "name": "stdin",
          "text": "¿Cuál es tu nombre?  Luna\n¿Cuál es tu edad?  25\n"
        },
        {
          "name": "stdout",
          "output_type": "stream",
          "text": "Luna, naciste en el año 2000.\n"
        }
      ],
      "execution_count": 49
    },
    {
      "cell_type": "code",
      "source": "",
      "metadata": {
        "trusted": true
      },
      "outputs": [],
      "execution_count": null
    }
  ]
}