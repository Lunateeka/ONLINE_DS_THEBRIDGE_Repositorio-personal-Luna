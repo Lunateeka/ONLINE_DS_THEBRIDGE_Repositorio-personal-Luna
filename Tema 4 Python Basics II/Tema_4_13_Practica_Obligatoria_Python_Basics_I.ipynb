{
  "metadata": {
    "kernelspec": {
      "name": "python",
      "display_name": "Python (Pyodide)",
      "language": "python"
    },
    "language_info": {
      "codemirror_mode": {
        "name": "python",
        "version": 3
      },
      "file_extension": ".py",
      "mimetype": "text/x-python",
      "name": "python",
      "nbconvert_exporter": "python",
      "pygments_lexer": "ipython3",
      "version": "3.8"
    },
    "colab": {
      "provenance": []
    }
  },
  "nbformat_minor": 4,
  "nbformat": 4,
  "cells": [
    {
      "cell_type": "markdown",
      "source": "![TheBridge_logo_RGB_color.jpg](attachment:TheBridge_logo_RGB_color.jpg)",
      "metadata": {
        "id": "BNCAebJANPxq"
      }
    },
    {
      "cell_type": "markdown",
      "source": "![imagen](./img/ejercicios.png)",
      "metadata": {
        "id": "A9eDZvZaNPxs"
      }
    },
    {
      "cell_type": "markdown",
      "source": "## PRACTICA OBLIGATORIA: PYTHON",
      "metadata": {
        "id": "59zPhBxXNPxs"
      }
    },
    {
      "cell_type": "markdown",
      "source": "* La práctica obligatoria de esta unidad consiste en dos ejercicios de programación libre a completar.   \n* Recuerda que debes subirla a tu repositorio personal antes de la sesión en vivo para que puntúe adecuadamente.  \n* Recuerda también que no es necesario que esté perfecta, sólo es necesario que se vea el esfuerzo.\n* Esta práctica se resolverá en la sesión en vivo correspondiente y la solución se publicará en el repo del curso.",
      "metadata": {
        "id": "mv2kb1GMNPxs"
      }
    },
    {
      "cell_type": "markdown",
      "source": "![ejercicio.png](./img/ejercicio.png)\n## PARTE I\n\nEn este ejercicio debes simular un chatbot al que le haremos pedidos de pizzas.\n\n1. El chatbot tiene que saludar con un: \"Buenas tardes, bienvenido al servicio de pedido online, el precio de nuestra pizzas es de 8,95 para la familiar o de 9,90 para la mediana ¿Cuántas pizzas  familiares desea?\"\n2. El ususario tiene que introducir un número de pizzas en una variable llamada 'pizz_familiar'\n3. El chatbot debe responder: \"Estupendo, ¿cuántas pizzas medianas desea?\" y guardar el número de pizzas medianas en otra variable 'pizz_mediana'\n4. Además debe responder del chatbot: \"Estupendo, se están preparando 'pizz' pizzas familiares y 'pizz_mediana' pizzas medianas. Digame su dirección\"\n5. El ususario tiene que introducir una direccion en formato String en otra variable llamada 'direcc'\n6. El programa debe calcular el monto total\n7. Respuesta final del chatbot: \"Le mandaremos las '(número total de pizzas)' pizzas a la dirección 'direcc'. Serán <precio total a pagar en euros>. Muchas gracias por su pedido.\"\n         \n",
      "metadata": {
        "id": "Kl9JzST2NPxt",
        "jupyter": {
          "source_hidden": true
        }
      }
    },
    {
      "cell_type": "code",
      "source": "import time \nimport tqdm\n#He intentado imitar un poco un chat he añadido unos tiempos de espera y unas barras de progreso\n#Recomiendo minimizar el codigo para disfrutar de la experiencia al completo :D\n#Para ello pulsa la barra de la izquierda antes de ejecutar el código0\nprint (\"¡Buenas tardes!\")\ntime.sleep (2)\nprint(\"¡Bienvenido al servicio de pedido online! :)\")\ntime.sleep (2)\nprint(\"Le informamos que el precio de nuestra pizzas es de 8,95 para la familiar o de 9,90 para la mediana\")\ntime.sleep (2)\npizz_familiar=input(\"¿Cuántas pizzas  familiares desea?\")\ntime.sleep (2)\nif int(pizz_familiar) == 0:\n    print(\"De acuerdo...\")\n    time.sleep (3)\n    pizz_mediana=input(\"Entonces, ¿Cuántas pizzas medianas desea?\")\nelse:\n    print(\"¡Marchando!\")\n    time.sleep (2)\n    pizz_mediana=input(\"¿Y cuántas pizzas medianas desea?\")\ntime.sleep (2)\nprint(\"¡Estupendo!\")\ntime.sleep (2)\nif int(pizz_familiar) == 0 :\n    if int(pizz_mediana) == 1:\n        print(\"Ya estamos preparando su pizza mediana\")\n    else : \n        print(f\"Ya estamos preparando sus {pizz_mediana} pizzas medianas\")\nelif int(pizz_mediana) == 0 :\n    if int(pizz_familiar) == 1:\n        print(\"Ya estamos preparando su pizza familiar\")\n    else : \n        print(f\"Ya estamos preparando sus {pizz_familiar} pizzas familiares\")\nelif int(pizz_mediana) and int(pizz_familiar) == 1 :\n    if pizz_mediana == 1:\n        print(\"ya estamos preparando su pizza mediana y familiar\")\nelse :\n    print(f\"Ya se están preparando {pizz_familiar} pizzas familiares y {pizz_mediana} pizzas medianas\")\ntime.sleep (2)\ndirecc=input(\"¿Me podría indicar su dirección?\")\nprecio=int(pizz_familiar)*8.95+int(pizz_mediana)*9.90\nsuma=int(pizz_mediana)+int(pizz_familiar)\ntime.sleep (2)\nif int(pizz_familiar) == 0 :\n    if int(pizz_mediana) == 1:\n       print(f\"Su pedido ya se está tramitando. Le mandaremos su pizza mediana a la siguiente la dirección: {direcc}\")\n    else : \n        print(f\"Su pedido ya se está tramitando. Le mandaremos sus {pizz_mediana} pizzas medianas a la siguiente la dirección: {direcc}\")\nelif int(pizz_mediana) == 0 :\n    if int(pizz_familiar) == 1:\n       print(f\"Su pedido ya se está tramitando. Le mandaremos su pizza familiar a la siguiente la dirección: {direcc}\")\n    else : \n        print(f\"Su pedido ya se está tramitando. Le mandaremos sus {pizz_familiar} pizzas familiares a la siguiente la dirección: {direcc}\")\nelse :\n    print(f\"Su pedido ya se está tramitando. Le mandaremos las {suma} pizzas a la siguiente dirección: {direcc}\")\ntime.sleep (2)\nprint(f\"En total. Serán...\")\nfrom tqdm import trange\nfor i in trange(100, desc=\"calculado...\"):\n    i=i+1\n    time.sleep(0.03)\nprint(f\"¡{precio}€!\")\ntime.sleep (2)\nprint(\"Podrá pagar a contrarembolso o desde la propia aplicación\")\ntime.sleep (2)\nprint(\"¡Muchas gracias por su pedido! ʕ•́ᴥ•̀ʔっ♡\")",
      "metadata": {
        "id": "qkKibyt-NPxt",
        "trusted": true
      },
      "outputs": [
        {
          "name": "stdout",
          "output_type": "stream",
          "text": "¡Buenas tardes!\n¡Bienvenido al servicio de pedido online! :)\nLe informamos que el precio de nuestra pizzas es de 8,95 para la familiar o de 9,90 para la mediana\n"
        },
        {
          "output_type": "stream",
          "name": "stdin",
          "text": "¿Cuántas pizzas  familiares desea? 0\n"
        },
        {
          "name": "stdout",
          "output_type": "stream",
          "text": "De acuerdo...\n"
        },
        {
          "output_type": "stream",
          "name": "stdin",
          "text": "Entonces, ¿Cuántas pizzas medianas desea? 8\n"
        },
        {
          "name": "stdout",
          "output_type": "stream",
          "text": "¡Estupendo!\nya estamos preparando sus 8 pizzas medianas\n"
        },
        {
          "output_type": "stream",
          "name": "stdin",
          "text": "¿Me podría indicar su dirección? calle\n"
        },
        {
          "name": "stdout",
          "output_type": "stream",
          "text": "Su pedido ya se está tramitando. Le mandaremos sus 8 pizzas medianas a la siguiente la dirección: calle\nEn total. Serán...\n"
        },
        {
          "name": "stderr",
          "output_type": "stream",
          "text": "calculado...: 100%|██████████| 100/100 [00:03<00:00, 33.22it/s]\n"
        },
        {
          "name": "stdout",
          "output_type": "stream",
          "text": "¡79.2€!\nPodrá pagar a contrarembolso o desde la propia aplicación\n¡Muchas gracias por su pedido! ʕ•́ᴥ•̀ʔっ♡\n"
        }
      ],
      "execution_count": 40
    },
    {
      "cell_type": "markdown",
      "source": "![ejercicio.png](./img/ejercicio.png)\n## Parte II\n\nCrea un programa que realice las siguientes acciones:\n\n1. Solicite al usuario que introduzca 3 números enteros separados por comas (por ejemplo: 1,2,3).\n2. Convierta esa entrada en una lista de números enteros.\n3. Utilizando funciones built-in, determine el número máximo, el número mínimo y la suma total de los números introducidos.\n4. Determine la verdad o falsedad de la siguiente afirmación: \"El número máximo menos el número mínimo es igual a la suma total dividida por 5\".\n5. Muestre los resultados utilizando print.",
      "metadata": {
        "id": "f0oqoGDGNPxt"
      }
    },
    {
      "cell_type": "code",
      "source": "input_user = input(\"Introduce tres numeros separados por comas\")\nlista_string=list(input_user.split(\",\"))\na= float(lista_string[0])\nb= float(lista_string[1])\nc= float(lista_string[2])\nlista_float=[a,b,c]\nprint(\"El numero máximo es el\",max(lista_float))\nprint(\"El numero mínimo es el\",min(lista_float))\nprint(\"La suma de los numeros que me has dado es\",sum(lista_float))\nprint('La afirmación \"El número máximo menos el número mínimo es igual a la suma total dividida por 5\" es',max(lista_float)-min(lista_float)==sum(lista_float)/5)",
      "metadata": {
        "id": "rAlpWiQ9NPxt",
        "trusted": true
      },
      "outputs": [
        {
          "output_type": "stream",
          "name": "stdin",
          "text": "Introduce tres numeros separados por comas 1,2,3\n"
        },
        {
          "name": "stdout",
          "output_type": "stream",
          "text": "El numero máximo es el 3.0\nEl numero mínimo es el 1.0\nLa suma de los numeros que me has dado es 6.0\nLa afirmación \"El número máximo menos el número mínimo es igual a la suma total dividida por 5\" es False\n"
        }
      ],
      "execution_count": 13
    },
    {
      "cell_type": "code",
      "source": "#otra opción para listas más grandes\ninput_user2 = input(\"Introduce una serie de números (la cantidad que quieras!) separados por comas\") #otra opción para listas más grandes\nlista_string2=list(input_user2.split(\",\"))\nlista_float2=list()\nfor i in range(len(lista_string2)): \n    lista_float2.append(float(lista_string2[i]))\n    i=i+1\nprint(\"El numero máximo es el\",max(lista_float2))\nprint(\"El numero mínimo es el\",min(lista_float2))\nprint(\"La suma de los numeros que me has dado es\",sum(lista_float2))\nprint('La afirmación \"El número máximo menos el número mínimo es igual a la suma total dividida por 5\" es',max(lista_float2)-min(lista_float2)==sum(lista_float2)/5)",
      "metadata": {
        "trusted": true
      },
      "outputs": [
        {
          "output_type": "stream",
          "name": "stdin",
          "text": "Introduce una serie de números (la cantidad que quieras!) separados por comas 1,2,3,4,5,6,7,8,9\n"
        },
        {
          "name": "stdout",
          "output_type": "stream",
          "text": "El numero máximo es el 9.0\nEl numero mínimo es el 1.0\nLa suma de los numeros que me has dado es 45.0\nLa afirmación \"El número máximo menos el número mínimo es igual a la suma total dividida por 5\" es False\n"
        }
      ],
      "execution_count": 1
    },
    {
      "cell_type": "code",
      "source": "",
      "metadata": {
        "trusted": true
      },
      "outputs": [],
      "execution_count": null
    }
  ]
}