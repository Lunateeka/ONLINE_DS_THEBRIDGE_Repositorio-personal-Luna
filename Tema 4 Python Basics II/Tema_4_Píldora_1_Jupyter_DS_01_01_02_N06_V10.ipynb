{
  "metadata": {
    "kernelspec": {
      "name": "python",
      "display_name": "Python (Pyodide)",
      "language": "python"
    },
    "language_info": {
      "codemirror_mode": {
        "name": "python",
        "version": 3
      },
      "file_extension": ".py",
      "mimetype": "text/x-python",
      "name": "python",
      "nbconvert_exporter": "python",
      "pygments_lexer": "ipython3",
      "version": "3.8"
    },
    "colab": {
      "provenance": []
    }
  },
  "nbformat_minor": 4,
  "nbformat": 4,
  "cells": [
    {
      "cell_type": "markdown",
      "source": "<img src = \"./img/TheBridge_logo_RGB_color.jpg\" width = 500>\n<img src = \"./img/python.jpg\" width = 500>",
      "metadata": {
        "id": "qdYK1iBWUK82"
      }
    },
    {
      "cell_type": "markdown",
      "source": "# Python Basics I",
      "metadata": {
        "id": "Y-kHJbTEUK82"
      }
    },
    {
      "cell_type": "markdown",
      "source": "## Contenidos",
      "metadata": {
        "id": "ghcHbM_0UK83"
      }
    },
    {
      "cell_type": "markdown",
      "source": "* [Operaciones con booleanos](#Operaciones-con-booleanos)",
      "metadata": {
        "id": "nmbPDLutUK83"
      }
    },
    {
      "cell_type": "markdown",
      "source": "## Operaciones con booleanos\n[al indice](#Contenidos)  \n\nTodas las operaciones que realizabamos en el apartado anterior devolvían un tipo de dato concreto: un booleano. `True` o `False`. Pero ¿cómo harías si se tienen que cumplir 3 condiciones, o solo una de esas tres, o que no se cumplan 5 condiciones?\nPara este tipo de operaciones recurrimos al [*Álgebra de Boole*](https://es.wikipedia.org/wiki/%C3%81lgebra_de_Boole#:~:text=El%20%C3%A1lgebra%20de%20Boole%2C%20tambi%C3%A9n,que%20esquematiza%20las%20operaciones%20l%C3%B3gicas.). Se trata de una rama del álgebra que se utiliza en electrónica, pero que tiene un sin fin de aplicaciones, no solo téncicas, sino aplicables a la vida cotidiana. Estas matemáticas pueden llegar a ser muy complejas aún utilizando ñunicamente dos valores: `True` y `False`. Las operaciones más comunes son **AND, OR, NOT**.\nEn las siguientes tablas tienes todos los posibles resultados de las puertas AND, OR, NOR, dependiendo de sus inputs.\n\n![FY82H5GIIEUM4MV.webp](attachment:d892e040-0846-4954-847e-0ecabac1b423.webp)\n\nPuede parecer complejo pero a efectos prácticos, y sin meternos con otro tipo de puertas lógicas, te recomiendo seguir estas reglas:\n* **AND**: Se tienen que cumplir ambas condiciones para que sea un `True`\n* **OR**: Basta que se cumpla al menos una condicion para que sea `True`\n* **NOT**: Lo contrario de lo que haya\n\nVeamos un ejemplo práctico para aclarar estos conceptos. Imaginemos que queremos comprar un ordenador, pero nos cuesta decidirnos. Eso sí, tenemos claras las siguentes condiciones a la hora de elegir\n* La RAM me vale que tenga 16, 32 o 64 GB\n* En cuanto al procesador y disco duro, la combinación que mejor me viene es un i3 con 500GB de disco.\n* Precio: que no pase de los 800 €",
      "metadata": {
        "id": "KtlaMpJ0UK83"
      },
      "attachments": {
        "d892e040-0846-4954-847e-0ecabac1b423.webp": {
          "image/webp": "[encoded data removed]"
        }
      }
    },
    {
      "cell_type": "code",
      "source": "# Primer ordenador\nram1 = 32\nprocess1 = \"i5\"\ndisco1 = 500\nprecio1 = 850\n\n# Segundo ordenador\nram2 = 8\nprocess2 = \"i5\"\ndisco2 = 500\nprecio2 = 600\n\n# Tercer ordenador\nram3 = 32\nprocess3 = \"i3\"\ndisco3 = 500\nprecio3 = 780",
      "metadata": {
        "id": "VoHF2eEMUK84",
        "trusted": true
      },
      "outputs": [],
      "execution_count": 2
    },
    {
      "cell_type": "markdown",
      "source": "Veamos cómo implemento esto mediante operaciones booleanas",
      "metadata": {
        "id": "krQ0Ii9bUK84"
      }
    },
    {
      "cell_type": "code",
      "source": "# Primero, calculamos el valor de estas condiciones por separado\n# para el primer ordenador\nprint(\"Ordenador_1\")\ncond_ram1 = (ram1 == 16 or ram1 == 32 or ram1 == 64)\ncond_process1 = (process1 == \"i3\" and disco1 == 500)\ncond_precio1 = (precio1 < 800)\ncond_total1 = cond_ram1 and cond_process1 and cond_precio1\nprint(\"TOTAL =\",cond_total1,\"RAM =\",cond_ram1,\"PROCESADOR =\",\\\n      cond_process1,\"PRECIO =\",cond_precio1)\n#Es curioso destacar que he para lineas de código demasiado largas podemos usar \\",
      "metadata": {
        "id": "KivMA05CUK85",
        "trusted": true
      },
      "outputs": [
        {
          "name": "stdout",
          "output_type": "stream",
          "text": "Ordenador_1\nTOTAL = False RAM = True PROCESADOR = False PRECIO = False\n"
        }
      ],
      "execution_count": 3
    },
    {
      "cell_type": "code",
      "source": "",
      "metadata": {
        "id": "_X64dRbUUK85"
      },
      "outputs": [],
      "execution_count": null
    },
    {
      "cell_type": "markdown",
      "source": "El primer ordenador cumple el requisito de ram, pero no los de precio y procesador/disco. Veamos los otros dos si los cumplen",
      "metadata": {
        "id": "FXMLA18jUK85"
      }
    },
    {
      "cell_type": "code",
      "source": "# Calculamos las condiciones para los otros ordenadores\nprint(\"Ordenador_2\")\ncond_ram2 = (ram2 == 16 or ram2 == 32 or ram2 == 64)\ncond_process2 = (process2 == \"i3\" and disco2 == 500)\ncond_precio2 = (precio2 < 800)\ncond_total2 = cond_ram2 and cond_process2 and cond_precio2\nprint(\"TOTAL =\",cond_total2,\"RAM =\",cond_ram2,\"PROCESADOR =\",\\\n      cond_process2,\"PRECIO =\",cond_precio2)\n\n\nprint(\"Ordenador_3\")\ncond_ram3 = (ram3 == 16 or ram3 == 32 or ram3 == 64)\ncond_process3 = (process3 == \"i3\" and disco3 == 500)\ncond_precio3 = (precio3 < 800)\ncond_total3 = cond_ram3 and cond_process3 and cond_precio3\nprint(\"TOTAL =\",cond_total3,\"RAM =\",cond_ram3,\"PROCESADOR =\",\\\n      cond_process3,\"PRECIO =\",cond_precio3)",
      "metadata": {
        "id": "OrfDUyqOUK85",
        "trusted": true
      },
      "outputs": [
        {
          "name": "stdout",
          "output_type": "stream",
          "text": "Ordenador_2\nTOTAL = False RAM = False PROCESADOR = False PRECIO = True\nOrdenador_3\nTOTAL = True RAM = True PROCESADOR = True PRECIO = True\n"
        }
      ],
      "execution_count": 4
    },
    {
      "cell_type": "markdown",
      "source": "¡Bingo! El tercer ordenador cumple todas las condiciones para ser mi futura compra. Verás en próximos notebooks que esto se puede hacer todavía más sencillo mediante bucles y funciones.\n\nSi quieres aprender más sobre el **Álgebra de Boole**, te recomiendo [esta página](https://ryanstutorials.net/boolean-algebra-tutorial/)",
      "metadata": {
        "id": "CKkENyteUK85"
      }
    },
    {
      "cell_type": "code",
      "source": "#Otra opcion\nprint((ram3 == 16 or ram3 == 32 or ram3 == 64) and (process3 == \"i3\" and disco3 == 500) \\\nand precio3 < 800)",
      "metadata": {
        "id": "luyOXkLYUK85",
        "trusted": true
      },
      "outputs": [
        {
          "name": "stdout",
          "output_type": "stream",
          "text": "True\n"
        }
      ],
      "execution_count": 8
    },
    {
      "cell_type": "code",
      "source": "",
      "metadata": {
        "id": "mqhXNzV-UK86"
      },
      "outputs": [],
      "execution_count": null
    }
  ]
}