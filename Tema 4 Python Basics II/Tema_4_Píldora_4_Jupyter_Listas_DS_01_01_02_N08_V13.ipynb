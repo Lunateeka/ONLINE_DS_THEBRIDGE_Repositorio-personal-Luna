{
  "metadata": {
    "kernelspec": {
      "name": "python",
      "display_name": "Python (Pyodide)",
      "language": "python"
    },
    "language_info": {
      "codemirror_mode": {
        "name": "python",
        "version": 3
      },
      "file_extension": ".py",
      "mimetype": "text/x-python",
      "name": "python",
      "nbconvert_exporter": "python",
      "pygments_lexer": "ipython3",
      "version": "3.8"
    },
    "colab": {
      "provenance": []
    }
  },
  "nbformat_minor": 4,
  "nbformat": 4,
  "cells": [
    {
      "cell_type": "markdown",
      "source": "<img src = \"./img/TheBridge_logo_RGB_color.jpg\" width = 500><img src = \"./img/python.jpg\" width = 500>",
      "metadata": {
        "id": "TSv0NCDYUjZs"
      }
    },
    {
      "cell_type": "markdown",
      "source": "# Python Basics I",
      "metadata": {
        "id": "Tjpwhst9UjZt"
      }
    },
    {
      "cell_type": "markdown",
      "source": "## Contenidos",
      "metadata": {
        "id": "DI1mcnMCUjZu"
      }
    },
    {
      "cell_type": "markdown",
      "source": "* [Listas](#Listas)\n\n    ",
      "metadata": {
        "id": "q31UMlIOUjZu"
      }
    },
    {
      "cell_type": "markdown",
      "source": "## Listas\n[al indice](#Contenidos)  \nSe trata de otro de los tipos de datos de Python más usados. Dentro de las colecciones, que veremos más adelante, la lista es la colección que normalmente se le da más uso. **Nos permiten almacenar conjuntos de variables u objetos**, y son elementos de lo más versátiles puesto que podemos almacenar objetos de distintos tipos, modificarlos, eliminarlos, meter listas dentro de listas... Sus dos caractrísticas principales son:\n* **Mutables**: una vez se ha creado la lista, se puede modificar\n* **Ordenada**: Los elementos tienen un cierto orden, lo que nos permite acceder al elemento que queramos teniendo en cuenta tal orden\n\nEn cuanto a su sintaxis, cuando declaremos la lista simplemente hay que separar cada elemento con comas, y rodearlo todo con corchetes.",
      "metadata": {
        "id": "iWvkzeuLUjZv"
      }
    },
    {
      "cell_type": "code",
      "source": "#Lista de numeros\nnumeros = [1,3,5,6]\nprint(numeros)\nprint(type(numeros))",
      "metadata": {
        "id": "m9mlCWC-UjZv",
        "trusted": true
      },
      "outputs": [
        {
          "name": "stdout",
          "output_type": "stream",
          "text": "[1, 3, 5, 6]\n<class 'list'>\n"
        }
      ],
      "execution_count": 3
    },
    {
      "cell_type": "code",
      "source": "#Lista de strings\nstrings = [\"Esto\",\"es\",\"una\",\"lista\"]\nprint(strings)\n\n#lista de booleanos\nbooleanos = [True, False, not False, True or False, False and False]\nprint(booleanos)\n\n#Lista de tipos mezclados\nmix = [\"Esto es\", 12,-34.5,True, False,\"lista\"]\nprint(mix)\nprint(type(mix))\n\n#Lista de dentro de listas\nmix_mix=[\"ole\",3,-14.2,mix]\nmix_mix=[\"ole\",3,-14.2,[\"Esto es\", 12,-34.5,True, False,\"lista\"]] #otra opcion\nprint(mix_mix)",
      "metadata": {
        "id": "ynKGIud8UjZv",
        "trusted": true
      },
      "outputs": [
        {
          "name": "stdout",
          "output_type": "stream",
          "text": "['Esto', 'es', 'una', 'lista']\n[True, False, True, True, False]\n['Esto es', 12, -34.5, True, False, 'lista']\n<class 'list'>\n['ole', 3, -14.2, ['Esto es', 12, -34.5, True, False, 'lista']]\n"
        }
      ],
      "execution_count": 13
    },
    {
      "cell_type": "markdown",
      "source": "**NOTA**: ¿Ves por qué los decimales en Python siempre van con puntos y no con comas? Con las colecciones el intérprete de Python se volvería loco.\n\nPodemos ver tambien el tipo de la lista",
      "metadata": {
        "id": "hkn5QLuEUjZw"
      }
    },
    {
      "cell_type": "code",
      "source": "print(type(mix_mix))",
      "metadata": {
        "id": "5FZ3_9NOUjZw",
        "trusted": true
      },
      "outputs": [
        {
          "name": "stdout",
          "output_type": "stream",
          "text": "<class 'list'>\n"
        }
      ],
      "execution_count": 17
    },
    {
      "cell_type": "markdown",
      "source": "Calcular la longitud de la misma mediante el método *built-in* ya visto: `len()`",
      "metadata": {
        "id": "LbpcIiepUjZw"
      }
    },
    {
      "cell_type": "code",
      "source": "print(len(mix))\nprint(len(mix_mix))",
      "metadata": {
        "id": "dmtGk2VsUjZx",
        "trusted": true
      },
      "outputs": [
        {
          "name": "stdout",
          "output_type": "stream",
          "text": "6\n4\n"
        }
      ],
      "execution_count": 18
    },
    {
      "cell_type": "code",
      "source": "concatenacion=mix+mix_mix\nprint(concatenacion)\nprint(type(concatenacion))",
      "metadata": {
        "trusted": true
      },
      "outputs": [
        {
          "name": "stdout",
          "output_type": "stream",
          "text": "['Esto es', 12, -34.5, True, False, 'lista', 'ole', 3, -14.2, ['Esto es', 12, -34.5, True, False, 'lista']]\n<class 'list'>\n"
        }
      ],
      "execution_count": 21
    },
    {
      "cell_type": "code",
      "source": "concatenacion2=mix_mix+mix\nprint(concatenacion2)\nprint(type(concatenacion2))\n#Es decir, el orden importa, esta operación de las listas NO ES CONMUTATIVA",
      "metadata": {
        "trusted": true
      },
      "outputs": [
        {
          "name": "stdout",
          "output_type": "stream",
          "text": "['ole', 3, -14.2, ['Esto es', 12, -34.5, True, False, 'lista'], 'Esto es', 12, -34.5, True, False, 'lista']\n<class 'list'>\n"
        }
      ],
      "execution_count": 23
    },
    {
      "cell_type": "markdown",
      "source": "Accedemos a los elemenos de la lista mediante corchetes `[]`\n\n**Importante**. El primer elemento es el 0",
      "metadata": {
        "id": "aqdHL7xHUjZx"
      }
    },
    {
      "cell_type": "code",
      "source": "print(mix_mix[1])\nprint(mix_mix[3])\n#hay que tener en cuenta que el primer elemento SIEMPRE es el 0\n#el ultimo elemento también se puede acceder mediante -1\nprint(mix_mix[-1])\nprint(mix_mix[-2])",
      "metadata": {
        "id": "aquNktI5UjZx",
        "trusted": true
      },
      "outputs": [
        {
          "name": "stdout",
          "output_type": "stream",
          "text": "3\n['Esto es', 12, -34.5, True, False, 'lista']\n['Esto es', 12, -34.5, True, False, 'lista']\n-14.2\n"
        }
      ],
      "execution_count": 27
    },
    {
      "cell_type": "code",
      "source": "#Si usamos un numero fuera de rango da error\nprint(mix_mix[129])",
      "metadata": {
        "trusted": true
      },
      "outputs": [
        {
          "ename": "<class 'IndexError'>",
          "evalue": "list index out of range",
          "traceback": [
            "\u001b[0;31m---------------------------------------------------------------------------\u001b[0m",
            "\u001b[0;31mIndexError\u001b[0m                                Traceback (most recent call last)",
            "Cell \u001b[0;32mIn[28], line 2\u001b[0m\n\u001b[1;32m      1\u001b[0m \u001b[38;5;66;03m#Si usamos un numero fuera de rango da error\u001b[39;00m\n\u001b[0;32m----> 2\u001b[0m \u001b[38;5;28mprint\u001b[39m(\u001b[43mmix_mix\u001b[49m\u001b[43m[\u001b[49m\u001b[38;5;241;43m129\u001b[39;49m\u001b[43m]\u001b[49m)\n",
            "\u001b[0;31mIndexError\u001b[0m: list index out of range"
          ],
          "output_type": "error"
        }
      ],
      "execution_count": 28
    },
    {
      "cell_type": "markdown",
      "source": "### Metodos en Listas\nPara el tipo de objeto lista, también hay una serie de métodos catacterísticos que nos permiten operar con ellas: añadir valores, quitarlos, indexado, filtrado, etc... En [este enlace](https://www.w3schools.com/python/python_ref_list.asp) puedes encontrar todos los métodos que podrás usar con listas.",
      "metadata": {
        "id": "EI4q_pgMUjZx"
      }
    },
    {
      "cell_type": "code",
      "source": "asignaturas = [\"Física\",\"Química\",\"Matemáticas\",\"Literatura\"]\nprint(asignaturas)",
      "metadata": {
        "id": "7XEhUysBUjZx",
        "trusted": true
      },
      "outputs": [
        {
          "name": "stdout",
          "output_type": "stream",
          "text": "['Física', 'Química', 'Matemáticas', 'Literatura']\n"
        }
      ],
      "execution_count": 30
    },
    {
      "cell_type": "code",
      "source": "#Añadir un elemento a una lista\nasignaturas.append(\"Filosofía\")\nprint(asignaturas)",
      "metadata": {
        "id": "0cO35sEhUjZx",
        "trusted": true
      },
      "outputs": [
        {
          "name": "stdout",
          "output_type": "stream",
          "text": "['Física', 'Química', 'Matemáticas', 'Literatura', 'Filosofía']\n"
        }
      ],
      "execution_count": 31
    },
    {
      "cell_type": "code",
      "source": "#Añadir en una posición concreta (Se introduce la posición de la nueva)\nasignaturas.insert(1,\"Biología\")\nprint(asignaturas)",
      "metadata": {
        "id": "an5-eDJBUjZx",
        "trusted": true
      },
      "outputs": [
        {
          "name": "stdout",
          "output_type": "stream",
          "text": "['Física', 'Biología', 'Química', 'Matemáticas', 'Literatura', 'Filosofía']\n"
        }
      ],
      "execution_count": 32
    },
    {
      "cell_type": "code",
      "source": "#Quitar elementos todos los elementos\nasignaturas.clear()\nprint(asignaturas)",
      "metadata": {
        "trusted": true
      },
      "outputs": [
        {
          "name": "stdout",
          "output_type": "stream",
          "text": "[]\n"
        }
      ],
      "execution_count": 33
    },
    {
      "cell_type": "code",
      "source": "#Quitar el primer elemento que sea igual al valor introducido \nasignaturas = [\"Física\",\"Química\",\"Química\",\"Matemáticas\",\"Literatura\"]\nprint(asignaturas)\nasignaturas.remove(\"Química\")\nprint(asignaturas)",
      "metadata": {
        "trusted": true
      },
      "outputs": [
        {
          "name": "stdout",
          "output_type": "stream",
          "text": "['Física', 'Química', 'Química', 'Matemáticas', 'Literatura']\n['Física', 'Química', 'Matemáticas', 'Literatura']\n"
        }
      ],
      "execution_count": 37
    },
    {
      "cell_type": "code",
      "source": "#Quitar un elemento según su posición\nasignaturas.pop(1)\nprint(asignaturas)",
      "metadata": {
        "trusted": true
      },
      "outputs": [
        {
          "name": "stdout",
          "output_type": "stream",
          "text": "['Física', 'Matemáticas', 'Literatura']\n"
        }
      ],
      "execution_count": 38
    },
    {
      "cell_type": "code",
      "source": "#Si no está en la lista nos da error\nasignaturas.remove(\"cine\")",
      "metadata": {
        "trusted": true
      },
      "outputs": [
        {
          "ename": "<class 'ValueError'>",
          "evalue": "list.remove(x): x not in list",
          "traceback": [
            "\u001b[0;31m---------------------------------------------------------------------------\u001b[0m",
            "\u001b[0;31mValueError\u001b[0m                                Traceback (most recent call last)",
            "Cell \u001b[0;32mIn[39], line 2\u001b[0m\n\u001b[1;32m      1\u001b[0m \u001b[38;5;66;03m#Si no está en la lista nos da error\u001b[39;00m\n\u001b[0;32m----> 2\u001b[0m \u001b[43masignaturas\u001b[49m\u001b[38;5;241;43m.\u001b[39;49m\u001b[43mremove\u001b[49m\u001b[43m(\u001b[49m\u001b[38;5;124;43m\"\u001b[39;49m\u001b[38;5;124;43mcine\u001b[39;49m\u001b[38;5;124;43m\"\u001b[39;49m\u001b[43m)\u001b[49m\n",
            "\u001b[0;31mValueError\u001b[0m: list.remove(x): x not in list"
          ],
          "output_type": "error"
        }
      ],
      "execution_count": 39
    },
    {
      "cell_type": "code",
      "source": "#Si no está en la lista nos da error\nasignaturas.pop(123)",
      "metadata": {
        "trusted": true
      },
      "outputs": [
        {
          "ename": "<class 'IndexError'>",
          "evalue": "pop index out of range",
          "traceback": [
            "\u001b[0;31m---------------------------------------------------------------------------\u001b[0m",
            "\u001b[0;31mIndexError\u001b[0m                                Traceback (most recent call last)",
            "Cell \u001b[0;32mIn[40], line 2\u001b[0m\n\u001b[1;32m      1\u001b[0m \u001b[38;5;66;03m#Si no está en la lista nos da error\u001b[39;00m\n\u001b[0;32m----> 2\u001b[0m \u001b[43masignaturas\u001b[49m\u001b[38;5;241;43m.\u001b[39;49m\u001b[43mpop\u001b[49m\u001b[43m(\u001b[49m\u001b[38;5;241;43m123\u001b[39;49m\u001b[43m)\u001b[49m\n",
            "\u001b[0;31mIndexError\u001b[0m: pop index out of range"
          ],
          "output_type": "error"
        }
      ],
      "execution_count": 40
    },
    {
      "cell_type": "code",
      "source": "#ordenar la lista, en el caso de las strings nos lo hace alfabeticamente\nasignaturas = [\"Física\",\"Química\",\"Química\",\"Matemáticas\",\"Literatura\"]\nprint(asignaturas)\nasignaturas.sort()\nprint(asignaturas)",
      "metadata": {
        "trusted": true
      },
      "outputs": [
        {
          "name": "stdout",
          "output_type": "stream",
          "text": "['Física', 'Química', 'Química', 'Matemáticas', 'Literatura']\n['Física', 'Literatura', 'Matemáticas', 'Química', 'Química']\n"
        }
      ],
      "execution_count": 41
    },
    {
      "cell_type": "code",
      "source": "#saber la posición del primer elemento con ese valor\nasignaturas.index(\"Química\")",
      "metadata": {
        "trusted": true
      },
      "outputs": [
        {
          "execution_count": 43,
          "output_type": "execute_result",
          "data": {
            "text/plain": "3"
          },
          "metadata": {}
        }
      ],
      "execution_count": 43
    },
    {
      "cell_type": "code",
      "source": "",
      "metadata": {
        "trusted": true
      },
      "outputs": [],
      "execution_count": null
    }
  ]
}