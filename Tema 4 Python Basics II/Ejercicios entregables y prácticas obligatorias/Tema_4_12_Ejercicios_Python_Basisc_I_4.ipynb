{
  "metadata": {
    "kernelspec": {
      "name": "python",
      "display_name": "Python (Pyodide)",
      "language": "python"
    },
    "language_info": {
      "codemirror_mode": {
        "name": "python",
        "version": 3
      },
      "file_extension": ".py",
      "mimetype": "text/x-python",
      "name": "python",
      "nbconvert_exporter": "python",
      "pygments_lexer": "ipython3",
      "version": "3.8"
    },
    "colab": {
      "provenance": []
    }
  },
  "nbformat_minor": 4,
  "nbformat": 4,
  "cells": [
    {
      "cell_type": "markdown",
      "source": "![TheBridge_logo_RGB_color.jpg](attachment:TheBridge_logo_RGB_color.jpg)",
      "metadata": {
        "id": "BKG9AwzqU_eA"
      }
    },
    {
      "cell_type": "markdown",
      "source": "![imagen](./img/ejercicios.png)",
      "metadata": {
        "id": "RkRhud9-U_eB"
      }
    },
    {
      "cell_type": "markdown",
      "source": "## EJERCICIOS PYTHON BASICO 4:\n## Funciones, métodos, listas",
      "metadata": {
        "id": "7FPZh50iU_eB"
      }
    },
    {
      "cell_type": "markdown",
      "source": "Completa los siguiente ejercicios, la solución completa a los mismos se publicarán en el repo del curso a lo largo del sprint. En algunos ejercicios se muestra la solución final, para que puedas comprobar que lo has hecho bien, pero lo importante es el código que generes. ¡Vaaamos, a ello...!",
      "metadata": {
        "id": "iCpxLaDjU_eB"
      }
    },
    {
      "cell_type": "markdown",
      "source": "![ejercicio.png](./img/ejercicio.png)\n\n## Ejercicio 1\nPara este ejercicio vamos a poner en práctica [las funciones built in](https://docs.python.org/3/library/functions.html).\n\n1. Calcula el máximo de la lista: [4, 6, 8, -1]\n2. Suma todos los elementos de la lista anterior\n3. Redondea este float a 3 dígitos decimales: 63.451256965\n4. Valor absoluto de: -74",
      "metadata": {
        "id": "KHL9MGDQU_eB"
      }
    },
    {
      "cell_type": "code",
      "source": "lista = [4, 6, 8, -1]\nprint(max(lista))\nprint(sum(lista))\nprint(round(63.451256965,3))\nprint(abs(-74))",
      "metadata": {
        "id": "92BsRnpfU_eC",
        "trusted": true
      },
      "outputs": [
        {
          "name": "stdout",
          "output_type": "stream",
          "text": "8\n17\n63.451\n74\n"
        }
      ],
      "execution_count": 5
    },
    {
      "cell_type": "markdown",
      "source": "![ejercicio.png](./img/ejercicio.png)\n\n## Ejercicio 2\nPara el siguiente string se pide imprimir por pantalla los siguientes casos\n\n    \"En un lugar de la Mancha, de cuyo nombre no quiero acordarme.\"\n\n1. Pásalo todo a mayúsculas\n2. Pásalo todo a minúsculas\n3. Solo la primera letra de cada palabra en mayúscula, el resto en minúscula\n4. Crea una lista dividiéndolo por sus espacios\n5. Sustituye las comas `,` por puntos y comas `;`\n6. Elimina las `a` minúsculas",
      "metadata": {
        "id": "rlSGrAp4U_eC"
      }
    },
    {
      "cell_type": "code",
      "source": "string=\"En un lugar de la Mancha, de cuyo nombre no quiero acordarme.\"\nprint(string.upper())\nprint(string.lower())\n#print(string.capitalize()) #Esta sirve para poner solo la primera letra en mayusculas, el resto minusculas\nprint(string.title()) #Pone la primera letra de cada palabra en mayúsculas, como un título\nprint(string.split(sep=\" \"))\nprint(string.replace(\",\",\";\"))\nprint(string.replace(\"a\",\"\"))\n",
      "metadata": {
        "id": "n9o2DCw6U_eC",
        "outputId": "012d4d9e-4cda-410e-bc72-eb913b4772ed",
        "trusted": true
      },
      "outputs": [
        {
          "name": "stdout",
          "output_type": "stream",
          "text": "EN UN LUGAR DE LA MANCHA, DE CUYO NOMBRE NO QUIERO ACORDARME.\nen un lugar de la mancha, de cuyo nombre no quiero acordarme.\nEn Un Lugar De La Mancha, De Cuyo Nombre No Quiero Acordarme.\n['En', 'un', 'lugar', 'de', 'la', 'Mancha,', 'de', 'cuyo', 'nombre', 'no', 'quiero', 'acordarme.']\nEn un lugar de la Mancha; de cuyo nombre no quiero acordarme.\nEn un lugr de l Mnch, de cuyo nombre no quiero cordrme.\n"
        }
      ],
      "execution_count": 14
    },
    {
      "cell_type": "markdown",
      "source": "![ejercicio.png](./img/ejercicio.png)\n\n## Ejercicio 3\n1. Crea una lista con 3 elementos numéricos\n2. Añade un cuarto elemento\n3. Calcula la suma de todos\n4. Elimina el segundo elemento de la lista\n5. Añade otro elemento en la posicion 3 de la lista\n6. Crea otra lista con 4 elementos y concaténala a la que ya tenías.\n7. Ordena la lista de menor a mayor.\n8. BONUS: Ordena la lista de mayor a menor.  \n(*PISTA: Para hacer 8, tendrás que buscar en la información del método...*)  \n  \n  \nNOTA: Pinta por pantalla el resultado de cada paso.",
      "metadata": {
        "id": "Rw2Uq1VjU_eD"
      }
    },
    {
      "cell_type": "code",
      "source": "lista = [1,2,9,4]\nprint(lista)\n\nlista.append(13)\nprint(lista)\n\nprint(sum(lista))\n\nlista.pop(1)\nprint(lista)\n\nlista.insert(3,97) #si se refiere a la 4º posición como posición 3, ya que la posición primera es el 0\nprint(lista)\n\nlista2 = [4,20,7,-1]\nlista_con=lista+lista2\nprint(lista_con)\n\nlista_con.sort()\nprint(lista_con)\n\nlista_con.reverse()\nprint(lista_con)",
      "metadata": {
        "id": "lqXPwu2zU_eD",
        "outputId": "6349e480-5f43-402d-89ad-33fa9bb4f527",
        "trusted": true
      },
      "outputs": [
        {
          "name": "stdout",
          "output_type": "stream",
          "text": "[1, 2, 9, 4]\n[1, 2, 9, 4, 13]\n29\n[1, 9, 4, 13]\n[1, 9, 4, 97, 13]\n[1, 9, 4, 97, 13, 4, 20, 7, -1]\n[-1, 1, 4, 4, 7, 9, 13, 20, 97]\n[97, 20, 13, 9, 7, 4, 4, 1, -1]\n"
        }
      ],
      "execution_count": 43
    },
    {
      "cell_type": "code",
      "source": "",
      "metadata": {
        "trusted": true
      },
      "outputs": [],
      "execution_count": null
    }
  ]
}