{
  "metadata": {
    "kernelspec": {
      "name": "python",
      "display_name": "Python (Pyodide)",
      "language": "python"
    },
    "language_info": {
      "codemirror_mode": {
        "name": "python",
        "version": 3
      },
      "file_extension": ".py",
      "mimetype": "text/x-python",
      "name": "python",
      "nbconvert_exporter": "python",
      "pygments_lexer": "ipython3",
      "version": "3.8"
    },
    "colab": {
      "provenance": []
    }
  },
  "nbformat_minor": 4,
  "nbformat": 4,
  "cells": [
    {
      "cell_type": "markdown",
      "source": "<img src = \"./img/TheBridge_logo_RGB_color.jpg\" width = 500><img src = \"./img/python.jpg\" width = 500>",
      "metadata": {
        "id": "X-DNC9uJXx21"
      }
    },
    {
      "cell_type": "markdown",
      "source": "# Python Basics I",
      "metadata": {
        "id": "s9YILbMrXx24"
      }
    },
    {
      "cell_type": "markdown",
      "source": "## Contenidos",
      "metadata": {
        "id": "1MzQ4nIvXx25"
      }
    },
    {
      "cell_type": "markdown",
      "source": "* [Funciones (I): *Built in*](#Funciones-(I):-*Built-in*)\n* [Métodos](#Métodos)",
      "metadata": {
        "id": "2GoQJx2zXx25"
      }
    },
    {
      "cell_type": "markdown",
      "source": "## Funciones (I): *Built in*\n[al indice](#Contenidos)  \n\nHay una serie de funciones internas, que vienen en el intérprete de Python. Algunas de las más comunes son:\n* **Tipos**: `bool()`, `str()`, `int()`, `float()`\n* **Min/Max**: `min()`, `max()`\n* **print()**\n* **type()**\n* **range()**\n* **zip()**\n* **len()**\n* **round()** \n* ...\n\nLa sintaxis de la función es:\n\n```Python\nnombre_funcion(argumentos)\n```\n\nAlgunas ya las hemos visto. Sin embargo, hay unas cuantas que las iremos descubriendo a lo largo de estos notebooks. Para más detalle, tienes [aquí](https://docs.python.org/3/library/functions.html) todas las funciones *built-in* de la documentación.\n\nDe momento, en lo que se refiere a funciones, vamos a ir trabajando con funciones ya hechas, pero más adelante crearemos nuestras propias funciones.",
      "metadata": {
        "id": "g7CkZgMJXx26"
      }
    },
    {
      "cell_type": "code",
      "source": "# Len se usa para calcular la longitud de una variable. \n# Ya veras que lo usaremos mucho en colecciones.\nprint (\"Esto es una cadena de longitud\",len(\"Esto es una cadena de longitud\"))\n\n# Funcion max. Tiene tantos argumentos como cantidad de \n# números entre los cuales queramos sacar su valor máximo.\nprint(\"De los número 1,12,13,25,6 el mayor es el\",max(1,12,13,25,6))",
      "metadata": {
        "id": "HKsNFl76Xx27",
        "trusted": true
      },
      "outputs": [
        {
          "name": "stdout",
          "output_type": "stream",
          "text": "Esto es una cadena de longitud 30\nDe los número 1,12,13,25,6 el mayor es el 25\n"
        }
      ],
      "execution_count": 3
    },
    {
      "cell_type": "code",
      "source": "#NOTA: SI PULSAMOS SHITF + TAB NOS SALEN ALGUNAS AYUDAS DE LA FUNCIÓN\n#Si lo vemos en print podemos ver que existen algunas modificaciones del print\ncadena = \"la longitud de esta cadena es\"\nprint(cadena,len(cadena),\"y no es un float\", sep =\"**test**\", end=\"holaquetal\")\nprint(\"ESTA ES LA OTRA LINEA\")\n#como vemos si cambiamos el end no hace salto de linea, que es lo que hace por defecto\n#como resultado de pega todo :(",
      "metadata": {
        "trusted": true
      },
      "outputs": [
        {
          "name": "stdout",
          "output_type": "stream",
          "text": "la longitud de esta cadena es**test**29**test**y no es un floatholaquetalESTA ES LA OTRA LINEA\n"
        }
      ],
      "execution_count": 10
    },
    {
      "cell_type": "code",
      "source": "#range(inicio, fin, salto) Nos da una sucesión de valores\nprint(list(range (1,11,2)))",
      "metadata": {
        "trusted": true
      },
      "outputs": [
        {
          "name": "stdout",
          "output_type": "stream",
          "text": "[1, 3, 5, 7, 9]\n"
        }
      ],
      "execution_count": 13
    },
    {
      "cell_type": "code",
      "source": "#zip nos hace una lista cogiendo primero todos los elementos de las listas que están\n# en la primera posición, luego otra lista de los segundos luego, los terceros...\na = [1, 2, 3, 4]\nb = [\"Uno\", \"Dos\", \"tres\", \"cuatro\"]\nc = [\"One\",\"Two\",\"Three\",\"Four\"]\nd = zip(a, b, c)\n\nprint(list(d))",
      "metadata": {
        "trusted": true
      },
      "outputs": [
        {
          "name": "stdout",
          "output_type": "stream",
          "text": "[(1, 'Uno', 'One'), (2, 'Dos', 'Two'), (3, 'tres', 'Three'), (4, 'cuatro', 'Four')]\n"
        }
      ],
      "execution_count": 16
    },
    {
      "cell_type": "markdown",
      "source": "## Métodos\n[al indice](#Contenidos)  \n\nSe trata de una propiedad MUY utilizada en programación. Son funciones propias de las variables/objetos, y que nos permiten modificarlos u obtener más información de los mismos. Dependiendo del tipo de objeto, tendremos unos métodos disponibles diferentes.\n\nPara usar un método se usa la sintaxis `objeto.metodo()`. Ponemos un punto entre el nombre del objeto y el del metodo, y unos paréntesis por si el método necesita de algunos argumentos. **Aunque no necesite de argumentos, los paréntesis hay que ponerlos igualmente.**\n\nVeamos algunos ejemplos\n\n### String\nUna variable de tipo string, tiene una serie de métodos que permiten sacarle jugo a la cadena de texto. [Aquí](https://docs.python.org/2.5/lib/string-methods.html) tienes todos los métodos que podemos usar en cadenas de texto",
      "metadata": {
        "id": "TUOq5sXJXx28"
      }
    },
    {
      "cell_type": "code",
      "source": "string_ejemplo=\"String en minusculas primera en Mayus\"\n\n#Método para poner en mayusculas el string\nprint(\" * Método para poner en mayusculas el string:\")\nprint(string_ejemplo.upper())  \nprint(\"\")",
      "metadata": {
        "id": "IGS6Ec5yXx28",
        "trusted": true
      },
      "outputs": [
        {
          "name": "stdout",
          "output_type": "stream",
          "text": " * Método para poner en mayusculas el string:\nSTRING EN MINUSCULAS PRIMERA EN MAYUS\n\n"
        }
      ],
      "execution_count": 36
    },
    {
      "cell_type": "code",
      "source": "#Método para poner en minusculass el string\nprint(\" * Método para poner en minusculass el string:\")\nprint(string_ejemplo.lower())\nprint(\"OTRO EJEMPLO PUESTO DIRECTAMENTE\".lower())  \nprint(\"\")   ",
      "metadata": {
        "id": "IGS6Ec5yXx28",
        "trusted": true
      },
      "outputs": [
        {
          "name": "stdout",
          "output_type": "stream",
          "text": " * Método para poner en minusculass el string:\nstring en minusculas primera en mayus\notro ejemplo puesto directamente\n\n"
        }
      ],
      "execution_count": 37
    },
    {
      "cell_type": "code",
      "source": "#Método para reemplazar uno o varios caracteres\nprint(\" * Método para reemplazar uno o varios caracteres:\")\nprint(string_ejemplo.replace(\"i\", \"u\"))\nprint(\"OTRO EJEMPLO PUESTO DIRECTAMENTE\".replace(\"e\",\"u\"))\nprint(string_ejemplo.replace(\"Sting\", \"Cadena de texto\"))\nprint(string_ejemplo.replace(\"m\", \"\"))  ",
      "metadata": {
        "id": "IGS6Ec5yXx28",
        "trusted": true
      },
      "outputs": [
        {
          "name": "stdout",
          "output_type": "stream",
          "text": " * Método para reemplazar uno o varios caracteres:\nStrung en munusculas prumera en Mayus\nOTRO EJEMPLO PUESTO DIRECTAMENTE\nString en minusculas primera en Mayus\nString en inusculas priera en Mayus\n"
        }
      ],
      "execution_count": 38
    },
    {
      "cell_type": "code",
      "source": "#Método para convertir string en una lista\nprint(\" * convertir string en una lista:\")\nprint(string_ejemplo.split())\nprint(\"Esto se va a convertir en una lista\".split())\nprint(\"Esto se va a convertir en una lista\".split(\"convertir\"))",
      "metadata": {
        "id": "FTE_M67tXx28",
        "trusted": true
      },
      "outputs": [
        {
          "name": "stdout",
          "output_type": "stream",
          "text": " * convertir string en una lista:\n['String', 'en', 'minusculas', 'primera', 'en', 'Mayus']\n['Esto', 'se', 'va', 'a', 'convertir', 'en', 'una', 'lista']\n['Esto se va a ', ' en una lista']\n"
        }
      ],
      "execution_count": 39
    },
    {
      "cell_type": "code",
      "source": "#Método para conocer la posición dentro de un string\nprint(\" * Método para conocer la posición dentro de un string\")\nprint(\"La m en la frase string en minusculas está en la posición\",string_ejemplo.index(\"m\"))\n#Hay que tener en cuenta que el conteo siempre se comienza en la posición 0\n#Es decir, la primera letra es la letra 0",
      "metadata": {
        "trusted": true
      },
      "outputs": [
        {
          "name": "stdout",
          "output_type": "stream",
          "text": " * Método para conocer la posición dentro de un string\nLa m en la frase string en minusculas está en la posición 10\n"
        }
      ],
      "execution_count": 42
    },
    {
      "cell_type": "markdown",
      "source": "Como ves, se pueden hacer muchas cosas en los Strings gracias a sus métodos. Ya verás cómo la cosa se pone más interesante cuando los tipos de los datos sean todavía más complejos.\n\nLos métodos son una manera de abstraernos de cierta operativa. Convertir todos los caracteres de una cadena a minuscula, puede ser un poco tedioso si no existiese el método `lower()`. Tendríamos que acudir a bucles o programación funcional.",
      "metadata": {
        "id": "nVlqQ5hyXx29"
      }
    },
    {
      "cell_type": "markdown",
      "source": "<table align=\"left\">\n <tr><td width=\"80\"><img src=\"./img/error.png\" style=\"width:auto;height:auto\"></td>\n     <td style=\"text-align:left\">\n         <h3>ERRORES en métodos</h3>\n         \n </td></tr>\n</table>",
      "metadata": {
        "id": "wK1ciYBLXx29"
      }
    },
    {
      "cell_type": "code",
      "source": "# Cuando un método necesita ciertos argumentos, y no se los proporcionamos\nstring_ejemplo.replace()\n# Si miramos en las indicaciones de replace vemos que \"old\" y \"new\" no tienen =\n# Eso significa que siempre hay que ponerlo!",
      "metadata": {
        "scrolled": true,
        "id": "nvEv1If-Xx29",
        "trusted": true
      },
      "outputs": [
        {
          "ename": "<class 'TypeError'>",
          "evalue": "replace expected at least 2 arguments, got 0",
          "traceback": [
            "\u001b[0;31m---------------------------------------------------------------------------\u001b[0m",
            "\u001b[0;31mTypeError\u001b[0m                                 Traceback (most recent call last)",
            "Cell \u001b[0;32mIn[45], line 2\u001b[0m\n\u001b[1;32m      1\u001b[0m \u001b[38;5;66;03m# Cuando un método necesita ciertos argumentos, y no se los proporcionamos\u001b[39;00m\n\u001b[0;32m----> 2\u001b[0m \u001b[43mstring_ejemplo\u001b[49m\u001b[38;5;241;43m.\u001b[39;49m\u001b[43mreplace\u001b[49m\u001b[43m(\u001b[49m\u001b[43m)\u001b[49m\n\u001b[1;32m      3\u001b[0m \u001b[38;5;66;03m# Si miramos en las indicaciones de replace vemos que \"old\" y \"new\" no tienen =\u001b[39;00m\n\u001b[1;32m      4\u001b[0m \u001b[38;5;66;03m# Eso significa que siempre hay que ponerlo!\u001b[39;00m\n",
            "\u001b[0;31mTypeError\u001b[0m: replace expected at least 2 arguments, got 0"
          ],
          "output_type": "error"
        }
      ],
      "execution_count": 45
    },
    {
      "cell_type": "code",
      "source": "",
      "metadata": {
        "id": "DBcbV9eZXx2-"
      },
      "outputs": [],
      "execution_count": null
    },
    {
      "cell_type": "code",
      "source": "",
      "metadata": {
        "id": "jynhoJuJXx2-"
      },
      "outputs": [],
      "execution_count": null
    }
  ]
}