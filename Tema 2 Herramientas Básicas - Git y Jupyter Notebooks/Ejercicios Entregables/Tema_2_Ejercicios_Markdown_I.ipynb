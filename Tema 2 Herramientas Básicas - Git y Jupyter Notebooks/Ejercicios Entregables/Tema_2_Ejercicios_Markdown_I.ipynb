{
  "metadata": {
    "kernelspec": {
      "name": "xpython",
      "display_name": "Python 3.13 (XPython)",
      "language": "python"
    },
    "language_info": {
      "file_extension": ".py",
      "mimetype": "text/x-python",
      "name": "python",
      "version": "3.13.1"
    },
    "colab": {
      "provenance": []
    }
  },
  "nbformat_minor": 5,
  "nbformat": 4,
  "cells": [
    {
      "id": "59ec229f",
      "cell_type": "markdown",
      "source": "<img src=\"./img/TheBridge_logo_RGB_color.jpg\" width = 500>",
      "metadata": {
        "id": "59ec229f"
      }
    },
    {
      "id": "30a2c01b",
      "cell_type": "markdown",
      "source": "# EJERCICIOS MARKDOWN (I)\n\n> Añadir blockquote\n\n",
      "metadata": {
        "id": "30a2c01b"
      }
    },
    {
      "id": "e165fb0c",
      "cell_type": "markdown",
      "source": "Aquí tienes cinco sencillos ejercicios para practicar lo aprendido en la primera sesión de Markdown. Utiliza las celdas que hay debajo de cada enunciado y recuerda convertirlas a Markdown primero ;-)",
      "metadata": {
        "id": "e165fb0c"
      }
    },
    {
      "id": "5f74096f",
      "cell_type": "markdown",
      "source": "\n\n### Ejercicio 1: Cabeceras\nCrea las siguientes cabeceras:\n\n1. Una cabecera de nivel 1 con el texto \"Ciencia de Datos\".\n2. Una cabecera de nivel 2 con el texto \"Introducción\".\n3. Una cabecera de nivel 3 con el texto \"Herramientas\".",
      "metadata": {
        "id": "5f74096f"
      }
    },
    {
      "id": "BaY4I0xC36mA",
      "cell_type": "markdown",
      "source": "# Ciencia de datos\n## Introducción\n### Herramientas",
      "metadata": {
        "id": "BaY4I0xC36mA"
      }
    },
    {
      "id": "8t8-aff14H3x",
      "cell_type": "code",
      "source": "#Ciencia de datos\n##Introcuccion\n###Herramientas",
      "metadata": {
        "id": "8t8-aff14H3x",
        "executionInfo": {
          "status": "ok",
          "timestamp": 1758669651899,
          "user_tz": -120,
          "elapsed": 12,
          "user": {
            "displayName": "Neha Sharma",
            "userId": "16567720999098676823"
          }
        },
        "trusted": true
      },
      "outputs": [],
      "execution_count": 1
    },
    {
      "id": "ASKGXkwUbqGz",
      "cell_type": "markdown",
      "source": "# Ciencia de Datos\n## Introducción\n### Herramientas",
      "metadata": {
        "id": "ASKGXkwUbqGz"
      }
    },
    {
      "id": "AjjxA1eF4oke",
      "cell_type": "markdown",
      "source": "# Ciencia de Datos\n## Introducción\n### Herramientas",
      "metadata": {
        "id": "AjjxA1eF4oke"
      }
    },
    {
      "id": "4b636168",
      "cell_type": "markdown",
      "source": "### Ejercicio 2: Estilos de texto\nEscribe una frase que contenga las siguientes características:\n\n1. La palabra \"Markdown\" en negritas.\n2. La palabra \"Jupyter\" en cursivas.\n3. La palabra \"Python\" en negritas y cursivas.",
      "metadata": {
        "id": "4b636168"
      }
    },
    {
      "id": "z1oHZHg1AFw2",
      "cell_type": "markdown",
      "source": "Estoy apriendiendo a utilizar **Markdown** y se que lo dominaré.  \nCreo que tengo otra versión de *Jupyter* porque me sale al lado la reproducción directamente.  \nTengo muchas ganas de aprender ***Python***.\n\n",
      "metadata": {
        "id": "z1oHZHg1AFw2"
      }
    },
    {
      "id": "ODrEW_8N4aCh",
      "cell_type": "markdown",
      "source": "**Aquí**, con **Markdown**  \nY *Jupyter* se ha unido al grupo  \n¿Ganas? Ganazas de aprender ***Python***",
      "metadata": {
        "id": "ODrEW_8N4aCh"
      }
    },
    {
      "id": "dAAqx7_Hb3Js",
      "cell_type": "markdown",
      "source": "Aun no sé muy bien qué significa **markdown**, pero ya tengo algún *jupyter* notebook y ya he comenzado a tocar ***python***\n\n> Me encanta **Markdown**, también *Jupyter*, pero tengo que ponerme las pilas con ***Python***\n\n",
      "metadata": {
        "id": "dAAqx7_Hb3Js"
      }
    },
    {
      "id": "61fd2979",
      "cell_type": "markdown",
      "source": "### Ejercicio 3: Resaltados y HTML\nCrea una línea que contenga:\n\n1. La palabra \"resaltado\" con un fondo amarillo usando Markdown.\n2. La palabra \"color\" en azul usando HTML.\n\nPara este ejercicio tendrás que buscar un poco más en internet, venga que tú puedes.",
      "metadata": {
        "id": "61fd2979"
      }
    },
    {
      "id": "TVpHOgAM5WTM",
      "cell_type": "markdown",
      "source": "\n<font color=\"blue\">color</font>",
      "metadata": {
        "id": "TVpHOgAM5WTM"
      }
    },
    {
      "id": "QZ9D_R3BBst_",
      "cell_type": "markdown",
      "source": "<mark>resaltado</mark>  \n<font color=\"blue\"> color </font>",
      "metadata": {
        "id": "QZ9D_R3BBst_"
      }
    },
    {
      "id": "gQXi7Z7wcGhl",
      "cell_type": "markdown",
      "source": "<mark>resaltado</mark>  \n<font color=\"blue\"> color </font>",
      "metadata": {
        "id": "gQXi7Z7wcGhl"
      }
    },
    {
      "id": "a91386ca",
      "cell_type": "markdown",
      "source": "### Ejercicio 4: Citas\nIncluye la siguiente cita:\n\n> La Ciencia de Datos es el petróleo del siglo XXI.\n\nEn uno y dos niveles de cita",
      "metadata": {
        "id": "a91386ca"
      }
    },
    {
      "id": "FOvZIAc-jFY5",
      "cell_type": "markdown",
      "source": ">La Ciencia de datos es el petróleo del siglo XXI\n>>La Ciencia de Datos es el petróleo del siglo XXI",
      "metadata": {
        "id": "FOvZIAc-jFY5"
      }
    },
    {
      "id": "_4G41erqcxH6",
      "cell_type": "markdown",
      "source": "> La Ciencia de Datos es el petróleo del siglo XXI.\n>> La Ciencia de Datos es el petróleo del siglo XXI.",
      "metadata": {
        "id": "_4G41erqcxH6"
      }
    },
    {
      "id": "35f0595a",
      "cell_type": "markdown",
      "source": "### Ejercicio 5: Combinando todo\nCrea un texto que combine lo siguiente:\n\n1. Una cabecera de nivel 2 con el texto \"Curso de Markdown\".\n2. Una frase que contenga la palabra \"importante\" en negritas.\n3. Una cita que diga: \"Aprender es crecer\".\n4. La palabra \"ejemplo\" en cursivas y con un fondo verde usando HTML.\n\nNota: Si no has sido capaz de encontrar como dar color de fondo usando HTML quizás <span style=\"background-color:yellow\">*tienes que buscar más cerca de ti*</span>\n",
      "metadata": {
        "id": "35f0595a"
      }
    },
    {
      "id": "a5ec80e1-2877-451e-a6a6-4cb84fad39a3",
      "cell_type": "markdown",
      "source": "## Curso de Markdown\nMarkdown es muy **importante**.\n>Aprender es crecer.  \n\n<span style=\"background-color:green\">ejemplo </span>",
      "metadata": {}
    },
    {
      "id": "M6idH_ggc5OV",
      "cell_type": "markdown",
      "source": "## Curso de Markdown\n\nEs súper **importante** trabajar día a día.\n\n> Aprender es crecer\n\n<span style=\"background-color:green\">*Ejemplo*</span>",
      "metadata": {
        "id": "M6idH_ggc5OV"
      }
    },
    {
      "id": "2l9hMdjx6SlC",
      "cell_type": "markdown",
      "source": "## Curso de Markdown  \nEs muy **importante** practicar lo aprendido.  \n>Aprender es crecer.\n",
      "metadata": {
        "id": "2l9hMdjx6SlC"
      }
    },
    {
      "id": "RUogNLIwF9Po",
      "cell_type": "markdown",
      "source": "<span style=\"background-color:lightgreen\"><i>ejemplo<i></span>  ",
      "metadata": {
        "id": "RUogNLIwF9Po"
      }
    },
    {
      "id": "nBu7VwrFVMZg",
      "cell_type": "code",
      "source": "#No soy capaz que se me vea con el fondo verde",
      "metadata": {
        "id": "nBu7VwrFVMZg"
      },
      "outputs": [],
      "execution_count": null
    }
  ]
}