{
  "metadata": {
    "kernelspec": {
      "name": "xpython",
      "display_name": "Python 3.13 (XPython)",
      "language": "python"
    },
    "language_info": {
      "file_extension": ".py",
      "mimetype": "text/x-python",
      "name": "python",
      "version": "3.13.1"
    },
    "vscode": {
      "interpreter": {
        "hash": "252189e587d1e2aeba4a06e91fa71896c7a7f6e22e918b9407c7cde4ef2d5985"
      }
    },
    "colab": {
      "provenance": []
    }
  },
  "nbformat_minor": 4,
  "nbformat": 4,
  "cells": [
    {
      "cell_type": "markdown",
      "source": "<img src = \"./img/TheBridge_logo_RGB_color.jpg\" width = 300>",
      "metadata": {
        "id": "-mUI6l3U8Uaa"
      }
    },
    {
      "cell_type": "markdown",
      "source": "# Markdown (I)              \n\n### ¿Qué es?\nLenguaje de marcado que nos permite aplicar formato a nuestros textos mediante unos caracteres especiales. Este lenguaje está pensado para web, pero es muy común utilizarlo en cualquier tipo de texto, independientemente de su destino.\n\nLo bueno que tiene es que se edita en **texto plano y está integrado en muchísimas herramientas**, como Jupyter Notebook o RStudio.\n\n### Markdown vs HTML\nTenemos un viejo conocido en cuanto a programación web: HTML. Son lenguajes muy diferentes. Con HTML podemos construir un complejo **árbol de tags**, mientras que markdown se desarrolla en texto plano. Por supuesto, las finalidades también son distintas. Ya verás a lo largo de este notebook que ambos lenguajes son perfectamente compatibles.\n\n### ¿Cómo funciona?\nContiene una serie de **caracteres especiales** que le dan forma a los textos.\n\n### ¿De qué nos va a servir?\nEn Jupyter lo normal será crear celdas con código, pero también tenemos la posibilidad de insertar celdas de markdown, donde podremos poner **imágenes, títulos, enumerar texto, listar, citar y mucho más!**",
      "metadata": {
        "id": "HmMKp-bE8Uad"
      }
    },
    {
      "cell_type": "markdown",
      "source": "## 1. Primera celda\nHaz doble clik en esta celda y verás cómo cambia el texto. Significa que estás en el **modo edición** de Markdown.\n\nHaz ctrl + enter para ejecuta la celda (o botón de play de arriba). Así abandonamos el modo edición y nuestro texto obtiene el formato que deseábamos.\n\n**¡Tu turno!** Crea una celda nueva en el menu de arriba y selecciona la opción Markdown. Y luego intenta replicar la celda siguiente a la de la imagen",
      "metadata": {
        "id": "oMr2Aoo88Uae"
      }
    },
    {
      "cell_type": "markdown",
      "source": "![imagen](.\\img\\crea_celda.png)",
      "metadata": {
        "id": "ZbPod0_J8Uaf"
      }
    },
    {
      "cell_type": "markdown",
      "source": "<PULSA A LA IZQUIERDA Y FUERA DE ESTA CELDA Y CREA LA CELDA EJEMPLO DEL VIDEO, la que pone \"Mis primeros pasos con Markdown\">",
      "metadata": {
        "id": "JWL_GF_W8Uaf"
      }
    },
    {
      "cell_type": "markdown",
      "source": "# Mis primeros pasos con Markdown\nSon muy buenos...",
      "metadata": {}
    },
    {
      "cell_type": "code",
      "source": "# Esto es código de Python.\n# Va a ser muy habitual en el curso, acompañar el código de Python mediante celdas de markdown.\nprint (\"hola mundo\")",
      "metadata": {
        "id": "AuHoVXmq8Uaf",
        "trusted": true
      },
      "outputs": [
        {
          "name": "stdout",
          "output_type": "stream",
          "text": "hola mundo\n"
        }
      ],
      "execution_count": 1
    },
    {
      "cell_type": "markdown",
      "source": "**TIP**: cuando estemos escribiendo markdown, un buen indicador de que lo estamos haciendo bien es que **la letra cambia de color o de forma**.",
      "metadata": {
        "id": "TwJHwT-z8Uag"
      }
    },
    {
      "cell_type": "markdown",
      "source": "# Markdown\n\n## 2. Cabeceras\nYa has visto que en el apartado anterior usábamos dos hashtag para poner una cabecera. ¿Por qué dos? Cuantos más hashtags, menor es el tamaño del título.\n",
      "metadata": {
        "id": "A5wT9lia8Uah"
      }
    },
    {
      "cell_type": "markdown",
      "source": "# Cabecera 1\n## Cabecera 2",
      "metadata": {
        "id": "rAiK1akg8Uah"
      }
    },
    {
      "cell_type": "markdown",
      "source": "El tamaño mínimo lo obtenemos con 6 hashtags. Es decir, tenemos hasta 6 niveles de profundidad para aplicar a los apartados de nuestro notebook.",
      "metadata": {
        "id": "AZ3MVEJC8Uah"
      }
    },
    {
      "cell_type": "markdown",
      "source": "### Cabecera 3\n#### Cabecera 4\n##### Cabecera 5\n###### Cabecera 6\n####### Cabecera 7",
      "metadata": {
        "id": "QvS2hWBw8Uah"
      }
    },
    {
      "cell_type": "markdown",
      "source": "## 3. HTML\nMarkdown nos ofrece la posibilidad de escribir código HTML, dentro de una celda markdown. Si te manejas bien con HTML y quieres insertar una porción de código de este lenguaje, markdown lo va a interpretar.\n",
      "metadata": {
        "id": "GxPopjyo8Uai"
      }
    },
    {
      "cell_type": "markdown",
      "source": "<h1> Header 1<h1>\n<h2> Header 1<h2>\n<h3> Header 1<h3>",
      "metadata": {
        "id": "vEXJs2668Uai"
      }
    },
    {
      "cell_type": "markdown",
      "source": "## 4. Negrita, cursiva\nPaara resaltar texto en negrita tenemos que rodearlo con asteriscos. En el caso en que queramos cursiva, será un único asterisco, y si deseamos combinar negrita con cursiva, son 3 asteriscos.\n",
      "metadata": {
        "id": "DEtoUEA18Uai"
      }
    },
    {
      "cell_type": "markdown",
      "source": "**Texto en negrita**\n\n*Texto en cursiva*\n\n***Texto en negrita y cursiva***\n\n** No es negrita **",
      "metadata": {
        "id": "G9EwKKJT8Uai"
      }
    },
    {
      "cell_type": "markdown",
      "source": "Cuidado con dejar espacios entre los asteriscos y el texto. Es decir, si queremos escribir en negrita, inmediatamente despues de los asteriscos tiene que ir el texto: ** No es negrita **",
      "metadata": {
        "id": "26MO5O9W8Uai"
      }
    },
    {
      "cell_type": "markdown",
      "source": "## 5. Citar\nEn ocasiones resulta útil poner una citación, o una nota, destacándola con un margen. Esto lo podemos hacer mediante el símbolo mayor que \">\"\n",
      "metadata": {
        "id": "LNxAawN88Uai"
      }
    },
    {
      "cell_type": "markdown",
      "source": ">Recuerda la importancia del conocimiento del negocio y del dominio\n>>Y utilizar atajos del teclado",
      "metadata": {
        "id": "CFvT0lgZ8Uai"
      }
    },
    {
      "cell_type": "code",
      "source": "",
      "metadata": {
        "trusted": true
      },
      "outputs": [],
      "execution_count": null
    }
  ]
}