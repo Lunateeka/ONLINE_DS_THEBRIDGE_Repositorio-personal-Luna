{
  "metadata": {
    "kernelspec": {
      "name": "python",
      "display_name": "Python (Pyodide)",
      "language": "python"
    },
    "language_info": {
      "codemirror_mode": {
        "name": "python",
        "version": 3
      },
      "file_extension": ".py",
      "mimetype": "text/x-python",
      "name": "python",
      "nbconvert_exporter": "python",
      "pygments_lexer": "ipython3",
      "version": "3.8"
    },
    "colab": {
      "provenance": []
    }
  },
  "nbformat_minor": 4,
  "nbformat": 4,
  "cells": [
    {
      "cell_type": "markdown",
      "source": "![TheBridge_logo_RGB_color.jpg](attachment:TheBridge_logo_RGB_color.jpg)",
      "metadata": {
        "id": "vigJnuAMSU4x"
      }
    },
    {
      "cell_type": "markdown",
      "source": "![ejercicios.png](attachment:ejercicios.png)",
      "metadata": {
        "id": "2xmnwM17SU4y"
      }
    },
    {
      "cell_type": "markdown",
      "source": "# Ejercicios Clases y Objetos",
      "metadata": {
        "id": "liorA-1ZSU4y"
      }
    },
    {
      "cell_type": "markdown",
      "source": "## Ejercicio 1\nSomos una empresa que tiene varias tiendas de electrodomesticos. Necesitamos un programa para manejar las tiendas, ver las ventas que han tenido, cuántos empleados hay, etc... Para ello vamos a modelizar la tienda en una clase, que tendrá las siguientes características:\n* Nombre clase: \"Tienda\"\n* Atributos comunes:\n    * Tipo: \"Electrodomésticos\"\n    * Abierta: True\n* Atributos propios de cada tienda:\n    * Nombre - String\n    * Dirección - String\n    * Número de empleados - int\n    * Ventas ultimos 3 meses - Lista de 3 numeros\n* Método para calcular las ventas de todos los meses, que devuelva un numero con todas las ventas.\n* Método que calcula la media de ventas de los ultimos meses, por empleado\n* Método que devuelve en un string el nombre de la tienda, junto con su dirección.\n* Método que obtiene las ventas del último mes.\n* Método para dar una proyección de las ventas en caso de haber invertido X dinero en marketing en esa tienda. Siendo X el parámetro de entrada. Si X es menor de 1000, las ventas de los ultimos 3 meses hubiesen sido de (1.2 x ventas), si es mayor o igual de 1000, las ventas hubiesen sido de (1.5 x venta). El método reescribe el atributo de ventas en los últimos 3 meses, y además devuelve las ventas con el aumento.\n\nSe pide:\n1. Implementar la clase \"Tienda\"\n2. Crear tres tiendas con datos inventados\n3. Comprueba en al menos una de ellas, todo lo implementado en la clase tienda (sus atributos, media de ventas, ventas/empleado...)\n3. Calcular las ventas del último mes de todas las tiendas. Para ello usa el bucle `for`\n4. Imprime por pantalla los nombres de las tiendas cuya dirección lleve el string \"Avenida\"\n5. Seguro que ya has hecho este apartado... Documenta la clase :)",
      "metadata": {
        "id": "5xXUz5l9SU4z"
      }
    },
    {
      "cell_type": "code",
      "source": "print(\"Resultado 1.\")\nclass Tienda ():\n    def __init__ (self,nombre,direccion,empleados,ventas3m,tipo = \"electrodométicos\",abierta = True):\n        self.nombre=nombre\n        self.direccion=direccion\n        self.empleados=empleados\n        self.ventas_3m=ventas3m\n        self.tipo=tipo\n        self.abierta=abierta\n    def ventas_total_3m(self): #Aquí he entendido que el enunciado se refería a las ventas en total de los ultimos tres meses\n        #print(\"En total durante los ultimos tres meses la tienda \",self.nombre,\n        #\" ha tenido unas ventas que ascienden a \",sum(self.ventas_3m),\"€\",sep=\"\")\n        return sum(self.ventas_3m)\n    def ventas_empleado(self):\n        #print(\"la media de venta por empleado asciende a\",self.ventas_total_3m()/self.empleados)\n        return self.ventas_total_3m()/self.empleados\n    def nombre_direccion(self):\n        #print (\"La tienda\",self.nombre,\"se ubica en \",self.direccion)\n        return \"nombre:\"+self.nombre+\"     dirección:\"+self.direccion\n    def ventas_ultimo_mes (self):\n        #print(\"Durante el último mes, la tienda \",self.nombre,\n              #\" ha tenido unas ventas que ascienden a \",self.ventas_3m[2],\"€\",sep=\"\")\n        return self.ventas_3m[2] #Aquí he considerado que las ventas de los tres ultimos meses\n        #la introducimos de más antigua a más reciente.\n    def proyeccion_ventas(self,inversion):\n        if inversion <1000:\n            self.ventas_3m=[1.2*ventas for ventas in self.ventas_3m]\n            #print(\"Si hubieras invertido un total de \",inversion,\n            #\"€ en marketing las ventas de los tres últimos meses habrían sido de \",\n            #self.ventas_total_3m())\n            return self.ventas_3m\n        if inversion >= 1000:\n            self.ventas_3m=[1.5*ventas for ventas in self.ventas_3m]\n            #print(\"Si hubieras invertido un total de \",inversion,\n            #\"€ en marketing las ventas de los tres últimos meses habrían sido de \",\n            #self.ventas_total_3m(),\" es decir \",self.ventas_3m,\" cada mes.\",sep=\"\")\n            return self.ventas_3m\n    ",
      "metadata": {
        "id": "5cLQcLxfSU4z",
        "trusted": true
      },
      "outputs": [
        {
          "name": "stdout",
          "output_type": "stream",
          "text": "Resultado 1.\n"
        }
      ],
      "execution_count": 1
    },
    {
      "cell_type": "code",
      "source": "print(\"Resultado 2.\")\nprint(\"\")\ntienda_1=Tienda(\"Electrotech\",\"Calle Imaginaria 12\",3,[7,26374,1234]) \ntienda_2=Tienda(\"Electrodomesticos Juanmi\",\"Avenida imaginaria 24\",7,[7234,13434,16234]) \ntienda_3=Tienda(\"TodoTech S.L.\",\"poligono imaginario\",747,[723349584,132893475434,1622384734])",
      "metadata": {
        "id": "5cLQcLxfSU4z",
        "trusted": true
      },
      "outputs": [
        {
          "name": "stdout",
          "output_type": "stream",
          "text": "Resultado 2.\n\n"
        }
      ],
      "execution_count": 2
    },
    {
      "cell_type": "code",
      "source": "print(\"Resultado 3.\")\nprint(\"\")\nprint(tienda_1.nombre)\nprint(\"\")\nprint(tienda_1.direccion)\nprint(\"\")\nprint(tienda_1.empleados)\nprint(\"\")\nprint(tienda_1.ventas_3m)\nprint(\"\")\nprint(tienda_1.tipo)\nprint(\"\")\nprint(tienda_1.abierta)\nprint(\"\")\nprint(tienda_1.ventas_total_3m())\nprint(\"\")\nprint(tienda_1.ventas_empleado())\nprint(\"\")\nprint(tienda_1.nombre_direccion())\nprint(\"\")\nprint(tienda_1.ventas_ultimo_mes ())\nprint(\"\")\ntienda_1.ventas_3m=[7,26374,1234]\nprint(tienda_1.proyeccion_ventas(84))\nprint(\"\")\ntienda_1.ventas_3m=[7,26374,1234]\nprint(tienda_1.proyeccion_ventas(229384))\n",
      "metadata": {
        "id": "5cLQcLxfSU4z",
        "trusted": true
      },
      "outputs": [
        {
          "name": "stdout",
          "output_type": "stream",
          "text": "Resultado 3.\n\nElectrotech\n\nCalle Imaginaria 12\n\n3\n\n[7, 26374, 1234]\n\nelectrodométicos\n\nTrue\n\n27615\n\n9205.0\n\nnombre:Electrotech     dirección:Calle Imaginaria 12\n\n1234\n\n[8.4, 31648.8, 1480.8]\n\n[10.5, 39561.0, 1851.0]\n"
        }
      ],
      "execution_count": 3
    },
    {
      "cell_type": "code",
      "source": "print(\"Resultado 4.\")\nprint(\"\")\n\nbd_tiendas = [tienda_1,tienda_2,tienda_3]\nfor tienda in bd_tiendas:\n    print(tienda.ventas_ultimo_mes ())\n",
      "metadata": {
        "id": "5cLQcLxfSU4z",
        "trusted": true
      },
      "outputs": [
        {
          "name": "stdout",
          "output_type": "stream",
          "text": "Resultado 4.\n\n1851.0\n16234\n1622384734\n"
        }
      ],
      "execution_count": 4
    },
    {
      "cell_type": "code",
      "source": "print(\"Resultado 5.\")\nprint(\"\")\nfor tienda in bd_tiendas:\n    if \"Avenida\" in tienda.direccion.split():\n        print(tienda.nombre)",
      "metadata": {
        "id": "5cLQcLxfSU4z",
        "trusted": true
      },
      "outputs": [
        {
          "name": "stdout",
          "output_type": "stream",
          "text": "Resultado 5.\n\nElectrodomesticos Juanmi\n"
        }
      ],
      "execution_count": 5
    },
    {
      "cell_type": "markdown",
      "source": "## Ejercicio 2\nEn este ejercicio vamos a implementar una clase *Perro* en Python. La clase tiene las siguientes características:\n* Cosas que sabemos seguro que tiene un perro\n    * Tiene 4 patas\n    * 2 orejas\n    * 2 ojos\n    * Una velocidad de 0. Por defecto, el perro está parado\n* Cuando se inicialice:\n    * El perro será de una determinada raza\n    * Por defecto tendrá pelo \"Marrón\", a no ser que se diga lo contrario.\n    * Por defecto no tendrá dueño, a no ser que se diga lo contrario.\n    \n* Dispondrá también de un método llamado andar, que tiene un argumento de entrada (aumento_velocidad). Este valor se le sumará a la velocidad que ya llevaba el perro.\n* Necesita otro método (parar), donde pondremos la velocidad a 0.\n* Otro método llamado \"ladrar\", que tendrá un argumento de entrada, y la salida será el siguiente string: \"GUAU!\" + el argumento de entrada.\n\n\nSe pide:\n* Implementa la clase *Perro*\n* Crea un objeto de tipo *Perro*, sin dueño\n* Comprueba que están bien todos sus atributos\n* Prueba que ande, y comprueba su velocidad\n* Páralo\n* Documenta la clase *Perro*",
      "metadata": {
        "id": "WEBq7EpsSU40"
      }
    },
    {
      "cell_type": "code",
      "source": "print(\"Implementación de la clase perro\")\nclass Perro():\n    patas=4\n    orejas=2\n    ojos=2\n    velocidad=0\n    def __init__ (self,raza,pelo=\"marron\",dueño=None):\n        self.raza=raza\n        self.pelo=pelo\n        self.dueño=dueño\n    def andar(self,aumento_velocidad): #Aquí he considerado que la velocidad puede\n        #aumentar varias veces antes de que pare, se puede poner a correr xD\n        self.velocidad=self.velocidad+aumento_velocidad\n    def parar(self):\n        self.velocidad=0\n    def ladrar (self,mensaje):\n        print(\"GUAU!\",self,mensaje)",
      "metadata": {
        "id": "DpEWvbwGSU40",
        "trusted": true
      },
      "outputs": [
        {
          "name": "stdout",
          "output_type": "stream",
          "text": "Implementación de la clase perro\n"
        }
      ],
      "execution_count": 7
    },
    {
      "cell_type": "code",
      "source": "print(\"Creando el objeto de clase perro Pastor alemán y comprobando sus atributos:\")\npastor_aleman= Perro(\"Pastor Alemán\")\nprint(\"\")\nprint(pastor_aleman.patas)\nprint(\"\")\nprint(pastor_aleman.orejas)\nprint(\"\")\nprint(pastor_aleman.ojos)\nprint(\"\")\nprint(pastor_aleman.velocidad)\nprint(\"\")\nprint(pastor_aleman.raza)\nprint(\"\")\nprint(pastor_aleman.pelo)\nprint(\"\")\nprint(pastor_aleman.dueño)",
      "metadata": {
        "trusted": true
      },
      "outputs": [
        {
          "name": "stdout",
          "output_type": "stream",
          "text": "Creando el objeto de clase perro Pastor alemán y comprobando sus atributos:\n\n4\n\n2\n\n2\n\n0\n\nPastor Alemán\n\nmarron\n\nNone\n"
        }
      ],
      "execution_count": 8
    },
    {
      "cell_type": "code",
      "source": "print(\"Haciendo que el pastor alemán ande:\")\nprint(\"\")\npastor_aleman.andar(50)\nprint(pastor_aleman.velocidad)\nprint(\"\")\nprint(\"Haciendo que el pastor alemán se pare:\")\nprint(\"\")\npastor_aleman.parar()\nprint(pastor_aleman.velocidad)",
      "metadata": {
        "trusted": true
      },
      "outputs": [
        {
          "name": "stdout",
          "output_type": "stream",
          "text": "Haciendo que el pastor alemán ande:\n\n50\n\nHaciendo que el pastor alemán se pare:\n\n0\n"
        }
      ],
      "execution_count": 9
    },
    {
      "cell_type": "code",
      "source": "",
      "metadata": {
        "trusted": true
      },
      "outputs": [],
      "execution_count": null
    }
  ]
}