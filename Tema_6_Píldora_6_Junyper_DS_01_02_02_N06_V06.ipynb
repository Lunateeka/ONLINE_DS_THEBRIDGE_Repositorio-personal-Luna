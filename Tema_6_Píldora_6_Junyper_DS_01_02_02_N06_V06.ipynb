{
  "metadata": {
    "kernelspec": {
      "name": "python",
      "display_name": "Python (Pyodide)",
      "language": "python"
    },
    "language_info": {
      "codemirror_mode": {
        "name": "python",
        "version": 3
      },
      "file_extension": ".py",
      "mimetype": "text/x-python",
      "name": "python",
      "nbconvert_exporter": "python",
      "pygments_lexer": "ipython3",
      "version": "3.8"
    },
    "colab": {
      "provenance": []
    }
  },
  "nbformat_minor": 4,
  "nbformat": 4,
  "cells": [
    {
      "cell_type": "markdown",
      "source": "![TheBridge_Python_v0.png](attachment:TheBridge_Python_v0.png)",
      "metadata": {
        "id": "52qVTKSXCWPF"
      }
    },
    {
      "cell_type": "markdown",
      "source": "##  Programacion Orientada a Objetos: Ejemplo\n",
      "metadata": {
        "id": "9zCCs4wFCWPG"
      }
    },
    {
      "cell_type": "markdown",
      "source": "### Contenidos\n",
      "metadata": {
        "id": "ngkat8LiCWPH"
      }
    },
    {
      "cell_type": "markdown",
      "source": "* [Definición del problema  ](#Definición-del-problema)\n* [Solución con programación funcional](#Resolución-funcional)\n* [Solución con programación orientada a objetos](#Resolución-OOP)\n* [Comparativa](#Comparativa)",
      "metadata": {
        "id": "Mn0Z10rNCWPH"
      }
    },
    {
      "cell_type": "markdown",
      "source": "### Definición del problema\n[al indice](#Contenidos)  \n\nQueremos construir un **programa** que nos sirva para tener un pequeño **gestor de nuestra biblioteca**. Para ello debe permitirnos las siguientes funcionalidades:  \n\n1. Añadir un libro.\n2. Eliminar un libro.\n3. Buscar un libro por título.\n4. Mostrar todos los libros.\n\nPara que veas cómo usar la OOP frente a la programación funcional que hemos utilizado hasta ahora, lo vamos a desarrollar de las dos maneras.",
      "metadata": {
        "id": "ztsNe3IpCWPH"
      }
    },
    {
      "cell_type": "markdown",
      "source": "### Resolución funcional\n[al indice](#Contenidos)",
      "metadata": {
        "id": "BPsxhOk6CWPI"
      }
    },
    {
      "cell_type": "code",
      "source": "def añadir_libro(biblioteca, libro):\n    biblioteca.append(libro)\n\ndef eliminar_libro(biblioteca, titulo):\n    biblioteca[:] = [libro for libro in biblioteca if libro['titulo'] != titulo]\n'''\nLo que se está haciendo es añadir todos los libros dentro de la biblioteca cuyo título\nes distinto al titulo introducido en la función\n\nLas listas y cadenas soportan el operador slice, cuya sintaxis general es [inicio:fin:paso]. \nPor ejemplo lista[3:20:4]. Esto causa que se extraiga la sublista compuesta por los elementos \n[3], [7], [11], [15] y [19]. De forma general, se comienza por el índice inicio, y se le va \nsumando paso. Cuando se llega a fin o mayor, ya no se extrae \n([fin] nunca formará parte de la sublista extraída).\n\nEntonces lo que están haciendo es sacar el subconjunto entero de la biblioteca he igualarlo\na un nuevo diccionario compuesto por los libros distintos al libro nuestro.\n\nSi nos fijamos, puede usar libro poque la ha definido posteriormente en eñ bucle for\n'''\n\ndef buscar_libro(biblioteca, titulo):\n    for libro in biblioteca:\n        if libro['titulo'] == titulo:\n            return libro\n    return None\n\ndef mostrar_libros(biblioteca):\n    for libro in biblioteca:\n        print(libro['titulo'])\n        print(libro['autor'])\n        print(\"****\")\n\ndef guardar_biblioteca(biblioteca, fichero):\n    pass\n    # Hipotetica función que guarda en disco mi biblioteca con sus libros",
      "metadata": {
        "id": "sIgViNSxCWPI",
        "trusted": true
      },
      "outputs": [],
      "execution_count": 2
    },
    {
      "cell_type": "code",
      "source": "# Ejemplo de Uso\nbiblioteca = []\nañadir_libro(biblioteca, {'titulo': '1984', 'autor': 'George Orwell'})\nañadir_libro(biblioteca, {'titulo': 'Brave New World', 'autor': 'Aldous Huxley'})\nprint(\"Buscamos '1984'\")\nprint(buscar_libro(biblioteca, '1984'))  # {'titulo': '1984', 'autor': 'George Orwell'}\nprint(\"\")\nprint(\"Mostramos la biblioteca\")\nmostrar_libros(biblioteca)\nprint(\"\")\nprint(\"Eliminamos '1984'\")\neliminar_libro(biblioteca, '1984')\nprint(\"Mostramos como queda la biblioteca\")\nmostrar_libros(biblioteca)",
      "metadata": {
        "id": "5m1VYNGyCWPJ",
        "trusted": true
      },
      "outputs": [
        {
          "name": "stdout",
          "output_type": "stream",
          "text": "Buscamos '1984'\n{'titulo': '1984', 'autor': 'George Orwell'}\n\nMostramos la biblioteca\n1984\nGeorge Orwell\n****\nBrave New World\nAldous Huxley\n****\n\nEliminamos '1984'\nMostramos como queda la biblioteca\nBrave New World\nAldous Huxley\n****\n"
        }
      ],
      "execution_count": 8
    },
    {
      "cell_type": "code",
      "source": "",
      "metadata": {
        "id": "8LUisUNOCWPJ"
      },
      "outputs": [],
      "execution_count": null
    },
    {
      "cell_type": "markdown",
      "source": "### Resolución OOP\n[al indice](#Contenidos)",
      "metadata": {
        "id": "l5K3wZXoCWPJ"
      }
    },
    {
      "cell_type": "code",
      "source": "class Libro:\n    def __init__(self, titulo, autor):\n        self.titulo = titulo\n        self.autor = autor\n\n    def print_datos(self):\n        print(\"Titulo:\", self.titulo)\n        print(\"Autor:\", self.autor)\n        return self.titulo\n\n",
      "metadata": {
        "id": "bHskABh9CWPK",
        "trusted": true
      },
      "outputs": [],
      "execution_count": 9
    },
    {
      "cell_type": "code",
      "source": "\nclass Biblioteca:\n    def __init__(self):\n        self.libros = []\n\n    def añadir_libro(self, libro):\n        self.libros.append(libro)\n\n    def eliminar_libro(self, titulo):\n        self.libros = [libro for libro in self.libros if libro.titulo != titulo]\n\n    def buscar_libro(self, titulo):\n        for libro in self.libros:\n            if libro.titulo == titulo:\n                libro.print_datos()\n                return libro\n        return None\n\n    def mostrar_libros(self):\n        for libro in self.libros:\n            libro.print_datos()\n\n    def guardar_biblioteca(self):\n        pass\n        # Método hipotético que guarda en disco mi blibioteca y sus libros",
      "metadata": {
        "id": "36eJPhNWCWPK",
        "trusted": true
      },
      "outputs": [],
      "execution_count": 11
    },
    {
      "cell_type": "code",
      "source": "\n# Ejemplo de Uso\nbiblioteca = Biblioteca()\nbiblioteca.añadir_libro(Libro('1984', 'George Orwell'))\nbiblioteca.añadir_libro(Libro('Brave New World', 'Aldous Huxley'))\nprint(\"Buscamos 1984:\")\nlibro = biblioteca.buscar_libro('1984')  # 1984\nprint(\" \")\nprint(\"Mostramos la biblioteca\")\nbiblioteca.mostrar_libros()\nprint(\"\")\nprint(\"Eliminamos 1984\")\nbiblioteca.eliminar_libro('1984')\nbiblioteca.mostrar_libros()\n",
      "metadata": {
        "id": "m3eAWv0TCWPK",
        "trusted": true
      },
      "outputs": [
        {
          "name": "stdout",
          "output_type": "stream",
          "text": "Buscamos 1984:\nTitulo: 1984\nAutor: George Orwell\n \nMostramos la biblioteca\nTitulo: 1984\nAutor: George Orwell\nTitulo: Brave New World\nAutor: Aldous Huxley\n\nEliminamos 1984\nTitulo: Brave New World\nAutor: Aldous Huxley\n"
        }
      ],
      "execution_count": 12
    },
    {
      "cell_type": "code",
      "source": "",
      "metadata": {
        "id": "fzhBU9Z4CWPK"
      },
      "outputs": [],
      "execution_count": null
    },
    {
      "cell_type": "markdown",
      "source": "### Comparativa\n[al indice](#Contenidos)",
      "metadata": {
        "id": "12buaAr4CWPK"
      }
    },
    {
      "cell_type": "markdown",
      "source": "A simple vista puede parecer que es más o menos lo mismo, y siempre podremos hacerlas equivalentes. Lo importante es la facilidad y el cambio de paradigma. El pensar en objetos nos permite gestionarlos mejor. Por ejemplo piensa en la siguiente modificación aparentemente sencilla...\n\n*Quiero ponerle nombre a mi biblioteca, porque quiero distinguir la de libros en español de la de libros en inglés*\n\n",
      "metadata": {
        "id": "SJtP1wOeCWPL"
      }
    },
    {
      "cell_type": "markdown",
      "source": "#### Modificación 1, programación funcional\n\nEn el caso de la programación funcional, tendría que cambiar mi biblioteca por algo como:\n\n```Python\nbiblioteca = {\n    \"nombre\": \"Libros_español\",\n    \"libros\": []}\n```\n\npero... ahora tendría que cambiar todas las funciones definidas anteriormente para que consideraran el nuevo cambio... Echa un vistazo a las funciones y piensa cuantas tendrías que tocas y cómo...",
      "metadata": {
        "id": "OAyOyYuHCWPL"
      }
    },
    {
      "cell_type": "markdown",
      "source": "#### Modificación 1, programación OOP\n\nEn el caso de la programación orientada a objetos, me llega con cambiar el constructor\n\n```Python\ndef __init__(self, nombre):\n    self.nombre = nombre\n    self.libros  = []\n```\n\nHmmm, ¿le vas viendo las ventajas?",
      "metadata": {
        "id": "o5EFqFNBCWPL"
      }
    },
    {
      "cell_type": "markdown",
      "source": "Siendo más prolijo:\n\n1. Claro y estructurado: Con la POO, dividimos claramente el concepto de Libro y Biblioteca en clases separadas. Esto hace que el código sea más modular y fácil de entender.\n\n2. Reusabilidad: Con la clase Libro, podemos reutilizarla en otros contextos (por ejemplo, una tienda, una revisión de libros, etc.), sin tener que reescribir la lógica.\n\n3. Extensibilidad: Si en el futuro queremos agregar características adicionales a Libro (como año de publicación, género, etc.) o a Biblioteca (como préstamos, reservas, etc.), sería más fácil y organizado hacerlo con la estructura de la POO.\n\n4. Estado encapsulado: En la versión orientada a objetos, la lista de libros está \"oculta\" dentro de la clase Biblioteca, evitando que se manipule directamente desde fuera.\n\nEn resumen, mientras que la solución funcional es más directa y menos verbosa para problemas más simples, la solución orientada a objetos ofrece una estructura clara, modularidad, reusabilidad y extensibilidad para problemas más complejos, como este",
      "metadata": {
        "id": "_rUTISIKCWPL"
      }
    }
  ]
}