{
  "metadata": {
    "kernelspec": {
      "name": "python",
      "display_name": "Python (Pyodide)",
      "language": "python"
    },
    "language_info": {
      "codemirror_mode": {
        "name": "python",
        "version": 3
      },
      "file_extension": ".py",
      "mimetype": "text/x-python",
      "name": "python",
      "nbconvert_exporter": "python",
      "pygments_lexer": "ipython3",
      "version": "3.8"
    },
    "colab": {
      "provenance": []
    }
  },
  "nbformat_minor": 4,
  "nbformat": 4,
  "cells": [
    {
      "cell_type": "markdown",
      "source": "![TheBridge_Python_v0.png](attachment:TheBridge_Python_v0.png)",
      "metadata": {
        "id": "isnaW6eIVzUV"
      }
    },
    {
      "cell_type": "markdown",
      "source": "##  Argumentos variables\n",
      "metadata": {
        "id": "EQ-OfiOeVzUW"
      }
    },
    {
      "cell_type": "markdown",
      "source": "### Contenidos\n",
      "metadata": {
        "id": "PGzF1_CdVzUW"
      }
    },
    {
      "cell_type": "markdown",
      "source": "* [Introducción  ](#Introducción--)\n",
      "metadata": {
        "id": "xPqzu4BnVzUW"
      }
    },
    {
      "cell_type": "markdown",
      "source": "### Introducción  \n[al indice](#Contenidos)  \nEn los ejemplos de la sesión anterior teníamos que fijar un número concreto de argumentos para nuestras funciones, pero hay ocasiones que no tenemos seguro cuántos argumentos son. Por suerte, las funciones de Python nos aportan esa flexibilidad mediante `*`\n\nVeamos cómo implementar una función multiplicadora con numero variable de argumentos",
      "metadata": {
        "id": "Jinrj6KRVzUW"
      }
    },
    {
      "cell_type": "code",
      "source": "def multiplica(*argumentos):\n    print(argumentos)\n    print(type(argumentos))\nprint(multiplica (2,3,5))\n#ten en cuenta que la entrada de esta forma siempre la coge como una tupla de valores\nprint(multiplica (2,3,5,7,10)",
      "metadata": {
        "id": "2z5Sck9PVzUX",
        "trusted": true
      },
      "outputs": [
        {
          "name": "stdout",
          "output_type": "stream",
          "text": "(2, 3, 5)\n<class 'tuple'>\n"
        }
      ],
      "execution_count": 1
    },
    {
      "cell_type": "code",
      "source": "def multiplica(*args):\n    resultado = 1\n    for elemento in args:\n        resultado = resultado*elemento\n    print(\"eL resultado es\",resultado)\n    return resultado\nprint(multiplica (2,3,5))\nprint(multiplica (2,3,5,7,10))\nprint(multiplica())",
      "metadata": {
        "trusted": true
      },
      "outputs": [
        {
          "name": "stdout",
          "output_type": "stream",
          "text": "eL resultado es 30\n30\neL resultado es 2100\n2100\neL resultado es 1\n1\n"
        }
      ],
      "execution_count": 7
    },
    {
      "cell_type": "code",
      "source": "def multiplica(*args):\n    resultado = 1\n    for indice,elemento in enumerate(args):\n        print(\"el siguiente elemento es\",args[indice])\n        resultado = resultado*elemento\n    print(\"eL resultado es\",resultado)\n    return resultado\nprint(multiplica (2,3,5))\nprint(multiplica (2,3,5,7,10))\nprint(multiplica())",
      "metadata": {
        "trusted": true,
        "scrolled": true
      },
      "outputs": [
        {
          "name": "stdout",
          "output_type": "stream",
          "text": "el siguiente elemento es 2\nel siguiente elemento es 3\nel siguiente elemento es 5\neL resultado es 30\n30\nel siguiente elemento es 2\nel siguiente elemento es 3\nel siguiente elemento es 5\nel siguiente elemento es 7\nel siguiente elemento es 10\neL resultado es 2100\n2100\neL resultado es 1\n1\n"
        }
      ],
      "execution_count": 21
    },
    {
      "cell_type": "code",
      "source": "'''\nNOTA: como hemos visto hemos usado la función enumerate \nEsta función sirve para enumerar los valores de una tupla\naunque no se puede usar sola, si ponemos list(enumerate(una_tupla)) nos dará una \nlista de tuplas de dos elementos: el índice y el tupla[indice]\nAun así siempre se suele utilizar en iteraciones directamente.\n'''\n\ntupla=(3,4,5,6,7)\nprint(list(enumerate(tupla)))\n\n#NOTA: observamos que el índice SIEMPRE empieza por 0",
      "metadata": {
        "trusted": true
      },
      "outputs": [
        {
          "name": "stdout",
          "output_type": "stream",
          "text": "[(0, 3), (1, 4), (2, 5), (3, 6), (4, 7)]\n"
        }
      ],
      "execution_count": 20
    },
    {
      "cell_type": "markdown",
      "source": "Ten en cuenta que `*args` es algo variable con X elementos. Como no sabemos a priori cuantos son, tendremos que recorrerlos con un `for`, y para cada argumento, aplicarle una operación. Por tanto, `*args` es un iterable, en concreto una **tupla**. Lo que le está dando la funcionalidad de \"argumentos variables\" es `*`, no `args`. Igual que ponemos `*args`, podemos poner `*argumentos`.\n\nPuedes combinar argumentos posicionales con los `*args`",
      "metadata": {
        "id": "5J-g2Xv0VzUX"
      }
    },
    {
      "cell_type": "code",
      "source": "# En este ejemplo, uso el ultimo argumento para dividir todo lo que habiamos multiplicado por este argumento\ndef multiplica_divide(*args,div):\n    resultado=1\n    for i in args: \n       resultado=resultado*i\n    resultado=resultado/div\n    return resultado",
      "metadata": {
        "id": "nH5qcktvVzUX",
        "trusted": true
      },
      "outputs": [],
      "execution_count": 23
    },
    {
      "cell_type": "code",
      "source": "#Si no definimos al llamar la función al resultado div nos da error\nmultiplica_divide(2,5,1,9,23,4)",
      "metadata": {
        "trusted": true
      },
      "outputs": [
        {
          "ename": "<class 'TypeError'>",
          "evalue": "multiplica_divide() missing 1 required keyword-only argument: 'div'",
          "traceback": [
            "\u001b[0;31m---------------------------------------------------------------------------\u001b[0m",
            "\u001b[0;31mTypeError\u001b[0m                                 Traceback (most recent call last)",
            "Cell \u001b[0;32mIn[24], line 1\u001b[0m\n\u001b[0;32m----> 1\u001b[0m \u001b[43mmultiplica_divide\u001b[49m\u001b[43m(\u001b[49m\u001b[38;5;241;43m2\u001b[39;49m\u001b[43m,\u001b[49m\u001b[38;5;241;43m5\u001b[39;49m\u001b[43m,\u001b[49m\u001b[38;5;241;43m1\u001b[39;49m\u001b[43m,\u001b[49m\u001b[38;5;241;43m9\u001b[39;49m\u001b[43m,\u001b[49m\u001b[38;5;241;43m23\u001b[39;49m\u001b[43m,\u001b[49m\u001b[38;5;241;43m4\u001b[39;49m\u001b[43m)\u001b[49m\n",
            "\u001b[0;31mTypeError\u001b[0m: multiplica_divide() missing 1 required keyword-only argument: 'div'"
          ],
          "output_type": "error"
        }
      ],
      "execution_count": 24
    },
    {
      "cell_type": "code",
      "source": "#Así es como se pondría:\nmultiplica_divide(2,5,1,9,23,div=4)",
      "metadata": {
        "trusted": true
      },
      "outputs": [
        {
          "execution_count": 25,
          "output_type": "execute_result",
          "data": {
            "text/plain": "517.5"
          },
          "metadata": {}
        }
      ],
      "execution_count": 25
    },
    {
      "cell_type": "code",
      "source": "#Este error se podría arreglar de la siguiente forma\n#cambia y pon el argumento posicional al principio y después los argumentos variables\ndef multiplica_divide(div,*args):\n    resultado=1\n    for i in args: \n       resultado=resultado*i\n    resultado=resultado/div\n    return resultado\nmultiplica_divide(4,2,5,1,9,23)",
      "metadata": {
        "trusted": true
      },
      "outputs": [
        {
          "execution_count": 30,
          "output_type": "execute_result",
          "data": {
            "text/plain": "517.5"
          },
          "metadata": {}
        }
      ],
      "execution_count": 30
    },
    {
      "cell_type": "markdown",
      "source": "<table align=\"left\">\n <tr>\n     <td style=\"text-align:left\">\n         <h3>ERRORES con argumentos variables</h3>\n         \n </td></tr>\n</table>",
      "metadata": {
        "id": "z0svhFhQVzUY"
      }
    },
    {
      "cell_type": "markdown",
      "source": "Declara los argumentos variables al principio, y los fijos al final para evitar errores. Además, si los combinas, tendrás que concretar cuáles son los argumentos fijos",
      "metadata": {
        "id": "utyclP5uVzUY"
      }
    },
    {
      "cell_type": "code",
      "source": "#Si lo hacemos de la forma anterior no podemos indicar el valor de dif,\n#Python se hace un lio al no saber si dif es el primero o el último\ndef multiplica_divide(div,*args):\n    resultado=1\n    for i in args: \n       resultado=resultado*i\n    resultado=resultado/div\n    return resultado\nmultiplica_divide(4,2,5,1,9,23)\nmultiplica_divide(4,2,5,1,9,23, dif=6)",
      "metadata": {
        "id": "vQRXYxE9VzUY",
        "trusted": true
      },
      "outputs": [
        {
          "ename": "<class 'TypeError'>",
          "evalue": "multiplica_divide() got an unexpected keyword argument 'dif'",
          "traceback": [
            "\u001b[0;31m---------------------------------------------------------------------------\u001b[0m",
            "\u001b[0;31mTypeError\u001b[0m                                 Traceback (most recent call last)",
            "Cell \u001b[0;32mIn[31], line 10\u001b[0m\n\u001b[1;32m      8\u001b[0m     \u001b[38;5;28;01mreturn\u001b[39;00m resultado\n\u001b[1;32m      9\u001b[0m multiplica_divide(\u001b[38;5;241m4\u001b[39m,\u001b[38;5;241m2\u001b[39m,\u001b[38;5;241m5\u001b[39m,\u001b[38;5;241m1\u001b[39m,\u001b[38;5;241m9\u001b[39m,\u001b[38;5;241m23\u001b[39m)\n\u001b[0;32m---> 10\u001b[0m \u001b[43mmultiplica_divide\u001b[49m\u001b[43m(\u001b[49m\u001b[38;5;241;43m4\u001b[39;49m\u001b[43m,\u001b[49m\u001b[38;5;241;43m2\u001b[39;49m\u001b[43m,\u001b[49m\u001b[38;5;241;43m5\u001b[39;49m\u001b[43m,\u001b[49m\u001b[38;5;241;43m1\u001b[39;49m\u001b[43m,\u001b[49m\u001b[38;5;241;43m9\u001b[39;49m\u001b[43m,\u001b[49m\u001b[38;5;241;43m23\u001b[39;49m\u001b[43m,\u001b[49m\u001b[43m \u001b[49m\u001b[43mdif\u001b[49m\u001b[38;5;241;43m=\u001b[39;49m\u001b[38;5;241;43m6\u001b[39;49m\u001b[43m)\u001b[49m\n",
            "\u001b[0;31mTypeError\u001b[0m: multiplica_divide() got an unexpected keyword argument 'dif'"
          ],
          "output_type": "error"
        }
      ],
      "execution_count": 31
    },
    {
      "cell_type": "code",
      "source": "",
      "metadata": {
        "id": "Oj8jmFl6VzUY"
      },
      "outputs": [],
      "execution_count": null
    }
  ]
}