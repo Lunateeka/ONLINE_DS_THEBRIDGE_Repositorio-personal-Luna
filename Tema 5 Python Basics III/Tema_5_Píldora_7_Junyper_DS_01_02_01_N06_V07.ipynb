{
  "metadata": {
    "kernelspec": {
      "name": "python",
      "display_name": "Python (Pyodide)",
      "language": "python"
    },
    "language_info": {
      "codemirror_mode": {
        "name": "python",
        "version": 3
      },
      "file_extension": ".py",
      "mimetype": "text/x-python",
      "name": "python",
      "nbconvert_exporter": "python",
      "pygments_lexer": "ipython3",
      "version": "3.8"
    },
    "colab": {
      "provenance": []
    }
  },
  "nbformat_minor": 4,
  "nbformat": 4,
  "cells": [
    {
      "cell_type": "markdown",
      "source": "![TheBridge_Python_v0.png](attachment:TheBridge_Python_v0.png)",
      "metadata": {
        "id": "FTiO-SBjVq1P"
      }
    },
    {
      "cell_type": "markdown",
      "source": "##  Funciones de usuario II",
      "metadata": {
        "id": "j8NYE79iVq1Q"
      }
    },
    {
      "cell_type": "markdown",
      "source": "### Contenidos",
      "metadata": {
        "id": "BdNpfgqqVq1Q"
      }
    },
    {
      "cell_type": "markdown",
      "source": "* [Return](#Return)\n\n* [Tipos de datos de los argumentos](#Tipos-de-datos-de-los-argumentos)\n\n* [Errores típicos con funciones](#Errores-típicos-con-funciones)\n\n",
      "metadata": {
        "id": "mREzTDriVq1Q"
      }
    },
    {
      "cell_type": "markdown",
      "source": "### Return\n[al indice](#Contenidos)  \n\n\nContinuamos con las funciones definidas por el usuario. Recuerda que la sintaxis que vimos en el anterior notebook era:\n\n\n> ```Python\n> def nombre_funcion(entrada):\n>    operaciones varias\n>    return output\n> ```\n\nHicimos un ejemplo de función que nos devolvía un resultado (output) que podíamos almacenar en una variable... pero las funciones **tampoco tienen por qué llevar un `return`**. No siempre es necesario un output. En tal caso, devuelve `None`",
      "metadata": {
        "id": "y6xD1zy6Vq1Q"
      }
    },
    {
      "cell_type": "code",
      "source": "from datetime import datetime\n\ndef que_hora_es():\n    now = datetime.now().time()\n    print(now)\n#En un caso así la función devuelve none\nhora=que_hora_es()\nprint(hora,type(hora))",
      "metadata": {
        "id": "o9V-y8MTVq1R",
        "trusted": true
      },
      "outputs": [
        {
          "name": "stdout",
          "output_type": "stream",
          "text": "20:26:05.536000\nNone <class 'NoneType'>\n"
        }
      ],
      "execution_count": 4
    },
    {
      "cell_type": "code",
      "source": "#las funciones no guardan la variable fuera de la función\nprint(now)",
      "metadata": {
        "trusted": true
      },
      "outputs": [
        {
          "ename": "<class 'NameError'>",
          "evalue": "name 'now' is not defined",
          "traceback": [
            "\u001b[0;31m---------------------------------------------------------------------------\u001b[0m",
            "\u001b[0;31mNameError\u001b[0m                                 Traceback (most recent call last)",
            "Cell \u001b[0;32mIn[5], line 2\u001b[0m\n\u001b[1;32m      1\u001b[0m \u001b[38;5;66;03m#las funciones no guardan la variable fuera de la función\u001b[39;00m\n\u001b[0;32m----> 2\u001b[0m \u001b[38;5;28mprint\u001b[39m(\u001b[43mnow\u001b[49m)\n",
            "\u001b[0;31mNameError\u001b[0m: name 'now' is not defined"
          ],
          "output_type": "error"
        }
      ],
      "execution_count": 5
    },
    {
      "cell_type": "markdown",
      "source": "También **puedes poner varias salidas en el return**. En ese caso, si no se especifica nada más la salida de la función será de tipo \"tupla\" (tuple). Pero generalmente los agrupamos en una colección.",
      "metadata": {
        "id": "jhOlH-puVq1R"
      }
    },
    {
      "cell_type": "code",
      "source": "#Al tener varios valores de salida, por defecto nos devuelve una tupla\ndef conversor_km_millas(distancia):\n    millas = 0.62 * distancia\n    metros = 1000 *distancia\n    return round(millas,1), millas, metros\nprint(conversor_km_millas(2221))\nprint(type(conversor_km_millas(2221)))",
      "metadata": {
        "id": "sB7hptrUVq1S",
        "trusted": true
      },
      "outputs": [
        {
          "name": "stdout",
          "output_type": "stream",
          "text": "(1377.0, 1377.02, 2221000)\n<class 'tuple'>\n"
        }
      ],
      "execution_count": 7
    },
    {
      "cell_type": "code",
      "source": "#puede interesarnos ponerlo de otras formas\ndef conversor_km_millas(distancia):\n    millas = 0.62 * distancia\n    metros = 1000 *distancia\n    return [round(millas,1), millas, metros]\nprint(conversor_km_millas(2221))\nprint(type(conversor_km_millas(2221)))\n\ndef conversor_km_millas(distancia):\n    millas = 0.62 * distancia\n    metros = 1000 *distancia\n    return {round(millas,1), millas, metros}\nprint(conversor_km_millas(2221))\nprint(type(conversor_km_millas(2221)))\n\ndef conversor_km_millas(distancia):\n    millas = 0.62 * distancia\n    metros = 1000 *distancia\n    return {\"millas_redondeadas\":round(millas,1), \"millas\":millas, \"metros\":metros}\nprint(conversor_km_millas(2221))\nprint(type(conversor_km_millas(2221)))",
      "metadata": {
        "trusted": true
      },
      "outputs": [
        {
          "name": "stdout",
          "output_type": "stream",
          "text": "[1377.0, 1377.02, 2221000]\n<class 'list'>\n{2221000, 1377.0, 1377.02}\n<class 'set'>\n{'millas_redondeadas': 1377.0, 'millas': 1377.02, 'metros': 2221000}\n<class 'dict'>\n"
        }
      ],
      "execution_count": 10
    },
    {
      "cell_type": "markdown",
      "source": "### Tipos de datos de los argumentos\n[al indice](#Contenidos)  \n\nLo que quieras: numeros, texto, listas, tuplas, diccionarios, objetos de clases que hayas definido...",
      "metadata": {
        "id": "4HcDqSquVq1S"
      }
    },
    {
      "cell_type": "code",
      "source": "def recibe_mix(tupla, lista, diccionario):\n    print(\"tupla contiene:\")\n    print(tupla)\n    print (\"y es de tipo\", type(tupla))\n    print(\"lista contiene:\")\n    print(lista)\n    print (\"y es de tipo\", type(lista))\n    print(\"diccionario contiene:\")\n    print(diccionario)\n    print (\"y es de tipo\", type(diccionario))\n    return[type(tupla),type(lista),type(diccionario)]\nrecibe_mix((12,35,23),[\"Esto\",\"es\",\"una\",\"lista\"],{\"key1\":\"valor1\"})",
      "metadata": {
        "id": "WERnoFfyVq1S",
        "trusted": true
      },
      "outputs": [
        {
          "name": "stdout",
          "output_type": "stream",
          "text": "tupla contiene:\n(12, 35, 23)\ny es de tipo <class 'tuple'>\nlista contiene:\n['Esto', 'es', 'una', 'lista']\ny es de tipo <class 'list'>\ndiccionario contiene:\n{'key1': 'valor1'}\ny es de tipo <class 'dict'>\n"
        },
        {
          "execution_count": 14,
          "output_type": "execute_result",
          "data": {
            "text/plain": "[tuple, list, dict]"
          },
          "metadata": {}
        }
      ],
      "execution_count": 14
    },
    {
      "cell_type": "code",
      "source": "#no hemos forzado a ninguno de las variable a ser nada\nrecibe_mix(1,\"Hola\",True)",
      "metadata": {
        "trusted": true
      },
      "outputs": [
        {
          "name": "stdout",
          "output_type": "stream",
          "text": "tupla contiene:\n1\ny es de tipo <class 'int'>\nlista contiene:\nHola\ny es de tipo <class 'str'>\ndiccionario contiene:\nTrue\ny es de tipo <class 'bool'>\n"
        },
        {
          "execution_count": 16,
          "output_type": "execute_result",
          "data": {
            "text/plain": "[int, str, bool]"
          },
          "metadata": {}
        }
      ],
      "execution_count": 16
    },
    {
      "cell_type": "markdown",
      "source": "### Errores típicos con funciones\n[al indice](#Contenidos)  \n\n",
      "metadata": {
        "id": "2DW9_Z1RVq1S"
      }
    },
    {
      "cell_type": "markdown",
      "source": "<table align=\"left\">\n <tr>\n     <td style=\"text-align:left\">\n         <h3>ERRORES variables de la función</h3>\n         \n </td></tr>\n</table>",
      "metadata": {
        "id": "n_m8QTtTVq1S"
      }
    },
    {
      "cell_type": "code",
      "source": "# Todo lo que declaremos dentro de la función se crea UNICAMENTE para la función\n# Fuera de la misma, esas variables no existen\ndef km2millas(dist):\n    millas dist*0.62\n    return round(millas,2)\nkm2millas(200)\nprint(millas)",
      "metadata": {
        "id": "0AWyA9uyVq1S",
        "trusted": true
      },
      "outputs": [
        {
          "ename": "<class 'SyntaxError'>",
          "evalue": "invalid syntax (<ipython-input-18-81364f40464f>, line 4)",
          "traceback": [
            "\u001b[0;36m  Cell \u001b[0;32mIn[18], line 4\u001b[0;36m\u001b[0m\n\u001b[0;31m    millas dist*0.62\u001b[0m\n\u001b[0m           ^\u001b[0m\n\u001b[0;31mSyntaxError\u001b[0m\u001b[0;31m:\u001b[0m invalid syntax\n"
          ],
          "output_type": "error"
        }
      ],
      "execution_count": 18
    },
    {
      "cell_type": "markdown",
      "source": "Se crea un namespace interno dentro de las funciones, es decir, que lo que declaremos dentro, se queda dentro. No lo podremos usar fuera. Además, ten en cuenta que todo lo que introduzcamos dentro de flujos de control (`if/else`, bucles...), nos vale para el resto de la función",
      "metadata": {
        "id": "yBNhxJf3Vq1T"
      }
    },
    {
      "cell_type": "code",
      "source": "def numero_ifs(numero):\n    if numero == 1:\n        out = 1\n    return out\n\nnumero_ifs(1)",
      "metadata": {
        "id": "weoxJyI-Vq1T",
        "trusted": true
      },
      "outputs": [
        {
          "execution_count": 19,
          "output_type": "execute_result",
          "data": {
            "text/plain": "1"
          },
          "metadata": {}
        }
      ],
      "execution_count": 19
    },
    {
      "cell_type": "code",
      "source": "numero_ifs(2)\n#vemos que nos da error porque hemos definido la variable interna out solo cuando \n#ponemos un 1",
      "metadata": {
        "id": "qN_Ql0UKVq1T",
        "trusted": true
      },
      "outputs": [
        {
          "ename": "<class 'UnboundLocalError'>",
          "evalue": "cannot access local variable 'out' where it is not associated with a value",
          "traceback": [
            "\u001b[0;31m---------------------------------------------------------------------------\u001b[0m",
            "\u001b[0;31mUnboundLocalError\u001b[0m                         Traceback (most recent call last)",
            "Cell \u001b[0;32mIn[20], line 1\u001b[0m\n\u001b[0;32m----> 1\u001b[0m \u001b[43mnumero_ifs\u001b[49m\u001b[43m(\u001b[49m\u001b[38;5;241;43m2\u001b[39;49m\u001b[43m)\u001b[49m\n",
            "Cell \u001b[0;32mIn[19], line 4\u001b[0m, in \u001b[0;36mnumero_ifs\u001b[0;34m(numero)\u001b[0m\n\u001b[1;32m      2\u001b[0m \u001b[38;5;28;01mif\u001b[39;00m numero \u001b[38;5;241m==\u001b[39m \u001b[38;5;241m1\u001b[39m:\n\u001b[1;32m      3\u001b[0m     out \u001b[38;5;241m=\u001b[39m \u001b[38;5;241m1\u001b[39m\n\u001b[0;32m----> 4\u001b[0m \u001b[38;5;28;01mreturn\u001b[39;00m \u001b[43mout\u001b[49m\n",
            "\u001b[0;31mUnboundLocalError\u001b[0m: cannot access local variable 'out' where it is not associated with a value"
          ],
          "output_type": "error"
        }
      ],
      "execution_count": 20
    },
    {
      "cell_type": "code",
      "source": "# Si no introducimos argumentos en una función que SI tiene argumentos, \n# salta un error de este estilo\nkm2millas()",
      "metadata": {
        "id": "MyzHua5eVq1T",
        "trusted": true
      },
      "outputs": [
        {
          "ename": "<class 'NameError'>",
          "evalue": "name 'km2millas' is not defined",
          "traceback": [
            "\u001b[0;31m---------------------------------------------------------------------------\u001b[0m",
            "\u001b[0;31mNameError\u001b[0m                                 Traceback (most recent call last)",
            "Cell \u001b[0;32mIn[21], line 3\u001b[0m\n\u001b[1;32m      1\u001b[0m \u001b[38;5;66;03m# Si no introducimos argumentos en una función que SI tiene argumentos, \u001b[39;00m\n\u001b[1;32m      2\u001b[0m \u001b[38;5;66;03m# salta un error de este estilo\u001b[39;00m\n\u001b[0;32m----> 3\u001b[0m \u001b[43mkm2millas\u001b[49m()\n",
            "\u001b[0;31mNameError\u001b[0m: name 'km2millas' is not defined"
          ],
          "output_type": "error"
        }
      ],
      "execution_count": 21
    },
    {
      "cell_type": "markdown",
      "source": "Cuidado también con la sintaxis de línea. Después de dos puntos `:`, viene todo el bloque de código tabulado, de la función",
      "metadata": {
        "id": "BR4arUBgVq1T"
      }
    },
    {
      "cell_type": "code",
      "source": "def mala_función(x):\nprint (x)\nreturn [x]",
      "metadata": {
        "id": "msVPdV39Vq1T",
        "trusted": true
      },
      "outputs": [
        {
          "ename": "<class 'IndentationError'>",
          "evalue": "expected an indented block after function definition on line 1 (<ipython-input-22-92e4f4c6dbbd>, line 2)",
          "traceback": [
            "\u001b[0;36m  Cell \u001b[0;32mIn[22], line 2\u001b[0;36m\u001b[0m\n\u001b[0;31m    print (x)\u001b[0m\n\u001b[0m    ^\u001b[0m\n\u001b[0;31mIndentationError\u001b[0m\u001b[0;31m:\u001b[0m expected an indented block after function definition on line 1\n"
          ],
          "output_type": "error"
        }
      ],
      "execution_count": 22
    },
    {
      "cell_type": "code",
      "source": "",
      "metadata": {
        "id": "RT-DFgb2Vq1T"
      },
      "outputs": [],
      "execution_count": null
    }
  ]
}