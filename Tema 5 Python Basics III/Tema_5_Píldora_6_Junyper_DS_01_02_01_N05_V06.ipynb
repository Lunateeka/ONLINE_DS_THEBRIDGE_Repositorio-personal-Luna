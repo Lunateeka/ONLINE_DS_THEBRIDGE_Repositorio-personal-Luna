{
  "metadata": {
    "kernelspec": {
      "name": "python",
      "display_name": "Python (Pyodide)",
      "language": "python"
    },
    "language_info": {
      "codemirror_mode": {
        "name": "python",
        "version": 3
      },
      "file_extension": ".py",
      "mimetype": "text/x-python",
      "name": "python",
      "nbconvert_exporter": "python",
      "pygments_lexer": "ipython3",
      "version": "3.8"
    },
    "colab": {
      "provenance": []
    }
  },
  "nbformat_minor": 4,
  "nbformat": 4,
  "cells": [
    {
      "cell_type": "markdown",
      "source": "![TheBridge_Python_v0.png](attachment:TheBridge_Python_v0.png)",
      "metadata": {
        "id": "TPq_3Fr3VmxI"
      }
    },
    {
      "cell_type": "markdown",
      "source": "##  Funciones de usuario I   \n",
      "metadata": {
        "id": "cfQlYA4QVmxJ"
      }
    },
    {
      "cell_type": "markdown",
      "source": "### Contenidos\n",
      "metadata": {
        "id": "T5Aui_aCVmxJ"
      }
    },
    {
      "cell_type": "markdown",
      "source": "* [Introducción  ](#Introducción--)\n\n* [Ejemplos](#Ejemplos)\n\n",
      "metadata": {
        "id": "SmYTuLxcVmxJ"
      }
    },
    {
      "cell_type": "markdown",
      "source": "### Introducción  \n[al indice](#Contenidos)  \n\n\nEn este notebook tienes la primera parte de una guía para orientarte en el uso de funciones en Python... pero antes de seguir con todo el \"rollo...\"\n\n\n",
      "metadata": {
        "id": "OOl4Otk8VmxK"
      }
    },
    {
      "cell_type": "markdown",
      "source": "### Contenidos",
      "metadata": {
        "id": "aRQwXW36VmxK"
      }
    },
    {
      "cell_type": "markdown",
      "source": "\n### Definición y sintaxis\n\nSe trata de bloques de código que encapsulan una serie de operaciones. Se usan para modular nuestro código y evitar escribir código de más.  \n\nMediante las **funciones** podemos encapsular código en formato entrada/salida. Por lo que si tienes un código repetitivo, que depende de ciertos inputs, las funciones pueden ser una buena solución.\n\n![funciones.png](./img/funciones.png)\n\nEs una manera de agrupar conjuntos de operaciones en módulos. **¿Cuándo usarlas?** Cuando tengamos varias operaciones que ejecutamos repetidamente en distintas partes del código. En ese caso, encapsulamos las operaciones en una función, y cada vez que haya que realizar tal operativa, llamamos a la función, y en una sola línea de código tenemos ejecutada esas operaciones.\n\nHasta ahora hemos estado utilizando funciones *built-in*, para operaciones sencillas como `len()`, `sum()` o `max()`. En este Notebook aprenderas a crear tus propias funciones.\n\nLa sintaxis es:\n> ```Python\n> def nombre_funcion(entrada):\n>    operaciones varias\n>    return output\n> ```\n\nFíjate que sigue la **sintaxis de línea** vista en Notebooks anteriores (tabulación detrás de los dos puntos, por ejemplo).  \n\nAdemás, todo lo que va después del `return` es ignorado, puesto que es la salida. En el `return` acaba la función. Ahora bien, eso no quiere decir que haya un único return. Si introducimos una sentencia `if/else`, podremos poner returns diferentes dependiendo de qué condición se cumpla.",
      "metadata": {
        "id": "PrKrKZxSVmxK"
      }
    },
    {
      "cell_type": "markdown",
      "source": "### Ejemplos\n[al indice](#Contenidos)  \n\n\nVamos a crear nuestra primera función",
      "metadata": {
        "id": "WXkRIDzzVmxK"
      }
    },
    {
      "cell_type": "code",
      "source": "# Vamos a crear un conversor de km a millas\ndef KmToMillas(km):\n    millas=km*0.621371\n    return millas\nprint(KmToMillas (3))\nmillas =KmToMillas (3) #la variable millas es distinta a la de la función\n#la variable millas de la función se queda en la función\nprint(millas)",
      "metadata": {
        "id": "RoSjlfPOVmxL",
        "trusted": true
      },
      "outputs": [
        {
          "name": "stdout",
          "output_type": "stream",
          "text": "1.8641130000000001\n1.8641130000000001\n"
        }
      ],
      "execution_count": 16
    },
    {
      "cell_type": "markdown",
      "source": "Al ejecutar el código anterior, no corre nada, simplemente almacenamos en memoria la función para usarla posteriormente. **Ahora podremos llamar a la función tantas veces como queramos, desde cualquier parte del codigo.**",
      "metadata": {
        "id": "GuT3CzVOVmxL"
      }
    },
    {
      "cell_type": "code",
      "source": "print(KmToMillas (3))\nmillas =KmToMillas (3) #la variable millas es distinta a la de la función\n#la variable millas de la función se queda en la función\nprint(millas)",
      "metadata": {
        "id": "D5KajrdyVmxL",
        "trusted": true
      },
      "outputs": [
        {
          "name": "stdout",
          "output_type": "stream",
          "text": "1.8641130000000001\n1.8641130000000001\n"
        }
      ],
      "execution_count": 17
    },
    {
      "cell_type": "code",
      "source": "#podemos ponerla para que la redondee así\ndef KmToMillas(km):\n    millas=km*0.621371\n    return round(millas,1)\nprint(KmToMillas (3))",
      "metadata": {
        "trusted": true
      },
      "outputs": [
        {
          "name": "stdout",
          "output_type": "stream",
          "text": "1.9\n"
        }
      ],
      "execution_count": 19
    },
    {
      "cell_type": "markdown",
      "source": "Las funciones no tienen por qué llevar argumentos. Eso sí, **es obligatorio** poner los parentesis, tanto en la declaración, como luego al llamar la función.",
      "metadata": {
        "id": "T7CawN5xVmxL"
      }
    },
    {
      "cell_type": "code",
      "source": "from datetime import datetime\n\ndef que_hora_es():\n    now = datetime.now().time()\n    return now\nque_hora_es()",
      "metadata": {
        "id": "it-3OHyFVmxL",
        "trusted": true
      },
      "outputs": [
        {
          "execution_count": 33,
          "output_type": "execute_result",
          "data": {
            "text/plain": "datetime.time(20, 21, 29, 547000)"
          },
          "metadata": {}
        }
      ],
      "execution_count": 33
    },
    {
      "cell_type": "code",
      "source": "#otra opción es si no la queremos guardar en una variable pedirle a la función\n#y simplemente queremos verla, pedirle a la función que nos lo imprima\n\ndef que_hora_es():\n    now = datetime.now().time()\n    print(now)\nque_hora_es()",
      "metadata": {
        "trusted": true
      },
      "outputs": [
        {
          "name": "stdout",
          "output_type": "stream",
          "text": "20:22:41.670000\n"
        }
      ],
      "execution_count": 34
    },
    {
      "cell_type": "code",
      "source": "#La función datetime.now nos dice el año, mes,dia, hora, minutos y segundos actuales:\nfrom datetime import datetime\nnow = datetime.now()\nprint(now.year)\nprint(datetime.now().year) #esto es otra forma de hacerlo directamente con todos ellos\n\nprint(now.month)\nprint(now.day)\nprint(now.minute)\nprint(now.second)\nprint(now.time())\nprint(\"Fecha : \",now.day,\"/\",now.month,\"/\",now.year,\"   Hora : \",now.time(),sep=\"\")",
      "metadata": {
        "id": "3xP1BGqrVmxM",
        "trusted": true
      },
      "outputs": [
        {
          "name": "stdout",
          "output_type": "stream",
          "text": "2025\n2025\n9\n25\n20\n52\n20:20:52.652000\nFecha : 25/9/2025   Hora : 20:20:52.652000\n"
        }
      ],
      "execution_count": 32
    },
    {
      "cell_type": "code",
      "source": "",
      "metadata": {
        "trusted": true
      },
      "outputs": [],
      "execution_count": null
    }
  ]
}