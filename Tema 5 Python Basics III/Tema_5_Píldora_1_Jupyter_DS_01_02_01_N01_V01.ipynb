{
  "metadata": {
    "kernelspec": {
      "name": "python",
      "display_name": "Python (Pyodide)",
      "language": "python"
    },
    "language_info": {
      "codemirror_mode": {
        "name": "python",
        "version": 3
      },
      "file_extension": ".py",
      "mimetype": "text/x-python",
      "name": "python",
      "nbconvert_exporter": "python",
      "pygments_lexer": "ipython3",
      "version": "3.8"
    },
    "colab": {
      "provenance": []
    }
  },
  "nbformat_minor": 4,
  "nbformat": 4,
  "cells": [
    {
      "cell_type": "markdown",
      "source": "![TheBridge_Python_v0.png](attachment:TheBridge_Python_v0.png)",
      "metadata": {
        "id": "pGcm3_iWzOTv"
      }
    },
    {
      "cell_type": "markdown",
      "source": "# Python Colecciones: Listas\n\n\nLas colecciones son una manera de agrupar varios elementos. En otros notebooks vimos cómo funcionan las listas, que es la colección más usada, pero se trata solo de la punta del iceberg. Con Python tenemos varias manera de almacenar conjuntos de datos, dependiendo del tipo de dato, finalidad, tipo de acceso y rendimiento.\n  \nEn este primer notebook vamos a repasar las listas y luego continuaremos con los otros tipo de colecciones básicos que tenemos en Python.",
      "metadata": {
        "id": "luysepyzzOTx"
      }
    },
    {
      "cell_type": "markdown",
      "source": "##  Listas\n",
      "metadata": {
        "id": "4N8n7MHCzOTz"
      }
    },
    {
      "cell_type": "markdown",
      "source": "### Contenidos\n",
      "metadata": {
        "id": "n4u20Vr4zOT0"
      }
    },
    {
      "cell_type": "markdown",
      "source": "* [Introducción](#Introducción)\n\n* [Acceso](#Acceso)\n\n* [Modificar elementos](#Modificar-elementos)\n\n* [Añadir elementos](#Añadir-elementos)\n\n* [Eliminar elementos](#Eliminar-elementos)\n\n* [Métodos: ordenar, tamaño, invertir orden, ocurrencia](#Métodos:-ordenar,-tamaño,-invertir-orden,-ocurrencia)\n\n",
      "metadata": {
        "id": "X2hDy3sbzOT0"
      }
    },
    {
      "cell_type": "markdown",
      "source": "### Introducción\n[al indice](#Contenidos)  \n\nYa conocemos bastante las listas. Veamos un repaso de lo que podemos hacer con ellas, así como algunas funcionalidades nuevas",
      "metadata": {
        "id": "BtxlRbTtzOT1"
      }
    },
    {
      "cell_type": "code",
      "source": "# Listas de números, strings, booleanos, con elementos repetidos, listas anidadas...\nnums = [6, 2, 8, 3, 4, 5, 5]\nmonths = [\"Enero\", \"Febrero\", \"Marzo\"]\nmix = [5, 7, \"Abril\", True, None, [\"Blanco\", \"Negro\"]]",
      "metadata": {
        "id": "2vtsWuDZzOT2"
      },
      "outputs": [],
      "execution_count": null
    },
    {
      "cell_type": "markdown",
      "source": "### Acceso\n[al indice](#Contenidos)  \n\nEntre corchetes introducimos el indice del elemento al que queremos acceder",
      "metadata": {
        "id": "GAzCSIOJzOT3"
      }
    },
    {
      "cell_type": "code",
      "source": "months = [\"Enero\", \"Febrero\", \"Marzo\"]\nprint(months[0])\nprint(months[-1])\nprint(months[-2])\nprint(months[-3])",
      "metadata": {
        "id": "uLVDzreRzOT4",
        "trusted": true
      },
      "outputs": [
        {
          "name": "stdout",
          "output_type": "stream",
          "text": "Enero\nMarzo\nFebrero\nEnero\n"
        }
      ],
      "execution_count": 2
    },
    {
      "cell_type": "markdown",
      "source": "Si planteamos el problema al revés. Tenemos los valores de la lista y lo que queremos es obtener el índice de esos valores dentro de la lista",
      "metadata": {
        "id": "0OV5x_pTzOT4"
      }
    },
    {
      "cell_type": "code",
      "source": "months = [\"Enero\", \"Febrero\", \"Marzo\", \"Marzo\"]\nprint(months.index(\"Febrero\"))\nprint(months.index(\"Marzo\")) #Solo nos da el índice del primero que aparece",
      "metadata": {
        "id": "h44JTyb6zOT5",
        "trusted": true
      },
      "outputs": [
        {
          "name": "stdout",
          "output_type": "stream",
          "text": "1\n2\n"
        }
      ],
      "execution_count": 5
    },
    {
      "cell_type": "markdown",
      "source": "**Slicing**: usamos slicing para acceder a varios elementos seguidos de la lista",
      "metadata": {
        "id": "Or286OzgzOT5"
      }
    },
    {
      "cell_type": "code",
      "source": "degrees = [22, 34, 15, 26, 18, 22]\nsub_degres= degrees[1:3] \n#tener en cuenta que siempre elige las posiciones del [x:] a uno menos de los que \n#que ponemos en [:y]\nprint(sub_degres)\n\n#Si queremos poner la última tiene que ser la 6\nsub_degres= degrees[1:6] \nprint(sub_degres)\n#Hay otras formas de ponerlo\nsub_degres= degrees[1:len(degrees)] \nprint(sub_degres)\nsub_degres= degrees[1:] \nprint(sub_degres)",
      "metadata": {
        "id": "1m8tOckszOT5",
        "trusted": true
      },
      "outputs": [
        {
          "name": "stdout",
          "output_type": "stream",
          "text": "[34, 15]\n[34, 15, 26, 18, 22]\n[34, 15, 26, 18, 22]\n[34, 15, 26, 18, 22]\n"
        }
      ],
      "execution_count": 11
    },
    {
      "cell_type": "markdown",
      "source": "### Modificar elementos\n[al indice](#Contenidos)  \n\nLas listas son mutables, por lo que podremos modificarlas",
      "metadata": {
        "id": "fBsrJOCZzOT5"
      }
    },
    {
      "cell_type": "code",
      "source": "# Accediendo mediante el indice\nmonths = [\"Enero\", \"Febrero\", \"Marzo\"]\nmonths[1]=\"Abril\"\nprint(months)",
      "metadata": {
        "id": "b7btmnw6zOT5",
        "trusted": true
      },
      "outputs": [
        {
          "name": "stdout",
          "output_type": "stream",
          "text": "['Enero', 'Abril', 'Marzo']\n"
        }
      ],
      "execution_count": 12
    },
    {
      "cell_type": "markdown",
      "source": "### Añadir elementos\n[al indice](#Contenidos)  \n\nSe añade al final de la lista si usamos `append`, o si queremos en un lugar concreto, mediante `insert`",
      "metadata": {
        "id": "cODEBby0zOT6"
      }
    },
    {
      "cell_type": "code",
      "source": "# Con append lo añadimos al final de la lista\nmotorcycles = ['honda', 'yamaha', 'suzuki']\nmotorcycles.append(\"kawasaki\")\nprint(motorcycles)\nmotorcycles.insert(3,\"kawasaki\",)\nprint(motorcycles)",
      "metadata": {
        "id": "Hwl0laEOzOT6",
        "trusted": true
      },
      "outputs": [
        {
          "name": "stdout",
          "output_type": "stream",
          "text": "['honda', 'yamaha', 'suzuki', 'kawasaki']\n['honda', 'yamaha', 'suzuki', 'kawasaki', 'kawasaki']\n"
        }
      ],
      "execution_count": 13
    },
    {
      "cell_type": "code",
      "source": "# Es muy comun crear una lista vacia, y a lo largo del programa, ir añadiendo elementos\nlista_motos = []\nlista_motos.append(\"primera\")\nlista_motos.insert(0,\"segunda\")\nprint(lista_motos)",
      "metadata": {
        "id": "n7FAOqKrzOT6",
        "trusted": true
      },
      "outputs": [
        {
          "name": "stdout",
          "output_type": "stream",
          "text": "['segunda', 'primera']\n"
        }
      ],
      "execution_count": 15
    },
    {
      "cell_type": "markdown",
      "source": "### Eliminar elementos\n[al indice](#Contenidos)  \n\nPara eliminar elementos se usar `remove`. Si no existe, da error, así que cuidado con esta sentencia.\n\nEn ocasiones resulta útil quedarnos con el elemento eliminado. Para ello usamos `pop()`, que elimina el elemento que le indiquemos, y además devuelve ese elemento por lo que podremos guardarlo en una variable para usarlo después.",
      "metadata": {
        "id": "amqPCvW6zOT6"
      }
    },
    {
      "cell_type": "code",
      "source": "cars = [\"VW\", \"Seat\", \"BMW\", \"VW\"]\ncars.remove(\"VW\") #Notese que siempre quita el primero que aparece\nprint(cars)",
      "metadata": {
        "id": "RrLEVPRFzOT7"
      },
      "outputs": [],
      "execution_count": null
    },
    {
      "cell_type": "code",
      "source": "# Eliminar elementos por indice, y guarda ese valor en una variable\ncars = [\"VW\", \"Seat\", \"BMW\", \"VW\"]\neliminado=cars.pop(1)\nprint(cars)\nprint(eliminado)",
      "metadata": {
        "id": "YyMn5muAzOT7",
        "trusted": true
      },
      "outputs": [
        {
          "name": "stdout",
          "output_type": "stream",
          "text": "['VW', 'BMW', 'VW']\nSeat\n"
        }
      ],
      "execution_count": 17
    },
    {
      "cell_type": "markdown",
      "source": "<table align=\"left\">\n <tr>\n     <td style=\"text-align:left\">\n         <h3>ERRORES remove</h3>\n         \n </td></tr>\n</table>",
      "metadata": {
        "id": "4EwTuQKTzOT7"
      }
    },
    {
      "cell_type": "code",
      "source": "cars = [\"VW\", \"Seat\", \"BMW\", \"VW\"]\ncars.remove(\"Tesla\")",
      "metadata": {
        "id": "OhWH60h_zOT7",
        "trusted": true
      },
      "outputs": [
        {
          "ename": "<class 'ValueError'>",
          "evalue": "list.remove(x): x not in list",
          "traceback": [
            "\u001b[0;31m---------------------------------------------------------------------------\u001b[0m",
            "\u001b[0;31mValueError\u001b[0m                                Traceback (most recent call last)",
            "Cell \u001b[0;32mIn[16], line 2\u001b[0m\n\u001b[1;32m      1\u001b[0m cars \u001b[38;5;241m=\u001b[39m [\u001b[38;5;124m\"\u001b[39m\u001b[38;5;124mVW\u001b[39m\u001b[38;5;124m\"\u001b[39m, \u001b[38;5;124m\"\u001b[39m\u001b[38;5;124mSeat\u001b[39m\u001b[38;5;124m\"\u001b[39m, \u001b[38;5;124m\"\u001b[39m\u001b[38;5;124mBMW\u001b[39m\u001b[38;5;124m\"\u001b[39m, \u001b[38;5;124m\"\u001b[39m\u001b[38;5;124mVW\u001b[39m\u001b[38;5;124m\"\u001b[39m]\n\u001b[0;32m----> 2\u001b[0m \u001b[43mcars\u001b[49m\u001b[38;5;241;43m.\u001b[39;49m\u001b[43mremove\u001b[49m\u001b[43m(\u001b[49m\u001b[38;5;124;43m\"\u001b[39;49m\u001b[38;5;124;43mTesla\u001b[39;49m\u001b[38;5;124;43m\"\u001b[39;49m\u001b[43m)\u001b[49m\n",
            "\u001b[0;31mValueError\u001b[0m: list.remove(x): x not in list"
          ],
          "output_type": "error"
        }
      ],
      "execution_count": 16
    },
    {
      "cell_type": "markdown",
      "source": "### Métodos: ordenar, tamaño, invertir orden, ocurrencia\n[al indice](#Contenidos)  \n\nEn este apartado veremos los métodos más útiles, pero podrás consultar el resto en [este enlace](https://www.w3schools.com/python/python_ref_list.asp)",
      "metadata": {
        "id": "7ioY_0HzzOT7"
      }
    },
    {
      "cell_type": "code",
      "source": "degrees = [22, 34, 15, 26, 18, 22]\ndegrees.sort()\nprint(degrees)\n\n#de mayor a menor\ndegrees.sort(reverse=True)\nprint(degrees)\n\n#Invertir la lista\ndegrees.reverse()\nprint(degrees)\n\n#Ocurrencias de un elemento\nprint(\"Hay un total de\",degrees.count(22),\"números 22 es la lista\")",
      "metadata": {
        "id": "sRz1xc0kzOT8",
        "trusted": true
      },
      "outputs": [
        {
          "name": "stdout",
          "output_type": "stream",
          "text": "[15, 18, 22, 22, 26, 34]\n[34, 26, 22, 22, 18, 15]\n[15, 18, 22, 22, 26, 34]\nHay un total de 2 números 22 es la lista\n"
        }
      ],
      "execution_count": 30
    },
    {
      "cell_type": "markdown",
      "source": "<table align=\"left\">\n <tr>\n     <td style=\"text-align:left\">\n         <h3>ERRORES indice</h3>\n         \n </td></tr>\n</table>",
      "metadata": {
        "id": "4LllYkvpzOT8"
      }
    },
    {
      "cell_type": "markdown",
      "source": "Mucho cuidado cuando accedemos a los elementos de la lista. Es un error muy habitual acceder a un índice que no existe en la lista.\n\nSi estamos accediendo al ultimo elemento, en vez de poner el numero de su indice, poner mejor `-1`, y asi evitamos errores",
      "metadata": {
        "id": "PtXAT0TjzOT8"
      }
    },
    {
      "cell_type": "code",
      "source": "degrees = [22, 34, 15, 26, 18, 22]\nprint(degrees[123])",
      "metadata": {
        "id": "kvXEjHhwzOT8",
        "trusted": true
      },
      "outputs": [
        {
          "ename": "<class 'IndexError'>",
          "evalue": "list index out of range",
          "traceback": [
            "\u001b[0;31m---------------------------------------------------------------------------\u001b[0m",
            "\u001b[0;31mIndexError\u001b[0m                                Traceback (most recent call last)",
            "Cell \u001b[0;32mIn[31], line 2\u001b[0m\n\u001b[1;32m      1\u001b[0m degrees \u001b[38;5;241m=\u001b[39m [\u001b[38;5;241m22\u001b[39m, \u001b[38;5;241m34\u001b[39m, \u001b[38;5;241m15\u001b[39m, \u001b[38;5;241m26\u001b[39m, \u001b[38;5;241m18\u001b[39m, \u001b[38;5;241m22\u001b[39m]\n\u001b[0;32m----> 2\u001b[0m \u001b[38;5;28mprint\u001b[39m(\u001b[43mdegrees\u001b[49m\u001b[43m[\u001b[49m\u001b[38;5;241;43m123\u001b[39;49m\u001b[43m]\u001b[49m)\n",
            "\u001b[0;31mIndexError\u001b[0m: list index out of range"
          ],
          "output_type": "error"
        }
      ],
      "execution_count": 31
    },
    {
      "cell_type": "markdown",
      "source": "Si tenemos este tipo de errores y no sabemos resolverlos, lo mejor es imprimir la longitud de la lista, y todos los elementos.",
      "metadata": {
        "id": "_2s7whKJzOT8"
      }
    },
    {
      "cell_type": "code",
      "source": "#contar elemento\nprint(degrees)\nprint(len(degrees))\n\n#Hay varias formas de acceder al ultimo elemento\nultimo_elemento=degrees[len(degrees)-1]\nprint(ultimo_elemento)\n#esta es la más comoda\nprint(degrees[-1])",
      "metadata": {
        "id": "Xq3SxPP3zOT8",
        "trusted": true
      },
      "outputs": [
        {
          "name": "stdout",
          "output_type": "stream",
          "text": "[22, 34, 15, 26, 18, 22]\n6\n22\n22\n"
        }
      ],
      "execution_count": 39
    },
    {
      "cell_type": "code",
      "source": "",
      "metadata": {
        "trusted": true
      },
      "outputs": [],
      "execution_count": null
    }
  ]
}