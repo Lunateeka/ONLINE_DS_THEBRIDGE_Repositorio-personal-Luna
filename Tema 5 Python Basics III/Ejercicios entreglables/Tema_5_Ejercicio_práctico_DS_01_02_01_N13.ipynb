{
  "metadata": {
    "kernelspec": {
      "name": "python",
      "display_name": "Python (Pyodide)",
      "language": "python"
    },
    "language_info": {
      "codemirror_mode": {
        "name": "python",
        "version": 3
      },
      "file_extension": ".py",
      "mimetype": "text/x-python",
      "name": "python",
      "nbconvert_exporter": "python",
      "pygments_lexer": "ipython3",
      "version": "3.8"
    },
    "colab": {
      "provenance": []
    }
  },
  "nbformat_minor": 4,
  "nbformat": 4,
  "cells": [
    {
      "cell_type": "markdown",
      "source": "![TheBridge_logo_RGB_color.jpg](attachment:TheBridge_logo_RGB_color.jpg)",
      "metadata": {
        "id": "9l3HMgm6RWxF"
      }
    },
    {
      "cell_type": "markdown",
      "source": "![ejercicios.png](attachment:ejercicios.png)",
      "metadata": {
        "id": "RGg9iWpoRWxG"
      }
    },
    {
      "cell_type": "markdown",
      "source": "## PRACTICA OBLIGATORIA: COLECCIONES Y FUNCIONES",
      "metadata": {
        "id": "AyOlWS2nRWxH"
      }
    },
    {
      "cell_type": "markdown",
      "source": "* La práctica obligatoria de esta unidad consiste varios ejercicios de programación libre a completar sobre Colecciones y Funciones. Descarga este notebook en tu ordenador y trabaja en local.  \n* Recuerda que debes subirla a tu repositorio personal antes de la sesión en vivo para que puntúe adecuadamente y puedas participar en dicha sesión.  \n* Recuerda también que no es necesario que esté perfecta, sólo es necesario que se vea el esfuerzo.\n* Esta práctica se resolverá en la sesión en vivo correspondiente y la solución se publicará en el repo del curso.",
      "metadata": {
        "id": "6UOgb0KVRWxH"
      }
    },
    {
      "cell_type": "markdown",
      "source": "### Contenidos",
      "metadata": {
        "id": "j3yu-tEjRWxH"
      }
    },
    {
      "cell_type": "markdown",
      "source": "## Ejercicio 1\nEleva todos los elementos de la lista al cuadrado\n> ```ejer_2 = [1,2,3,4,5]```",
      "metadata": {
        "id": "kO-fLH39RWxH"
      }
    },
    {
      "cell_type": "code",
      "source": "def elevar_cuadrado(args):\n    resultado = []\n    for arg in args:\n        resultado.append(arg*arg)\n    return resultado\n\nejer_2 = [1,2,3,4,5]\nprint(elevar_cuadrado(ejer_2))",
      "metadata": {
        "id": "ks5l3yi7RWxH",
        "trusted": true
      },
      "outputs": [
        {
          "name": "stdout",
          "output_type": "stream",
          "text": "[1, 4, 9, 16, 25]\n"
        }
      ],
      "execution_count": 15
    },
    {
      "cell_type": "markdown",
      "source": "## Ejercicio 2\nHaz un programa que detecte todos los duplicados de un elemento en una lista:\n* Utiliza una variable duplicado para asignarle el valor del elemento del que queremos encontrar todos sus duplicados.\n* El programa debe devolver todos los índices de los elementos duplicados.\n* Aplícalo para encontrar los duplicados de \"un\", \"es\" y \"binario\" de:  \n\n>```ejer_3 = [\"Un\", \"árbol\", \"binario\", \"es\", \"una\", \"estructura\", \"de\", \"un\", \"tipo\", \"particular\", \"a\", \"veces\", \"no\", \"es\", \"ni\", \"binario\"]```\n",
      "metadata": {
        "id": "kI_Xr5oFRWxI"
      }
    },
    {
      "cell_type": "code",
      "source": "\ndef detector_duplicados (lista):\n    resultado={}\n    indices=set()\n    palabra_de_interes=0\n    palabras_aparecidas=list()\n    for palabra in lista:\n        posicion_comparacion=lista.index(palabra)+1\n        for posicion_comparacion in range(posicion_comparacion,len(lista)):\n            if palabra.lower() == lista[posicion_comparacion].lower():\n                #print('La palabra \"',palabra,'\" que se encuentra en el índice ',lista.index(palabra),' está repetida en el índice ',posicion_comparacion,sep=\"\")   \n                indices.add(lista.index(palabra))\n                indices.add(posicion_comparacion)\n                palabra_de_interes=palabra.lower()\n                posicion_comparacion=posicion_comparacion+1\n            else:\n                posicion_comparacion=posicion_comparacion+1\n        if indices != set():\n            if palabras_aparecidas == list():\n                palabras_aparecidas.append(palabra_de_interes)\n                resultados_indices=list(indices)\n                resultados_indices.sort()\n                resultado.update({palabra_de_interes:resultados_indices})\n            if not palabra_de_interes in palabras_aparecidas:          \n                palabras_aparecidas.append(palabra_de_interes)\n                resultados_indices=list(indices)\n                resultados_indices.sort()\n                resultado.update({palabra_de_interes:resultados_indices})\n        indices.clear()\n    for i in palabras_aparecidas:\n        print('la palabra \"',palabras_aparecidas[palabras_aparecidas.index(i)],'\" aparece un total de ',len(resultado[i]),\n             'veces, y aparece en las posiciones',resultado[i])\n    return resultado \n\nejer_3 = [\"Un\", \"árbol\", \"binario\", \"es\", \"una\", \"estructura\", \"de\", \"un\", \"tipo\", \n          \"particular\", \"a\", \"veces\", \"no\", \"es\", \"ni\", \"binario\"]\nprint(detector_duplicados(ejer_3))",
      "metadata": {
        "id": "cLY9WB7YRWxI",
        "trusted": true
      },
      "outputs": [
        {
          "name": "stdout",
          "output_type": "stream",
          "text": "la palabra \" un \" aparece un total de  2 veces, y aparece en las posiciones [0, 7]\nla palabra \" binario \" aparece un total de  2 veces, y aparece en las posiciones [2, 15]\nla palabra \" es \" aparece un total de  2 veces, y aparece en las posiciones [3, 13]\n{'un': [0, 7], 'binario': [2, 15], 'es': [3, 13]}\nla palabra \" un \" aparece un total de  2 veces, y aparece en las posiciones [0, 7]\nla palabra \" binario \" aparece un total de  2 veces, y aparece en las posiciones [2, 15]\nla palabra \" es \" aparece un total de  4 veces, y aparece en las posiciones [3, 13, 18, 23]\nla palabra \" una \" aparece un total de  2 veces, y aparece en las posiciones [4, 24]\n{'un': [0, 7], 'binario': [2, 15], 'es': [3, 13, 18, 23], 'una': [4, 24]}\n"
        }
      ],
      "execution_count": 10
    },
    {
      "cell_type": "code",
      "source": "#Aunque sabía que solo había palabras repetidas dos veces he enfocado el código a que se puedan contar si están repetidas más de dos veces\nprueba_3 = [\"Un\", \"árbol\", \"binario\", \"es\", \"una\", \"estructura\", \"de\", \"un\", \"tipo\", \n          \"particular\", \"a\", \"veces\", \"no\", \"es\", \"ni\", \"binario\",\".\",\"Esto\",\"es\",\"añadido\",\",\",\"ya\",\"que\",\"es\",\"una\",\"prueba\"]\nprint(detector_duplicados(prueba_3))",
      "metadata": {
        "trusted": true
      },
      "outputs": [
        {
          "name": "stdout",
          "output_type": "stream",
          "text": "la palabra \" un \" aparece un total de  2 veces, y aparece en las posiciones [0, 7]\nla palabra \" binario \" aparece un total de  2 veces, y aparece en las posiciones [2, 15]\nla palabra \" es \" aparece un total de  4 veces, y aparece en las posiciones [3, 13, 18, 23]\nla palabra \" una \" aparece un total de  2 veces, y aparece en las posiciones [4, 24]\n{'un': [0, 7], 'binario': [2, 15], 'es': [3, 13, 18, 23], 'una': [4, 24]}\n"
        }
      ],
      "execution_count": 11
    },
    {
      "cell_type": "markdown",
      "source": "## Ejercicio 3\n1. ¿Cuántas veces se repite el 3 en la siguiente tupla?\n2. Crea una tupla nueva con los elementos desde la posicion 5 a la 10.\n3. ¿Cuántos elementos tiene la tupla `ejer_3`?\n> ```ejer_9 = (3, 20, 3, 47, 19, 3, 29, 45, 67, 78, 90, 3, 3, 5, 2, 4, 7, 9, 4, 2, 4, 3, 3, 4, 6, 7)```",
      "metadata": {
        "id": "3WrBd5QaRWxI"
      }
    },
    {
      "cell_type": "code",
      "source": "ejer_9 = (3, 20, 3, 47, 19, 3, 29, 45, 67, 78, 90, 3, 3, 5, 2, 4, 7, 9, 4, 2, 4, 3, 3, 4, 6, 7)\nprint(\"1. ejer_9 contiene\",ejer_9.count(3),\"número 3\")\n\ntupla=tuple(range(5,11))\nprint(\"2. la tupla solicitada es\",tuple(range(5,11)))\n\nprint(\"3. ejer_3 tiene una longitud de\",len(ejer_3))",
      "metadata": {
        "id": "bkv_R5LYRWxI",
        "trusted": true
      },
      "outputs": [
        {
          "name": "stdout",
          "output_type": "stream",
          "text": "1. ejer_9 contiene 7 número 3\n2. la tupla solicitada es (5, 6, 7, 8, 9, 10)\n3. ejer_3 tiene una longitud de 16\n"
        }
      ],
      "execution_count": 68
    },
    {
      "cell_type": "markdown",
      "source": "## Ejercicio 4\nComprueba si el numero 60 esta en la tupla del ejercicio 3",
      "metadata": {
        "id": "6g8Y54AeRWxI"
      }
    },
    {
      "cell_type": "code",
      "source": "if 60 in ejer_9:\n    print(\"Si! lo encontré en la posición\",ejer_9.index(60),\":D\")\nelse:\n    print(\"No... No está :(\")",
      "metadata": {
        "id": "F8VTEZonRWxI",
        "trusted": true
      },
      "outputs": [
        {
          "name": "stdout",
          "output_type": "stream",
          "text": "No... No está :(\n"
        }
      ],
      "execution_count": 69
    },
    {
      "cell_type": "markdown",
      "source": "## Ejercicio 5\n1. Convierte la tupla del ejercicio 3 en una lista\n2. Convierte la tupla del ejercicio 3 en un set\n3. Convierte la tupla del ejercicio 3 en un diccionario. Usa también los indices",
      "metadata": {
        "id": "y0fg-ZA6RWxI"
      }
    },
    {
      "cell_type": "code",
      "source": "print(\"1. La tupla ejer_9 en lista quedaría así\",list(ejer_9))\n                                                     \nprint(\"2. La tupla ejer_3 en set sería esta\",set(ejer_3))\n                                                      \nprint(\"3. La tupla ejer_3 en diccionario con índices sería así\",list(enumerate(ejer_3)))",
      "metadata": {
        "id": "_O5hXr01RWxI",
        "trusted": true
      },
      "outputs": [
        {
          "name": "stdout",
          "output_type": "stream",
          "text": "1. La tupla ejer_9 en lista quedaría así [3, 20, 3, 47, 19, 3, 29, 45, 67, 78, 90, 3, 3, 5, 2, 4, 7, 9, 4, 2, 4, 3, 3, 4, 6, 7]\n2. La tupla ejer_3 en set sería esta {'Un', 'árbol', 'un', 'ni', 'binario', 'no', 'es', 'particular', 'una', 'estructura', 'tipo', 'de', 'veces', 'a'}\n3. La tupla ejer_3 en diccionario con índices sería así [(0, 'Un'), (1, 'árbol'), (2, 'binario'), (3, 'es'), (4, 'una'), (5, 'estructura'), (6, 'de'), (7, 'un'), (8, 'tipo'), (9, 'particular'), (10, 'a'), (11, 'veces'), (12, 'no'), (13, 'es'), (14, 'ni'), (15, 'binario')]\n"
        }
      ],
      "execution_count": 81
    },
    {
      "cell_type": "markdown",
      "source": "## Ejercicio 6\nMultiplica todos los valores del diccionario\n> ```ejer_6 = {1: 11, 2: 22, 3: 33, 4: 44, 5: 55}```",
      "metadata": {
        "id": "eOdWWbxvRWxJ"
      }
    },
    {
      "cell_type": "code",
      "source": "ejer_6 = {1: 11, 2: 22, 3: 33, 4: 44, 5: 55}\nimport math\nprint(\"El resultado de multiplicar todos los valores del diccionario sin las llaves es \",math.prod(ejer_6.values()))\nprint(\"El resultado de multiplicar todos los valores del diccionario sin importar que sean llaves valores es\",\n      math.prod(ejer_6.keys())*math.prod(ejer_6.values()))\n",
      "metadata": {
        "id": "KcuByovKRWxJ",
        "trusted": true
      },
      "outputs": [
        {
          "name": "stdout",
          "output_type": "stream",
          "text": "El resultado de multiplicar todos los valores del diccionario sin las llaves es  19326120\nEl resultado de multiplicar todos los valores del diccionario sin importar que sean llaves valores es 2319134400\n"
        }
      ],
      "execution_count": 93
    },
    {
      "cell_type": "markdown",
      "source": "## Ejercicio 7\n\n1. Crea un diccionario que describa un libro, con los siguientes campos o claves: \"titulo\",\"autor\",\"idioma original\",\"año de publicación\".\n2. Crea un a lista, llamada librería.\n3. Añade cuatro libros a tu elección a la librería.",
      "metadata": {
        "id": "W7TUSaKRRWxJ"
      }
    },
    {
      "cell_type": "code",
      "source": "libro1 = {\"titulo\":1984,\"autor\":\"George Orwell\",\"idioma original\":\"ingles\",\"año de publicacion\":1949}\nlibreria=[]\nlibro2 = {\"titulo\":\"Yo, robot\",\"autor\":\"Isaac Asimov\",\"idioma original\":\"ingles\",\"año de publicacion\":1950}\nlibro3 = {\"titulo\":\"Rebelión en la granja\",\"autor\":\"George Orwell\",\"idioma original\":\"ingles\",\"año de publicacion\":1945}\nlibro4 = {\"titulo\":\"El hombre en busca de sentido\",\"autor\":\"Victor Frank\",\"idioma original\":\"alemán\",\"año de publicacion\":1946}\nlibreria=libreria+[libro1,libro2,libro3,libro4]\nprint(\"Así quedaría mi librería\",libreria)",
      "metadata": {
        "vscode": {
          "languageId": "plaintext"
        },
        "id": "d-IMRvxRRWxJ",
        "trusted": true
      },
      "outputs": [
        {
          "name": "stdout",
          "output_type": "stream",
          "text": "Así quedaría mi librería [{'titulo': 1984, 'autor': 'George Orwell', 'idioma original': 'ingles', 'año de publicacion': 1949}, {'titulo': 'Yo, robot', 'autor': 'Isaac Asimov', 'idioma original': 'ingles', 'año de publicacion': 1950}, {'titulo': 'Rebelión en la granja', 'autor': 'George Orwell', 'idioma original': 'ingles', 'año de publicacion': 1945}, {'titulo': 'El hombre en busca de sentido', 'autor': 'Victor Frank', 'idioma original': 'alemán', 'año de publicacion': 1946}]\n"
        }
      ],
      "execution_count": 3
    },
    {
      "cell_type": "markdown",
      "source": "## Ejercicio 8\nModifica los valores del idioma de todos los libros del ejercicio anterior para que sea \"esperanto\"\n",
      "metadata": {
        "id": "glMoedjYRWxJ"
      }
    },
    {
      "cell_type": "code",
      "source": "for i in range(len(libreria)):\n    libreria[i][\"idioma original\"] = \"esperanto\"\nprint(libreria)",
      "metadata": {
        "id": "veNdC-uwRWxJ",
        "trusted": true
      },
      "outputs": [
        {
          "name": "stdout",
          "output_type": "stream",
          "text": "[{'titulo': 1984, 'autor': 'George Orwell', 'idioma original': 'esperanto', 'año de publicacion': 1949}, {'titulo': 'Yo, robot', 'autor': 'Isaac Asimov', 'idioma original': 'esperanto', 'año de publicacion': 1950}, {'titulo': 'Rebelión en la granja', 'autor': 'George Orwell', 'idioma original': 'esperanto', 'año de publicacion': 1945}, {'titulo': 'El hombre en busca de sentido', 'autor': 'Victor Frank', 'idioma original': 'esperanto', 'año de publicacion': 1946}]\n"
        }
      ],
      "execution_count": 4
    },
    {
      "cell_type": "markdown",
      "source": "## Ejercicio 9\n1. Escribe un programa que dada una variable titulo busque los libros que hay en la librería con ese título. Si no se encuentra debe devolver el mensaje `Ese no lo tengo, ¿mola?`\n2. Pruena que el programa con uno de tus libros y con otro que no contenga tu librería.",
      "metadata": {
        "id": "DRCJG04KRWxJ"
      }
    },
    {
      "cell_type": "code",
      "source": "def buscador_libros (titulo):\n    lista_booleanos=list()\n    for i in range(len(libreria)):\n        if libreria[i][\"titulo\"] == titulo:\n            print(\"¡Si que lo tengo! Mira, te paso la información completa del libro\",libreria[i])\n            lista_booleanos.append(True)\n            i=i+1\n        else:\n            lista_booleanos.append(False)\n            i=i+1\n        continue\n    lista_comparación=[False]*len(lista_booleanos)\n    if lista_booleanos == lista_comparación:\n        print(\"Vaya... parece que no lo tenemos :'(((\")     \n#Esta función es escalable a librerías mas grandes\n\nbuscador_libros(\"Yo, robot\")",
      "metadata": {
        "id": "eWHdJi9BRWxJ",
        "trusted": true
      },
      "outputs": [
        {
          "name": "stdout",
          "output_type": "stream",
          "text": "¡Si que lo tengo! Mira, te paso la información completa del libro {'titulo': 'Yo, robot', 'autor': 'Isaac Asimov', 'idioma original': 'esperanto', 'año de publicacion': 1950}\n"
        }
      ],
      "execution_count": 5
    },
    {
      "cell_type": "code",
      "source": "buscador_libros(\"Don Quijote\")",
      "metadata": {
        "id": "eWHdJi9BRWxJ",
        "trusted": true
      },
      "outputs": [
        {
          "name": "stdout",
          "output_type": "stream",
          "text": "Vaya... parece que no lo tenemos :'(((\n"
        }
      ],
      "execution_count": 145
    },
    {
      "cell_type": "markdown",
      "source": "## Ejercicio 10\nConvierte el programa del ejercicio 2 en una función al que se le pase el valor a buscar como un argumento posicional",
      "metadata": {
        "id": "17YOpYuFRWxJ"
      }
    },
    {
      "cell_type": "code",
      "source": "libro1 = {\"titulo\":1984,\"autor\":\"George Orwell\",\"idioma original\":\"ingles\",\"año de publicacion\":1949}\nlibro2 = {\"titulo\":\"Yo, robot\",\"autor\":\"Isaac Asimov\",\"idioma original\":\"ingles\",\"año de publicacion\":1950}\nlibro3 = {\"titulo\":\"Rebelión en la granja\",\"autor\":\"George Orwell\",\"idioma original\":\"ingles\",\"año de publicacion\":1945}\nlibro4 = {\"titulo\":\"El hombre en busca de sentido\",\"autor\":\"Victor Frank\",\"idioma original\":\"alemán\",\"año de publicacion\":1946}\nlibreria=[libro1,libro2,libro3,libro4]\nprint(\"Así quedaría mi librería\",libreria)",
      "metadata": {
        "id": "xbj0LgvnRWxJ",
        "trusted": true
      },
      "outputs": [
        {
          "name": "stdout",
          "output_type": "stream",
          "text": "Así quedaría mi librería [{'titulo': 1984, 'autor': 'George Orwell', 'idioma original': 'ingles', 'año de publicacion': 1949}, {'titulo': 'Yo, robot', 'autor': 'Isaac Asimov', 'idioma original': 'ingles', 'año de publicacion': 1950}, {'titulo': 'Rebelión en la granja', 'autor': 'George Orwell', 'idioma original': 'ingles', 'año de publicacion': 1945}, {'titulo': 'El hombre en busca de sentido', 'autor': 'Victor Frank', 'idioma original': 'alemán', 'año de publicacion': 1946}]\n"
        }
      ],
      "execution_count": 6
    },
    {
      "cell_type": "code",
      "source": "def buscador_libros (llave,valor):\n    lista_booleanos=list()\n    for i in range(len(libreria)):\n        if libreria[i][llave] == valor:\n            print(\"¡Si que lo tengo! Mira, te paso la información completa del libro\",libreria[i])\n            lista_booleanos.append(True)\n            i=i+1\n        elif libreria[i][llave] == valor and True in lista_booleanos:\n            print(\"¡He encontrado otro! Mira, te paso la información completa del libro\",libreria[i])\n            lista_booleanos.append(True)\n            i=i+1\n        else:\n            lista_booleanos.append(False)\n            i=i+1\n        continue\n    lista_comparación=[False]*len(lista_booleanos)\n    if lista_booleanos == lista_comparación:\n        print(\"Vaya... parece que no lo tenemos :'(((\")     \n#Ha esta función se le ha añadido una opción por si encuentra varios libros que tengan la combinación clave valor introducida\n\nbuscador_libros(\"autor\",\"George Orwell\")",
      "metadata": {
        "id": "xbj0LgvnRWxJ",
        "trusted": true
      },
      "outputs": [
        {
          "name": "stdout",
          "output_type": "stream",
          "text": "¡Si que lo tengo! Mira, te paso la información completa del libro {'titulo': 1984, 'autor': 'George Orwell', 'idioma original': 'ingles', 'año de publicacion': 1949}\n¡Si que lo tengo! Mira, te paso la información completa del libro {'titulo': 'Rebelión en la granja', 'autor': 'George Orwell', 'idioma original': 'ingles', 'año de publicacion': 1945}\n"
        }
      ],
      "execution_count": 7
    },
    {
      "cell_type": "code",
      "source": "buscador_libros(\"titulo\",\"Harry Potter\")",
      "metadata": {
        "id": "xbj0LgvnRWxJ",
        "trusted": true
      },
      "outputs": [
        {
          "name": "stdout",
          "output_type": "stream",
          "text": "Vaya... parece que no lo tenemos :'(((\n"
        }
      ],
      "execution_count": 8
    },
    {
      "cell_type": "markdown",
      "source": "## Ejercicio 11\nConvierte el programa del ejercicio 9 en una función al que se le pasen como argumentos la librería, posicional, y el título, argumento keyword con valor \"ninguno\", por defecto.",
      "metadata": {
        "id": "xZ-sWJxPRWxJ"
      }
    },
    {
      "cell_type": "code",
      "source": "def buscador_libros (libreria,titulo,keyword=None):\n    lista_booleanos=list()\n    for i in range(len(libreria)):\n        if libreria[i][\"titulo\"] == titulo:\n            print(\"¡Si que lo tengo! Mira, te paso la información completa del libro\",libreria[i])\n            lista_booleanos.append(True)\n            i=i+1\n        else:\n            lista_booleanos.append(False)\n            i=i+1\n        continue\n    lista_comparación=[False]*len(lista_booleanos)\n    if lista_booleanos == lista_comparación:\n        print(\"Vaya... parece que no lo tenemos :'(((\")   \nbuscador_libros(libreria,\"Yo, robot\")\nprint(\" \")\nbuscador_libros(libreria,\"Don Quijote\")",
      "metadata": {
        "trusted": true
      },
      "outputs": [
        {
          "name": "stdout",
          "output_type": "stream",
          "text": "¡Si que lo tengo! Mira, te paso la información completa del libro {'titulo': 'Yo, robot', 'autor': 'Isaac Asimov', 'idioma original': 'ingles', 'año de publicacion': 1950}\nVaya... parece que no lo tenemos :'(((\n"
        }
      ],
      "execution_count": 15
    },
    {
      "cell_type": "code",
      "source": "#para intendar darle utilidad al argumento keyword, como una palabra clave que haga referencia a cualquiera de las variables\ndef buscador_libros (libreria,titulo,keyword=None):\n    lista_booleanos=list()\n    lista_keys=[\"autor\",\"idioma original\",\"año de publicacion\"]\n    for i in range(len(libreria)):\n        if libreria[i][\"titulo\"] == titulo:\n            print(\"¡Si que lo tengo! Mira, te paso la información completa del libro\",libreria[i])\n            lista_booleanos.append(True)\n            i=i+1\n        else:\n            lista_booleanos.append(False)\n            i=i+1\n        continue\n    lista_comparación=[False]*len(lista_booleanos)\n    if lista_booleanos == lista_comparación:\n        for i in range(len(libreria)):\n            for j in range(3):\n                if libreria[i][lista_keys[j]] == keyword:\n                    print(\"No he encontrado el título que me indicaste, pero por la keyword que me has dado he encontrado un resultado ¿Te referías a\\\n                    este libro? te paso la información completa del libro\",libreria[i])\n                    lista_booleanos.append(True)\n                    j=j+1\n                else:\n                    lista_booleanos.append(False)\n                    j=j+1\n    \n    lista_comparación=[False]*len(lista_booleanos)\n    if lista_booleanos == lista_comparación:\n        print(\"Vaya... parece que en esta librería no está :'(((\")  \n\nbuscador_libros(libreria,\"Yo, robot\")\nprint(\" \")\nbuscador_libros(libreria,\"Don Quijote\")\nprint(\" \")\nbuscador_libros(libreria,\"Don Quijote\",keyword=\"Victor Frank\")",
      "metadata": {
        "id": "4-JrsMdNRWxK",
        "trusted": true
      },
      "outputs": [
        {
          "name": "stdout",
          "output_type": "stream",
          "text": "¡Si que lo tengo! Mira, te paso la información completa del libro {'titulo': 'Yo, robot', 'autor': 'Isaac Asimov', 'idioma original': 'ingles', 'año de publicacion': 1950}\n \nVaya... parece que en esta librería no está :'(((\n \nNo he entrado el título que me indicas, pero por la keyword que me han dado he encontrado un resultado ¿Te referías a                    este libro? te paso la información completa del libro {'titulo': 'El hombre en busca de sentido', 'autor': 'Victor Frank', 'idioma original': 'alemán', 'año de publicacion': 1946}\n"
        }
      ],
      "execution_count": 21
    },
    {
      "cell_type": "markdown",
      "source": "## Ejercicio 12\nSolicitar al usuario que ingrese su dirección email. Imprimir un mensaje indicando si la dirección es válida o no, valiéndose de una función para decidirlo. Una dirección se considerará válida si contiene el símbolo \"@\".",
      "metadata": {
        "id": "FtJir95QRWxK"
      }
    },
    {
      "cell_type": "code",
      "source": "def validar_email():\n    email=input(\"Por favor, indiqueme su dirección de correo electrónico\")\n    if \"@\" in email:\n        print(\"La dirección, al menos tiene un @\")\n    else :\n        print(\"La dirección de correo electrónico no es valida 0.0\")\n    \nvalidar_email()",
      "metadata": {
        "id": "sk852IZ8RWxK",
        "trusted": true
      },
      "outputs": [
        {
          "output_type": "stream",
          "name": "stdin",
          "text": "Por favor, indiqueme su dirección de correo electrónico sñdkf@spdf\n"
        },
        {
          "name": "stdout",
          "output_type": "stream",
          "text": "La dirección, al menos tiene un @\n"
        }
      ],
      "execution_count": 28
    },
    {
      "cell_type": "markdown",
      "source": "## Ejercicio 13\nEscribe una función que compruebe si un DNI es válido, devolviendo `True` en caso afirmativo.  \nEn primer lugar, el DNI debe tener entre 7 y 8 dígitos numéricos.  \nPara saber si la letra del DNI es correcta puedes utilizar el siguiente fragmento de código:\n>```Python\n>DNI= 55555555\n>palabra='TRWAGMYFPDXBNJZSQVHLCKE'\n>print('La letra del DNI es: ', palabra[DNI%23])\n>````\n",
      "metadata": {
        "id": "Kw1MWBwBRWxK"
      }
    },
    {
      "cell_type": "code",
      "source": "DNI= 55555555\npalabra='TRWAGMYFPDXBNJZSQVHLCKE'\nprint('La letra del DNI es: ', palabra[DNI%23])",
      "metadata": {
        "id": "F5Z9rSHqRWxK",
        "trusted": true
      },
      "outputs": [
        {
          "name": "stdout",
          "output_type": "stream",
          "text": "La letra del DNI es:  K\n"
        }
      ],
      "execution_count": 30
    },
    {
      "cell_type": "code",
      "source": "#Como no entendía muy bien lo que me pedía el enunciado más alla de que el DNI tuviera 7 u 8 numeros me he tomado la libertad de validarlo a mi manera\n#El dni se valida si tiene 7o8 numero, si tiene una letra, y la letra se encuentra al final\ndef validar_DNI():\n    DNI_completo=input(\"Por favor, podría indicarme su numero de DNI\")\n    DNI_lista=list(DNI_completo) \n    DNI_numero_contar=0\n    DNI_letra_contar=0\n    DNI_letra_posicion=0\n    for i in range(len(DNI_lista)):\n        try:\n            int(DNI_lista[i]) \n            DNI_numero_contar=DNI_numero_contar+1\n        except:\n            DNI_letra_contar=DNI_letra_contar+1\n            DNI_letra_posicion=i+1\n    print(DNI_numero_contar,DNI_letra_contar,DNI_letra_posicion)\n    if (DNI_letra_contar == 1) and (DNI_numero_contar == (7 or 8)) and (DNI_letra_posicion == len(DNI_lista)) :\n        print(\"El numero de DNI insertado es correcto\")\n    else:\n        print(\"El numero de DNI insertado es incorrecto\")\n\nvalidar_DNI()",
      "metadata": {
        "trusted": true
      },
      "outputs": [
        {
          "output_type": "stream",
          "name": "stdin",
          "text": "Por favor, podría indicarme su numero de DNI 11111111\n"
        },
        {
          "name": "stdout",
          "output_type": "stream",
          "text": "8 0 0\nEl numero de DNI insertado es incorrecto\n"
        }
      ],
      "execution_count": 74
    }
  ]
}