{
  "metadata": {
    "kernelspec": {
      "name": "python",
      "display_name": "Python (Pyodide)",
      "language": "python"
    },
    "language_info": {
      "codemirror_mode": {
        "name": "python",
        "version": 3
      },
      "file_extension": ".py",
      "mimetype": "text/x-python",
      "name": "python",
      "nbconvert_exporter": "python",
      "pygments_lexer": "ipython3",
      "version": "3.8"
    },
    "colab": {
      "provenance": []
    }
  },
  "nbformat_minor": 4,
  "nbformat": 4,
  "cells": [
    {
      "cell_type": "markdown",
      "source": "![TheBridge_Python_v0.png](attachment:TheBridge_Python_v0.png)",
      "metadata": {
        "id": "s1MDB9NPVb3j"
      }
    },
    {
      "cell_type": "markdown",
      "source": "## Colecciones Python: Diccionarios\n",
      "metadata": {
        "id": "zdcnfQjeVb3k"
      }
    },
    {
      "cell_type": "markdown",
      "source": "### Contenidos\n",
      "metadata": {
        "id": "lKVtas7NVb3k"
      }
    },
    {
      "cell_type": "markdown",
      "source": "* [Introducción](#Introducción)\n\n* [Acceso, modificación, añadir, eliminar](#Acceso,-modificación,-añadir,-eliminar)\n\n* [Iterar](#Iterar)\n\n",
      "metadata": {
        "id": "fsSA3vL0Vb3l"
      }
    },
    {
      "cell_type": "markdown",
      "source": "### Introducción\n[al indice](#Contenidos)  \n\nEn este tipo de colecciones no solo podemos agrupar datos, sino que tenemos la posibilidad de establecer una relación entre los mismos, con la forma **clave: valor**.\n\nLa sintaxis  es mediante llaves `{}`\n\n> nombre_diccionario = {clave1: valor1, clave2: valor2, clave3: valor3}\n\nSi veíamos que las listas son elementos mutables y y ordenadas, y las tuplas inmutables y ordenadas, los diccionarios son:\n\n* **Mutables**: podemos modificar sus elementos\n* **Desordenado**: la potencia de acceso de los diccionarios es su formato clave-valor, no su orden. Aun así, el dicionario conserva el orden de los elemento según los vamos insertando.\n\nVamos a declarar un diccionario en el que definiremos elementos de un coche",
      "metadata": {
        "id": "zNreJlFqVb3l"
      }
    },
    {
      "cell_type": "code",
      "source": "#El diccionario nos permite poner una serie de etiquetas a distintos valores\ndiccionario_prueba={\"clave1\":1, \"clave2\":2, \"clave3\": 3}\ndiccionario_prueba[\"clave1\"]",
      "metadata": {
        "id": "LH9jPVfUVb3l",
        "trusted": true
      },
      "outputs": [
        {
          "execution_count": 5,
          "output_type": "execute_result",
          "data": {
            "text/plain": "1"
          },
          "metadata": {}
        }
      ],
      "execution_count": 5
    },
    {
      "cell_type": "markdown",
      "source": "Se puede almacenar todo tipo de datos: numero, cadena, booleano, listas, tuplas, diccionarios...\n\nCuando declaremos el diccionario, lo podemos hacer en una sola linea `coche = {\"color\"=\"Gris\", \"marca\"...}`, aunque se recomienda por sencillez a la hora de leer el código, realizar esta acción en varias líneas. Si escribimos el primer elemento y presionamos enter, Jupyter introduce automáticamente la tabulación.",
      "metadata": {
        "id": "ffjwGk_EVb3m"
      }
    },
    {
      "cell_type": "code",
      "source": "coche={\n    \"color\":\"Gris\",\n    \"marca\":\"Tesla\",\n    \"modelo\":\"Cybertruck\",\n    \"peso\":\"3500\",\n    \"cambio automatico\":True\n}\nprint(coche)\n",
      "metadata": {
        "trusted": true
      },
      "outputs": [
        {
          "name": "stdout",
          "output_type": "stream",
          "text": "{'color': 'Gris', 'marca': 'Tesla', 'modelo': 'Cybertruck', 'peso': '3500', 'cambio automatico': True}\n"
        }
      ],
      "execution_count": 9
    },
    {
      "cell_type": "markdown",
      "source": "### Acceso, modificación, añadir, eliminar\n[al indice](#Contenidos)  \n\n",
      "metadata": {
        "id": "TBdssldYVb3m"
      }
    },
    {
      "cell_type": "code",
      "source": "#Acceso\nprint(\"El coche es de color\",coche[\"color\"])",
      "metadata": {
        "id": "R2b7ytp-Vb3m",
        "trusted": true
      },
      "outputs": [
        {
          "name": "stdout",
          "output_type": "stream",
          "text": "El coche es de color Gris\n"
        }
      ],
      "execution_count": 11
    },
    {
      "cell_type": "code",
      "source": "#cambiar un valor por una lista de valores en una clave o etiqueta\ncoche[\"color\"]=[\"rojo\",\"gris\"]\nprint(coche[\"color\"])",
      "metadata": {
        "trusted": true
      },
      "outputs": [
        {
          "name": "stdout",
          "output_type": "stream",
          "text": "['rojo', 'gris']\n"
        }
      ],
      "execution_count": 16
    },
    {
      "cell_type": "code",
      "source": "#añadir elementos\ncoche[\"puertas\"] = 6\nprint(coche[\"puertas\"])\nprint(coche)",
      "metadata": {
        "trusted": true
      },
      "outputs": [
        {
          "name": "stdout",
          "output_type": "stream",
          "text": "6\n{'color': ['rojo', 'gris'], 'marca': 'Tesla', 'modelo': 'Cybertruck', 'peso': '3500', 'cambio automatico': True, 'puertas': 6}\n"
        }
      ],
      "execution_count": 19
    },
    {
      "cell_type": "code",
      "source": "#Eliminar un elemento\ndel coche[\"puertas\"]\nprint(coche)",
      "metadata": {
        "trusted": true
      },
      "outputs": [
        {
          "name": "stdout",
          "output_type": "stream",
          "text": "{'color': ['rojo', 'gris'], 'marca': 'Tesla', 'modelo': 'Cybertruck', 'peso': '3500', 'cambio automatico': True}\n"
        }
      ],
      "execution_count": 18
    },
    {
      "cell_type": "code",
      "source": "#conocer las claves de un diccionario, las pone en una lista\nprint(coche.keys())\n\n#conocer los valores, poniendolos en una lista\nprint(coche.values())",
      "metadata": {
        "trusted": true
      },
      "outputs": [
        {
          "name": "stdout",
          "output_type": "stream",
          "text": "dict_keys(['color', 'marca', 'modelo', 'peso', 'cambio automatico', 'puertas'])\ndict_values([['rojo', 'gris'], 'Tesla', 'Cybertruck', '3500', True, 6])\n"
        }
      ],
      "execution_count": 25
    },
    {
      "cell_type": "markdown",
      "source": "Para más detalle de los métodos de los diccionario puedes [consultar la documentación](https://www.w3schools.com/python/python_ref_dictionary.asp)",
      "metadata": {
        "id": "KCAxKXVeVb3m"
      }
    },
    {
      "cell_type": "code",
      "source": "# Podemos empezar tambien mediante un diccionario vacío\n#tienda={}\ntienda = dict()    #otra opción\ntienda[\"direccion\"] = \"montesa 12\"\ntienda[\"tamaño\"] = 24\nprint(tienda)",
      "metadata": {
        "id": "Hm6k-6WKVb3m",
        "trusted": true
      },
      "outputs": [
        {
          "name": "stdout",
          "output_type": "stream",
          "text": "{'direccion': 'montesa 12', 'tamaño': 24}\n"
        }
      ],
      "execution_count": 37
    },
    {
      "cell_type": "markdown",
      "source": "<table align=\"left\">\n <tr>\n     <td style=\"text-align:left\">\n         <h3>ERRORES en diccionarios</h3>\n         \n </td></tr>\n</table>",
      "metadata": {
        "id": "e9f2W5SDVb3n"
      }
    },
    {
      "cell_type": "markdown",
      "source": "Si hay una clave que no existe en el diccionario, saltará un error.\n\nEn este caso, el error es bastante intuitivo: `KeyError`, no encuentra la clave",
      "metadata": {
        "id": "YVBvbggLVb3n"
      }
    },
    {
      "cell_type": "code",
      "source": "coche[\"ventanas\"]",
      "metadata": {
        "id": "7wBxKJCEVb3n",
        "trusted": true
      },
      "outputs": [
        {
          "ename": "<class 'KeyError'>",
          "evalue": "'ventanas'",
          "traceback": [
            "\u001b[0;31m---------------------------------------------------------------------------\u001b[0m",
            "\u001b[0;31mKeyError\u001b[0m                                  Traceback (most recent call last)",
            "Cell \u001b[0;32mIn[20], line 1\u001b[0m\n\u001b[0;32m----> 1\u001b[0m \u001b[43mcoche\u001b[49m\u001b[43m[\u001b[49m\u001b[38;5;124;43m\"\u001b[39;49m\u001b[38;5;124;43mventanas\u001b[39;49m\u001b[38;5;124;43m\"\u001b[39;49m\u001b[43m]\u001b[49m\n",
            "\u001b[0;31mKeyError\u001b[0m: 'ventanas'"
          ],
          "output_type": "error"
        }
      ],
      "execution_count": 20
    },
    {
      "cell_type": "markdown",
      "source": "**¿Cómo solventar esto?** Sirmpre tienes la opción de usar el bloque `try/except`, pero en este caso, los diccionarios tienen una solución más elegante: `mi_diccionario.get(clave, valor si no existe)`",
      "metadata": {
        "id": "CDnCE-8jVb3n"
      }
    },
    {
      "cell_type": "code",
      "source": "#Si no existe una clave y valor o no sabemos si existe, lo comprobamos mediante\ncristales = coche.get(\"cristales\",4)\nprint(cristales) \n#Nos da solo el valor, ya que \"`puertas\" no está en el diccionario\n\ncristales= coche.get(\"cristales\",\"desconocida\")\nprint(cristales)\n#si lo ponemos así podremos ver si está o no en el diccionario\n\npuertas = coche.get(\"puertas\",\"desconocida\")\nprint(puertas)\n#Si le ponemos una que si existe nos da el valor de esa clave ",
      "metadata": {
        "id": "k1GMFcsDVb3n",
        "trusted": true
      },
      "outputs": [
        {
          "name": "stdout",
          "output_type": "stream",
          "text": "4\ndesconocida\n6\n"
        }
      ],
      "execution_count": 48
    },
    {
      "cell_type": "markdown",
      "source": "### Iterar\n[al indice](#Contenidos)  \n\nQue el diccionario no esté ordenado, no quiere decir que no podamos iterar sus elementos, ya que también es un **interable**, como los son las listas o las tuplas.",
      "metadata": {
        "id": "L3SryyGPVb3n"
      }
    },
    {
      "cell_type": "code",
      "source": "for i in coche:\n    print(i)\n    print(coche[i])\n",
      "metadata": {
        "id": "nGrGNuYaVb3n",
        "trusted": true
      },
      "outputs": [
        {
          "name": "stdout",
          "output_type": "stream",
          "text": "color\n['rojo', 'gris']\nmarca\nTesla\nmodelo\nCybertruck\npeso\n3500\ncambio automatico\nTrue\npuertas\n6\n"
        }
      ],
      "execution_count": 50
    },
    {
      "cell_type": "code",
      "source": "for i in coche:\n    print(i,\":\",coche[i])",
      "metadata": {
        "id": "_na5zeU4Vb3o",
        "trusted": true
      },
      "outputs": [
        {
          "name": "stdout",
          "output_type": "stream",
          "text": "color ['rojo', 'gris']\nmarca Tesla\nmodelo Cybertruck\npeso 3500\ncambio automatico True\npuertas 6\n"
        }
      ],
      "execution_count": 51
    },
    {
      "cell_type": "code",
      "source": "#.items nos da una lista que contiene duplas con los elementos apareados clave y valor\n#de esta forma podemos iterar con las claves y los valores de una vez\nprint(coche.items())\n\n\nfor clave,valor in coche.items():\n    print(clave,\":\",valor)",
      "metadata": {
        "trusted": true
      },
      "outputs": [
        {
          "name": "stdout",
          "output_type": "stream",
          "text": "dict_items([('color', ['rojo', 'gris']), ('marca', 'Tesla'), ('modelo', 'Cybertruck'), ('peso', '3500'), ('cambio automatico', True), ('puertas', 6)])\ncolor : ['rojo', 'gris']\nmarca : Tesla\nmodelo : Cybertruck\npeso : 3500\ncambio automatico : True\npuertas : 6\n"
        }
      ],
      "execution_count": 54
    },
    {
      "cell_type": "code",
      "source": "",
      "metadata": {
        "trusted": true
      },
      "outputs": [],
      "execution_count": null
    },
    {
      "cell_type": "code",
      "source": "",
      "metadata": {
        "trusted": true
      },
      "outputs": [],
      "execution_count": null
    }
  ]
}