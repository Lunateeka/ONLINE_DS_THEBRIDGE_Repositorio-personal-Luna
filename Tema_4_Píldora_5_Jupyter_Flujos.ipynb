{
  "metadata": {
    "kernelspec": {
      "name": "python",
      "display_name": "Python (Pyodide)",
      "language": "python"
    },
    "language_info": {
      "codemirror_mode": {
        "name": "python",
        "version": 3
      },
      "file_extension": ".py",
      "mimetype": "text/x-python",
      "name": "python",
      "nbconvert_exporter": "python",
      "pygments_lexer": "ipython3",
      "version": "3.8"
    },
    "vscode": {
      "interpreter": {
        "hash": "90139cb9a825bf3d63f6f6704e828dbd1ff7edbd4d0c6e906a71235d6efc74af"
      }
    },
    "colab": {
      "provenance": []
    }
  },
  "nbformat_minor": 4,
  "nbformat": 4,
  "cells": [
    {
      "cell_type": "markdown",
      "source": "# Python Flujos de Control\n\nHasta ahora hemos visto cómo ejecutar un programa secuencialmente, empieza en la primera línea y acaba en la última. Pero ¿y si queremos que cambien los outputs del programa en función de ciertas condiciones, o si queremos que tome otros caminos en caso de encontrar errores?. Todo esto lo podremos hacer con los flujos de control. Sentencias que encontrarás en todos los lenguajes de programación.\n\n\n1. [Sintaxis de línea](#1.-Sintaxis-de-línea)\n1. [if/elif/else](#2.-if/elif/else)\n2. [Bucle for](#3.-Bucle-for)\n3. [Bucle while](#4.-Bucle-while)\n4. [Break/continue](#5.-Break/continue)\n5. [Try/except](#6.-Try/except)\n6. [Resumen](#7.-Resumen)",
      "metadata": {
        "id": "uXXscqCMjmHS"
      }
    },
    {
      "cell_type": "markdown",
      "source": "## 1. Sintaxis de línea\nLa manera en la que Python encapsula todo el código que va dentro de un flujo de control como `if` o `for` es diferente a como se suele hacer en otros lenguajes, en los que se rodea de llaves `{}` o paréntesis `()` todo el contenido del flujo. Con Python no. En Python simplemente hay que añadir una tabulación a cada línea de código que vaya dentro del flujo de control.\n\n> ```Python\n> while condiciones:\n>     Código dentro de este bucle\n> ```\n\n\nSi lo dejamos fuera, este código se ejecutará secuencialmente después de que corra el for\n\n> ```Python\n> while condiciones:\n>\n> Código fuera de este bucle\n> ```\n\nVeamos un ejemplo. Tenemos una lista de numeros, y queremos ver cuáles son enteros. Para ello los recorremos con un `for` (vermos más en profundiad en este notebook). Vamos iternando uno a uno cada elemento. Luego mediante un `if` comprobamos si es entero. Fíjate que todo lo que va dentro del `for` lleva una tabulación y lo que va dentro del `if` lleva dos tabulaciones, puesto que sus sentencias van tanto dentro del `if`, como dentro del `for`.",
      "metadata": {
        "id": "hbWFWMXajmHV"
      }
    },
    {
      "cell_type": "code",
      "source": "nota = 7\n\nif nota >= 5:\n    print(\"Aprobado\")\nelse:\n    print(\"Suspenso\")\nprint(\"Finaliza ejecución\")",
      "metadata": {
        "colab": {
          "base_uri": "https://localhost:8080/"
        },
        "id": "NC4TEW_OjmHW",
        "outputId": "fb314144-f1e3-4542-b3ea-b0692d952ecb",
        "trusted": true
      },
      "outputs": [
        {
          "name": "stdout",
          "output_type": "stream",
          "text": "Aprobado\nFinaliza ejecución\n"
        }
      ],
      "execution_count": 44
    },
    {
      "cell_type": "markdown",
      "source": "\n#### ERRORES ¿Qué ocurre si nos olvidamos de tabular?\n         \n",
      "metadata": {
        "id": "iD3CAoMNjmHX"
      }
    },
    {
      "cell_type": "code",
      "source": "nota = 7\n\nif nota >= 5:\nprint(\"Aprobado\")\nelse:\nprint(\"Suspenso\")\nprint(\"Finaliza ejecución\")",
      "metadata": {
        "colab": {
          "base_uri": "https://localhost:8080/",
          "height": 106
        },
        "id": "c70zKelsjmHY",
        "outputId": "500a7cb5-6520-4acb-e642-f97e539d14ec",
        "trusted": true
      },
      "outputs": [
        {
          "ename": "<class 'IndentationError'>",
          "evalue": "expected an indented block after 'if' statement on line 3 (<ipython-input-45-2a13e73aafca>, line 4)",
          "traceback": [
            "\u001b[0;36m  Cell \u001b[0;32mIn[45], line 4\u001b[0;36m\u001b[0m\n\u001b[0;31m    print(\"Aprobado\")\u001b[0m\n\u001b[0m    ^\u001b[0m\n\u001b[0;31mIndentationError\u001b[0m\u001b[0;31m:\u001b[0m expected an indented block after 'if' statement on line 3\n"
          ],
          "output_type": "error"
        }
      ],
      "execution_count": 45
    },
    {
      "cell_type": "code",
      "source": "numeros = [4, 6, 4.0, 3.0]\n\nfor num in numeros:\n    print(\"Iteración for\")\n    if type(num) == int:\n        print(\"El numero\", num, \"es un entero\")\nprint(\"Finaliza ejecución\")",
      "metadata": {
        "colab": {
          "base_uri": "https://localhost:8080/"
        },
        "id": "Kqhg8Ah_jmHY",
        "outputId": "1aa95301-4b3f-445d-88f8-02b1f206fc64",
        "trusted": true
      },
      "outputs": [
        {
          "name": "stdout",
          "output_type": "stream",
          "text": "Iteración for\nEl numero 4 es un entero\nIteración for\nEl numero 6 es un entero\nIteración for\nIteración for\nFinaliza ejecución\n"
        }
      ],
      "execution_count": 46
    },
    {
      "cell_type": "markdown",
      "source": "Ojo, el error no ha dado en el `if`, sino en el `for`. Te señala lo que hay inmediatamente despues de los dos puntos del `for`, ya que considera que ahí debería haber una tabulación. No la hay, y por eso salta el error.",
      "metadata": {
        "id": "cR6OmqtSjmHY"
      }
    },
    {
      "cell_type": "markdown",
      "source": "### Sintaxis\nPor tanto, toda sentencia `if`, `for`, `while`, `try`, declaración de funciones, de clases, llevan dos puntos. Y después de los dos puntos, tabulado, va todo el contenido de ese bloque. **Siempre**.\n\nSi pones los dos puntos y le das a enter, Python automáticamente te tabula todo lo que vayas a escribir a continuación.",
      "metadata": {
        "id": "VITobfsLjmHZ"
      }
    },
    {
      "cell_type": "markdown",
      "source": "## 2. if/elif/else\nEn función de lo que valgan unas condiciones booleanas, ejecutaremos unas líneas de código, u otras. La sintaxis es muy sencilla:\n\n\n> ```Python\n> if condiciones:\n>     Si se cumplen las condiciones, ejecuta este código\n> else:\n>     Si no, ejecutas estre otro código\n> ```\n    \nVeamos un ejemplo",
      "metadata": {
        "id": "VkWfui-CjmHa"
      }
    },
    {
      "cell_type": "code",
      "source": "3 == 1",
      "metadata": {
        "colab": {
          "base_uri": "https://localhost:8080/"
        },
        "id": "3tM4RQtwSqxd",
        "outputId": "0f125ff6-6cd7-4a6f-9ba3-ea5b7a311b66",
        "trusted": true
      },
      "outputs": [
        {
          "execution_count": 47,
          "output_type": "execute_result",
          "data": {
            "text/plain": "False"
          },
          "metadata": {}
        }
      ],
      "execution_count": 47
    },
    {
      "cell_type": "code",
      "source": "if 1 == 1:\n    print(\"Es verdadero\")\nelse:\n    print(\"Es falso\")\nprint(\"Finalizado\")",
      "metadata": {
        "colab": {
          "base_uri": "https://localhost:8080/"
        },
        "id": "80kkJcdLSr9F",
        "outputId": "cc925553-3db1-493c-c59f-7b098b5885aa",
        "trusted": true
      },
      "outputs": [
        {
          "name": "stdout",
          "output_type": "stream",
          "text": "Es verdadero\nFinalizado\n"
        }
      ],
      "execution_count": 48
    },
    {
      "cell_type": "code",
      "source": "mi_nota = 3\n\nif mi_nota < 5:\n    print(\"A septiembre\")\n\nelif mi_nota > 10:\n    print(\"Error. Es hasta 10\")\n\nelif mi_nota == 3:\n    print(\"Tu nota es un 3\")\n\nelse:\n    print(\"Aprobado\")\n#Es curioso ver que hay una condición que nunca será posible que se de \"Tu nota es un 3\"",
      "metadata": {
        "colab": {
          "base_uri": "https://localhost:8080/"
        },
        "id": "5sr3xnTMjmHa",
        "outputId": "fa7d4501-294e-483c-e064-2f8291a2d414",
        "trusted": true
      },
      "outputs": [
        {
          "name": "stdout",
          "output_type": "stream",
          "text": "A septiembre\n"
        }
      ],
      "execution_count": 49
    },
    {
      "cell_type": "code",
      "source": "mi_nota = 6\n\nif mi_nota < 5:\n    print(\"A septiembre\")\n\nelif mi_nota > 10:\n    print(\"Error. Es hasta 10\")\n\nelif mi_nota == 3:\n    print(\"Tu nota es un 3\")\n\nelse:\n    print(\"Aprobado\")",
      "metadata": {
        "trusted": true
      },
      "outputs": [
        {
          "name": "stdout",
          "output_type": "stream",
          "text": "Aprobado\n"
        }
      ],
      "execution_count": 50
    },
    {
      "cell_type": "code",
      "source": "mi_nota = 11\n\nif mi_nota < 5:\n    print(\"A septiembre\")\n\nelif mi_nota > 10:\n    print(\"Error. Es hasta 10\")\n\nelif mi_nota == 3:\n    print(\"Tu nota es un 3\")\n\nelse:\n    print(\"Aprobado\")",
      "metadata": {
        "trusted": true
      },
      "outputs": [
        {
          "name": "stdout",
          "output_type": "stream",
          "text": "Error. Es hasta 10\n"
        }
      ],
      "execution_count": 51
    },
    {
      "cell_type": "markdown",
      "source": "Únicamente se ejecuta la parte de código que consigue un `True` en la condición. `print(\"Aprobado!\")` sólo se imprimirá por pantalla si la nota es mayor o igual a 5.",
      "metadata": {
        "id": "kkmWqln9jmHa"
      }
    },
    {
      "cell_type": "markdown",
      "source": "**IMPORTANTE**. Todos los `ifs` se ejecutan secuencialmente.",
      "metadata": {
        "id": "894XuyvijmHb"
      }
    },
    {
      "cell_type": "markdown",
      "source": "¿Recuerdas lo que viste con el *Algebra de Boole*? Este es el momento de utilizarlo. Cuando acudimos a varias condiciones dentro de un mismo `if`, tenemos que tener muy claras las operaciones binarias que estamos realizando.",
      "metadata": {
        "id": "TPvvQdF5jmHb"
      }
    },
    {
      "cell_type": "code",
      "source": "pico = False\nalas = False\nsonido = \"Ladrar\"\npatas = 2\n\nif pico or alas:\n    # True or False = True\n    print(\"Ave\")\n\nelif patas == 4 and sonido == \"Ladrar\":\n    # True and True = True\n    print(\"Perro\")\n\nelse:\n    print(\"Otro animal\")",
      "metadata": {
        "colab": {
          "base_uri": "https://localhost:8080/"
        },
        "id": "Gyfb9UXQjmHb",
        "outputId": "4ed24b12-35d6-45eb-f74e-d879b4eacf8d",
        "trusted": true
      },
      "outputs": [
        {
          "name": "stdout",
          "output_type": "stream",
          "text": "Otro animal\n"
        }
      ],
      "execution_count": 52
    },
    {
      "cell_type": "markdown",
      "source": "*Python >= 3.10*\n## match case\nPuedes verlo como el equivalente de la sentencia switch que ya hay en otros lenguajes. Originalmente, Python solo contaba con la sentencia if - else para el manejo de condicionales en el flujo de la aplicación, pero desde Python 3.10 se introdujo la novedad del Structural Pattern Matching y con eso la sentencia match - case.\n\n> ```Python\n>match variable:\n>\tcase \"value 1\":\n>\t  x = 15\n>\tcase \"value 2\":\n>\t  x = 25\n>\tcase _:\n>\t  x = 0\n> ```\n\n",
      "metadata": {
        "id": "GW0lgDKTjmHc"
      }
    },
    {
      "cell_type": "code",
      "source": "day = input(\"Ingrese un día de la semana: \")\n\n# Usando match case\nmatch day.lower(): # notese que hemos añadido un lower para que podamos introducir el te\n                   # texto en mayusculas\n    case \"lunes\":\n        task = \"Hacer la compra\"\n    case \"martes\":\n        task = \"Ir al gimnasio\"\n    case \"miércoles\":\n        task = \"Estudiar Python\"\n    case \"jueves\":\n        task = \"Llamar a mamá\"\n    case \"viernes\":\n        task = \"Ver una película\"\n    case \"sábado\":\n        task = \"Salir con amigos\"\n    case \"domingo\":\n        task = \"Relajarse en casa\"\n    case _:\n        task = \"Ese día no es válido\"\n\nprint(f\"La tarea para {day} es: {task}\")",
      "metadata": {
        "colab": {
          "base_uri": "https://localhost:8080/"
        },
        "id": "mOhiIjaIjmHc",
        "outputId": "f2e47713-3265-4101-941a-936c254c51aa",
        "trusted": true
      },
      "outputs": [
        {
          "output_type": "stream",
          "name": "stdin",
          "text": "Ingrese un día de la semana:  miércoles\n"
        },
        {
          "name": "stdout",
          "output_type": "stream",
          "text": "La tarea para miércoles es: Estudiar Python\n"
        }
      ],
      "execution_count": 54
    },
    {
      "cell_type": "markdown",
      "source": "## 3. Bucle for\nGracias a los bucles podemos ejecutar código repetitivo, de manera bastante automática. Son muy útiles para que nuestro código no sea redundante, y también para aplicar operaciones cuando manejamos iterables. Un iterable no es más que una colección de objetos (una lista es un iterable) que podremos ir recorriendo uno a uno con el bucle `for`, y aplicar operaciones a cada elemento.\n\nLa sintaxis de los bucles `for` es la siguiente:\n\n```Python\nfor var_ejecucion in limites ejecución:\n    \"codigo del for\"...\n```\n    \n    \n* **Límites de ejecución**: La cantidad de veces que queremos que se ejecute un `for`. Esto es así porque si no se ejecutarían hasta el infinito. Y además, tienen una variable de ejecución que se va actualizando. Por ejemplo del 1 al 10. Primero valdría 1, luego 2...así hasta 10.\n\n\n* **Variable de ejecución**: dentro del for habrá una variable que se irá actualizando con cada ejecución. Si se ejecuta 10 veces, primero la variable valdrá 1, luego 2, y así hasta 10.\n\n",
      "metadata": {
        "id": "oxCw23tIjmHc"
      }
    },
    {
      "cell_type": "markdown",
      "source": "Mejor vemos un ejemplo para entenderlo. Tienes las notas de tres alumnos en una lista, y quieres imprimir por pantalla las notas",
      "metadata": {
        "id": "2skXSWFojmHc"
      }
    },
    {
      "cell_type": "code",
      "source": "notas = [3, 6, 9, 10]\nfor nota in notas:\n    print(nota)\n#En el bucle for tenemos que definir una lista siempre, y las variables que se \n#incluyen en la lista se define su nombre por el propio bucle. ",
      "metadata": {
        "colab": {
          "base_uri": "https://localhost:8080/"
        },
        "id": "ZOEADKA8Tt6m",
        "outputId": "a57d516e-77fc-4053-800d-50be7991167a",
        "trusted": true
      },
      "outputs": [
        {
          "name": "stdout",
          "output_type": "stream",
          "text": "3\n6\n9\n10\n"
        }
      ],
      "execution_count": 55
    },
    {
      "cell_type": "code",
      "source": "notas = [3, 6, 9, 10]\n\nprint(notas[0])\nprint(notas[1])\nprint(notas[2])\nprint(notas[3])",
      "metadata": {
        "colab": {
          "base_uri": "https://localhost:8080/"
        },
        "id": "61YOaP6tjmHc",
        "outputId": "a4ac53ff-2169-4ef4-f372-127c7dc41548",
        "trusted": true
      },
      "outputs": [
        {
          "name": "stdout",
          "output_type": "stream",
          "text": "3\n6\n9\n10\n"
        }
      ],
      "execution_count": 56
    },
    {
      "cell_type": "code",
      "source": "if notas[0] >= 5:\n    print(\"Aprobado\")\nelse:\n    print(\"Suspenso\")\n\nif notas[1] >= 5:\n    print(\"Aprobado\")\nelse:\n    print(\"Suspenso\")\n\nif notas[2] >= 5:\n    print(\"Aprobado\")\nelse:\n    print(\"Suspenso\")\n\nif notas[3] >= 5:\n    print(\"Aprobado\")\nelse:\n    print(\"Suspenso\")\n",
      "metadata": {
        "colab": {
          "base_uri": "https://localhost:8080/"
        },
        "id": "mW2vOdCMjmHd",
        "outputId": "c31d8318-a486-48ec-bad8-8662a15ffbfb",
        "trusted": true
      },
      "outputs": [
        {
          "name": "stdout",
          "output_type": "stream",
          "text": "Suspenso\nAprobado\nAprobado\nAprobado\n"
        }
      ],
      "execution_count": 57
    },
    {
      "cell_type": "code",
      "source": "notas",
      "metadata": {
        "colab": {
          "base_uri": "https://localhost:8080/"
        },
        "id": "jozHbJTfjmHd",
        "outputId": "9c35adba-89cb-4a65-d1b2-275580ead118",
        "trusted": true
      },
      "outputs": [
        {
          "execution_count": 58,
          "output_type": "execute_result",
          "data": {
            "text/plain": "[3, 6, 9, 10]"
          },
          "metadata": {}
        }
      ],
      "execution_count": 58
    },
    {
      "cell_type": "code",
      "source": "for nota in notas: # nota = notas[0...]\n    print(\"Recorriendo nota\", nota)\n    if nota >= 5:\n        print(\"Aprobado\")\n    else:\n        print(\"Suspenso\")",
      "metadata": {
        "colab": {
          "base_uri": "https://localhost:8080/"
        },
        "id": "Sc3dBLkyjmHd",
        "outputId": "cba90e00-6510-4f42-c79d-e812d7d92a99",
        "trusted": true
      },
      "outputs": [
        {
          "name": "stdout",
          "output_type": "stream",
          "text": "Recorriendo nota 3\nSuspenso\nRecorriendo nota 6\nAprobado\nRecorriendo nota 9\nAprobado\nRecorriendo nota 10\nAprobado\n"
        }
      ],
      "execution_count": 59
    },
    {
      "cell_type": "markdown",
      "source": "Genial, pero qué ocurre si ahora tienes 30 notas, o simplemente quieres que tu programa no dependa de cuantas notas tienes, unas veces son 30, otras 20...",
      "metadata": {
        "id": "SY4QPDPpjmHd"
      }
    },
    {
      "cell_type": "code",
      "source": "notas_clase = [4,5,7,3,4,6,5,5,4,5,5,6]\nprint(notas_clase)",
      "metadata": {
        "colab": {
          "base_uri": "https://localhost:8080/"
        },
        "id": "iShkJqBNjmHe",
        "outputId": "5b957bf4-ce71-4930-d993-2c829d0b979b",
        "trusted": true
      },
      "outputs": [
        {
          "name": "stdout",
          "output_type": "stream",
          "text": "[4, 5, 7, 3, 4, 6, 5, 5, 4, 5, 5, 6]\n"
        }
      ],
      "execution_count": 60
    },
    {
      "cell_type": "code",
      "source": "for nota in notas_clase:\n    if nota >= 5:\n        print(\"Aprobado con:\", nota)\n    else:\n        print(\"Suspenso con:\", nota)",
      "metadata": {
        "colab": {
          "base_uri": "https://localhost:8080/"
        },
        "id": "gm2qlUMwjmHe",
        "outputId": "be3378fd-2c07-4478-f141-5a2da38477f3",
        "trusted": true
      },
      "outputs": [
        {
          "name": "stdout",
          "output_type": "stream",
          "text": "Suspenso con: 4\nAprobado con: 5\nAprobado con: 7\nSuspenso con: 3\nSuspenso con: 4\nAprobado con: 6\nAprobado con: 5\nAprobado con: 5\nSuspenso con: 4\nAprobado con: 5\nAprobado con: 5\nAprobado con: 6\n"
        }
      ],
      "execution_count": 61
    },
    {
      "cell_type": "code",
      "source": "# Fijate que un String también es un iterable\n\nfor letra in \"Python\":\n    print(\"comienza iteración\")\n    print(letra)",
      "metadata": {
        "colab": {
          "base_uri": "https://localhost:8080/"
        },
        "id": "GoyORlIiT7Uf",
        "outputId": "5b5f6e1d-2792-4383-bcb4-63ea947afb84",
        "trusted": true
      },
      "outputs": [
        {
          "name": "stdout",
          "output_type": "stream",
          "text": "comienza iteración\nP\ncomienza iteración\ny\ncomienza iteración\nt\ncomienza iteración\nh\ncomienza iteración\no\ncomienza iteración\nn\n"
        }
      ],
      "execution_count": 62
    },
    {
      "cell_type": "code",
      "source": "\ndias_semana = [\"Lunes\", \"Martes\", \"Miércoles\", \"Jueves\", \"Viernes\", \"Sábado\", \"Domingo\"]\n\nfor dia in dias_semana:\n    print(dia)\n    for letra in dia:\n        print(letra)\n    print(\"-\"*100)",
      "metadata": {
        "colab": {
          "base_uri": "https://localhost:8080/"
        },
        "id": "eOUTRrzhjmHe",
        "outputId": "e9d66844-5050-4510-b6aa-1a1aef7e2c9f",
        "trusted": true
      },
      "outputs": [
        {
          "name": "stdout",
          "output_type": "stream",
          "text": "Lunes\nL\nu\nn\ne\ns\n----------------------------------------------------------------------------------------------------\nMartes\nM\na\nr\nt\ne\ns\n----------------------------------------------------------------------------------------------------\nMiércoles\nM\ni\né\nr\nc\no\nl\ne\ns\n----------------------------------------------------------------------------------------------------\nJueves\nJ\nu\ne\nv\ne\ns\n----------------------------------------------------------------------------------------------------\nViernes\nV\ni\ne\nr\nn\ne\ns\n----------------------------------------------------------------------------------------------------\nSábado\nS\ná\nb\na\nd\no\n----------------------------------------------------------------------------------------------------\nDomingo\nD\no\nm\ni\nn\ng\no\n----------------------------------------------------------------------------------------------------\n"
        }
      ],
      "execution_count": 63
    },
    {
      "cell_type": "markdown",
      "source": "Todo objeto que sea **iterable**, lo podrás recorrer en un `for`. Veremos los iterables más en detalle en las colecciones.",
      "metadata": {
        "id": "QTv1NJQMjmHe"
      }
    },
    {
      "cell_type": "markdown",
      "source": "El bucle for resulta de gran utilidad para **aplicar operaciones a cada elemento**. Hasta ahora solo hemos impreso items por pantalla, pero ¿y si queremos subir la nota de todos los alumnos un punto extra? No puedo hacer `lista + 1`. Tendré que iterar/recorrer cada elemento y aplicarle la operación.",
      "metadata": {
        "id": "ldN7YFvkjmHe"
      }
    },
    {
      "cell_type": "code",
      "source": "import time",
      "metadata": {
        "id": "4g8juzXdjmHi",
        "trusted": true
      },
      "outputs": [],
      "execution_count": 64
    },
    {
      "cell_type": "code",
      "source": "notas_clase = [4,5,7]\nentregas = [False,True,True]",
      "metadata": {
        "id": "nyLPMIdGjmHi",
        "trusted": true
      },
      "outputs": [],
      "execution_count": 65
    },
    {
      "cell_type": "code",
      "source": "nota = 4\nnotas_clase.index(nota)\n#nos dice la posición en la que está la nota 4 en la lista",
      "metadata": {
        "colab": {
          "base_uri": "https://localhost:8080/"
        },
        "id": "WVNZsdjGjmHi",
        "outputId": "f19c99bd-8bba-4256-8cc1-4b646870f1cb",
        "trusted": true
      },
      "outputs": [
        {
          "execution_count": 66,
          "output_type": "execute_result",
          "data": {
            "text/plain": "0"
          },
          "metadata": {}
        }
      ],
      "execution_count": 66
    },
    {
      "cell_type": "code",
      "source": "entregas[notas_clase.index(nota)]\n#nos dice si ha hecho la entrega la persona que ha sacado un 4",
      "metadata": {
        "colab": {
          "base_uri": "https://localhost:8080/"
        },
        "id": "3xvvVVxnjmHi",
        "outputId": "a3558b6c-b919-4ea1-f24d-21c0c943dcd1",
        "trusted": true
      },
      "outputs": [
        {
          "execution_count": 67,
          "output_type": "execute_result",
          "data": {
            "text/plain": "False"
          },
          "metadata": {}
        }
      ],
      "execution_count": 67
    },
    {
      "cell_type": "code",
      "source": "notas_clase = [4,5,7]\nnotas_clase_actualizada = []\nentregas = [False,True,True]\n\nfor nota in notas_clase:\n    print(\"iterando con la nota:\", nota)\n    if entregas[notas_clase.index(nota)]:\n        notas_clase_actualizada.append(nota + 1)\n    else:\n        notas_clase_actualizada.append(nota - 1)\n    print(\"Cargando siguiente nota\")\n\nprint(notas_clase_actualizada)",
      "metadata": {
        "tags": [],
        "colab": {
          "base_uri": "https://localhost:8080/"
        },
        "id": "9TXLIN0mjmHj",
        "outputId": "003236f8-507c-48cb-8001-20a211148cd8",
        "trusted": true
      },
      "outputs": [
        {
          "name": "stdout",
          "output_type": "stream",
          "text": "iterando con la nota: 4\nCargando siguiente nota\niterando con la nota: 5\nCargando siguiente nota\niterando con la nota: 7\nCargando siguiente nota\n[3, 6, 8]\n"
        }
      ],
      "execution_count": 68
    },
    {
      "cell_type": "markdown",
      "source": "Dentro de un bucle `for`, podremos anidar más bucles. Esto resulta útil si queremos calcular combinaciones de iterables, por ejemplo, si quiero imprimir por pantalla todas las coordenadas de un tablero de 3x3.",
      "metadata": {
        "id": "U3dFOIxljmHj"
      }
    },
    {
      "cell_type": "code",
      "source": "list(range(1, 4)) #Fijate que aquí si ponemos desde 1 hasta 4 termina en 3 siempre",
      "metadata": {
        "colab": {
          "base_uri": "https://localhost:8080/"
        },
        "id": "3_BVFdTOjmHj",
        "outputId": "4389809e-8cf1-44ae-a56e-41904cb749eb",
        "trusted": true
      },
      "outputs": [
        {
          "execution_count": 69,
          "output_type": "execute_result",
          "data": {
            "text/plain": "[1, 2, 3]"
          },
          "metadata": {}
        }
      ],
      "execution_count": 69
    },
    {
      "cell_type": "code",
      "source": "# Tablero 3 en raya\nfor i in range(1, 4):\n\n    for j in range(1, 4):\n        print(f'Coordenada: {i}, {j}')\n        # time.sleep(2)\n        if i == 2 and j == 2:\n            print(\"Casilla central\")",
      "metadata": {
        "tags": [],
        "colab": {
          "base_uri": "https://localhost:8080/"
        },
        "id": "WULvQNu7jmHk",
        "outputId": "f7e3c99c-0901-46c6-9b99-d61d679c2f3c",
        "trusted": true
      },
      "outputs": [
        {
          "name": "stdout",
          "output_type": "stream",
          "text": "Coordenada: 1, 1\nCoordenada: 1, 2\nCoordenada: 1, 3\nCoordenada: 2, 1\nCoordenada: 2, 2\nCasilla central\nCoordenada: 2, 3\nCoordenada: 3, 1\nCoordenada: 3, 2\nCoordenada: 3, 3\n"
        }
      ],
      "execution_count": 70
    },
    {
      "cell_type": "markdown",
      "source": "### Función range\nEs muy común usar la función `range()` en las condiciones de un bucle. Esta función puede funcionar con un único argumento numérico y su output es un **iterable**, comprendido entre el 0 y el número introducido como argumento.\n\nVerás en [la documentación](https://www.w3schools.com/python/ref_func_range.asp) que `range()` tiene más posibilidades, combinando sus argumentos.",
      "metadata": {
        "id": "XbrQLbjOjmHk"
      }
    },
    {
      "cell_type": "code",
      "source": "list(range(1, 6))",
      "metadata": {
        "colab": {
          "base_uri": "https://localhost:8080/"
        },
        "id": "7qF22UcxjmHk",
        "outputId": "c9f2f26c-3dcb-4888-8d1b-ec2e290ef0de",
        "trusted": true
      },
      "outputs": [
        {
          "execution_count": 71,
          "output_type": "execute_result",
          "data": {
            "text/plain": "[1, 2, 3, 4, 5]"
          },
          "metadata": {}
        }
      ],
      "execution_count": 71
    },
    {
      "cell_type": "code",
      "source": "print(list(range(6)))\nprint(list(range(0, 6, 1)))\nprint(list(range(0, 6, 2)))\nprint(list(range(2, 6, 1)))\nprint(list(range(10, -1, -2)))",
      "metadata": {
        "colab": {
          "base_uri": "https://localhost:8080/"
        },
        "id": "ChbRpUzZjmHk",
        "outputId": "578b0a45-4f07-499d-d01b-c138d28d6227",
        "trusted": true
      },
      "outputs": [
        {
          "name": "stdout",
          "output_type": "stream",
          "text": "[0, 1, 2, 3, 4, 5]\n[0, 1, 2, 3, 4, 5]\n[0, 2, 4]\n[2, 3, 4, 5]\n[10, 8, 6, 4, 2, 0]\n"
        }
      ],
      "execution_count": 72
    },
    {
      "cell_type": "markdown",
      "source": "En ocasiones nos interesa iterar sobre la posición que tiene cada elemento dentro de un iterable. Para ello podemos combinar `range` con `len` dentro de las condiciones del bucle",
      "metadata": {
        "id": "XqSAd7zQjmHl"
      }
    },
    {
      "cell_type": "code",
      "source": "list(range(3))",
      "metadata": {
        "colab": {
          "base_uri": "https://localhost:8080/"
        },
        "id": "IZeKwyZ1jmHl",
        "outputId": "ddd46cde-f974-4851-f56a-65e37f594222",
        "trusted": true
      },
      "outputs": [
        {
          "execution_count": 73,
          "output_type": "execute_result",
          "data": {
            "text/plain": "[0, 1, 2]"
          },
          "metadata": {}
        }
      ],
      "execution_count": 73
    },
    {
      "cell_type": "code",
      "source": "colores = ['rojo', 'verde', 'azul']\nlen(colores)",
      "metadata": {
        "colab": {
          "base_uri": "https://localhost:8080/"
        },
        "id": "6iUFiirjjmHl",
        "outputId": "4ebd726b-dd3b-464a-a280-dac42699d1b2",
        "trusted": true
      },
      "outputs": [
        {
          "execution_count": 74,
          "output_type": "execute_result",
          "data": {
            "text/plain": "3"
          },
          "metadata": {}
        }
      ],
      "execution_count": 74
    },
    {
      "cell_type": "code",
      "source": "for color in colores:\n    print(color)",
      "metadata": {
        "colab": {
          "base_uri": "https://localhost:8080/"
        },
        "id": "V3TRvfmdjmHl",
        "outputId": "2ece4b80-6585-4604-f6ed-9f86568b18f5",
        "trusted": true
      },
      "outputs": [
        {
          "name": "stdout",
          "output_type": "stream",
          "text": "rojo\nverde\nazul\n"
        }
      ],
      "execution_count": 75
    },
    {
      "cell_type": "code",
      "source": "list(range(len(colores)))",
      "metadata": {
        "colab": {
          "base_uri": "https://localhost:8080/"
        },
        "id": "BT5JFx44jmHl",
        "outputId": "4c334dcc-1c3d-4c3e-b76d-218e7af397f3",
        "trusted": true
      },
      "outputs": [
        {
          "execution_count": 76,
          "output_type": "execute_result",
          "data": {
            "text/plain": "[0, 1, 2]"
          },
          "metadata": {}
        }
      ],
      "execution_count": 76
    },
    {
      "cell_type": "code",
      "source": "colores[2]",
      "metadata": {
        "colab": {
          "base_uri": "https://localhost:8080/",
          "height": 35
        },
        "id": "7wXZ4EB8jmHl",
        "outputId": "af9bff7e-3fd3-40a2-99a3-93c1d8b38978",
        "trusted": true
      },
      "outputs": [
        {
          "execution_count": 77,
          "output_type": "execute_result",
          "data": {
            "text/plain": "'azul'"
          },
          "metadata": {}
        }
      ],
      "execution_count": 77
    },
    {
      "cell_type": "code",
      "source": "colores = ['rojo', 'verde', 'azul']\n\nfor i in range(len(colores)): \n    print(i, colores[i])",
      "metadata": {
        "colab": {
          "base_uri": "https://localhost:8080/"
        },
        "id": "UNoWpWOxjmHm",
        "outputId": "53707239-73ef-4895-8f82-6953b213e4ad",
        "trusted": true
      },
      "outputs": [
        {
          "name": "stdout",
          "output_type": "stream",
          "text": "0 rojo\n1 verde\n2 azul\n"
        }
      ],
      "execution_count": 78
    },
    {
      "cell_type": "markdown",
      "source": "### Función enumerate\n¿Y si dentro del bucle necesitamos tanto el elemento del iterable, como su índice? En [la documentación](https://www.w3schools.com/python/ref_func_enumerate.asp) verás que puedes elegir desde qué elemento de la lista quieres empezar.",
      "metadata": {
        "id": "hlAdCiHBjmHm"
      }
    },
    {
      "cell_type": "code",
      "source": "names = [\"Pedro\", \"Mariano\", \"Jose Luis\"]\nlist(enumerate(names))\n#Aqui nos da una lista de tuplas o tuples, que son basicamente lo mismo que las listas\n#con la diferencia de que sus elementos son inmutables",
      "metadata": {
        "colab": {
          "base_uri": "https://localhost:8080/"
        },
        "id": "QDMkWiEwjmHm",
        "outputId": "224c94da-602c-498b-9f3d-c0d9f2465f68",
        "trusted": true
      },
      "outputs": [
        {
          "execution_count": 87,
          "output_type": "execute_result",
          "data": {
            "text/plain": "[(0, 'Pedro'), (1, 'Mariano'), (2, 'Jose Luis')]"
          },
          "metadata": {}
        }
      ],
      "execution_count": 87
    },
    {
      "cell_type": "code",
      "source": "for index, name in enumerate(names): \n#Aqui hemos marcado el rango limite como una lista de tuplas de dos variable\n#Por lo tanto podemos definir dos variables, index (primer numero de la tupla)\n#y name, el string que vemos en la tupla\n    print(f\"Nombre {index}: {name}\")\n    print(index)\n    print(name)",
      "metadata": {
        "colab": {
          "base_uri": "https://localhost:8080/"
        },
        "id": "iIFSwWgJjmHn",
        "outputId": "625b86c2-d388-41ad-9f74-6c4cd375cd0b",
        "trusted": true
      },
      "outputs": [
        {
          "name": "stdout",
          "output_type": "stream",
          "text": "Nombre 0: Pedro\n0\nPedro\nNombre 1: Mariano\n1\nMariano\nNombre 2: Jose Luis\n2\nJose Luis\n"
        }
      ],
      "execution_count": 89
    },
    {
      "cell_type": "markdown",
      "source": "<table align=\"left\">\n <tr><td width=\"80\"><img src=\"./img/error.png\" style=\"width:auto;height:auto\"></td>\n     <td style=\"text-align:left\">\n         <h3>ERRORES en los rangos</h3>\n         \n </td></tr>\n</table>",
      "metadata": {
        "id": "3H-Vd5hcjmHo"
      }
    },
    {
      "cell_type": "markdown",
      "source": "Mucho cuidado al escribir las condiciones del bucle. Lo primero, porque podríamos tener condiciones infinitas de ejecución que ni nosotros, ni nuestro ordenador lo deseamos. Y lo segundo porque si intentamos acceder a un índice de nuestro iterable que no existe, saltará un error. Veamos ejemplo",
      "metadata": {
        "id": "pFmI1PqbjmHo"
      }
    },
    {
      "cell_type": "code",
      "source": "list(range(4))",
      "metadata": {
        "colab": {
          "base_uri": "https://localhost:8080/"
        },
        "id": "xdsi-bYjjmHo",
        "outputId": "44a981d1-0e9c-4dde-9196-026fdeaa0840",
        "trusted": true
      },
      "outputs": [
        {
          "execution_count": 90,
          "output_type": "execute_result",
          "data": {
            "text/plain": "[0, 1, 2, 3]"
          },
          "metadata": {}
        }
      ],
      "execution_count": 90
    },
    {
      "cell_type": "code",
      "source": "names = [\"Pedro\", \"Mariano\", \"Jose Luis\"]\nnames[3]",
      "metadata": {
        "colab": {
          "base_uri": "https://localhost:8080/",
          "height": 158
        },
        "id": "RuF6dC9fjmHo",
        "outputId": "a82cab8e-25e5-4251-ea8f-e0061a631fe3",
        "trusted": true
      },
      "outputs": [
        {
          "ename": "<class 'IndexError'>",
          "evalue": "list index out of range",
          "traceback": [
            "\u001b[0;31m---------------------------------------------------------------------------\u001b[0m",
            "\u001b[0;31mIndexError\u001b[0m                                Traceback (most recent call last)",
            "Cell \u001b[0;32mIn[91], line 2\u001b[0m\n\u001b[1;32m      1\u001b[0m names \u001b[38;5;241m=\u001b[39m [\u001b[38;5;124m\"\u001b[39m\u001b[38;5;124mPedro\u001b[39m\u001b[38;5;124m\"\u001b[39m, \u001b[38;5;124m\"\u001b[39m\u001b[38;5;124mMariano\u001b[39m\u001b[38;5;124m\"\u001b[39m, \u001b[38;5;124m\"\u001b[39m\u001b[38;5;124mJose Luis\u001b[39m\u001b[38;5;124m\"\u001b[39m]\n\u001b[0;32m----> 2\u001b[0m \u001b[43mnames\u001b[49m\u001b[43m[\u001b[49m\u001b[38;5;241;43m3\u001b[39;49m\u001b[43m]\u001b[49m\n",
            "\u001b[0;31mIndexError\u001b[0m: list index out of range"
          ],
          "output_type": "error"
        }
      ],
      "execution_count": 91
    },
    {
      "cell_type": "code",
      "source": "names = [\"Pedro\", \"Mariano\", \"Jose Luis\"]\n\nfor i in range(4):\n    print(i, names[i])",
      "metadata": {
        "colab": {
          "base_uri": "https://localhost:8080/",
          "height": 228
        },
        "id": "MQgy5IJPjmHo",
        "outputId": "87f4ffd1-b4ea-475a-ffb1-2ca4299dac50"
      },
      "outputs": [
        {
          "output_type": "stream",
          "name": "stdout",
          "text": "0 Pedro\n,1 Mariano\n,2 Jose Luis\n"
        },
        {
          "output_type": "error",
          "ename": "IndexError",
          "evalue": "list index out of range",
          "traceback": [
            "\u001b[0;31m---------------------------------------------------------------------------\u001b[0m",
            "\u001b[0;31mIndexError\u001b[0m                                Traceback (most recent call last)",
            "\u001b[0;32m<ipython-input-46-7edb42d5f667>\u001b[0m in \u001b[0;36m<cell line: 3>\u001b[0;34m()\u001b[0m\n\u001b[1;32m      2\u001b[0m \u001b[0;34m\u001b[0m\u001b[0m\n\u001b[1;32m      3\u001b[0m \u001b[0;32mfor\u001b[0m \u001b[0mi\u001b[0m \u001b[0;32min\u001b[0m \u001b[0mrange\u001b[0m\u001b[0;34m(\u001b[0m\u001b[0;36m4\u001b[0m\u001b[0;34m)\u001b[0m\u001b[0;34m:\u001b[0m\u001b[0;34m\u001b[0m\u001b[0;34m\u001b[0m\u001b[0m\n\u001b[0;32m----> 4\u001b[0;31m     \u001b[0mprint\u001b[0m\u001b[0;34m(\u001b[0m\u001b[0mi\u001b[0m\u001b[0;34m,\u001b[0m \u001b[0mnames\u001b[0m\u001b[0;34m[\u001b[0m\u001b[0mi\u001b[0m\u001b[0;34m]\u001b[0m\u001b[0;34m)\u001b[0m\u001b[0;34m\u001b[0m\u001b[0;34m\u001b[0m\u001b[0m\n\u001b[0m",
            "\u001b[0;31mIndexError\u001b[0m: list index out of range"
          ]
        }
      ],
      "execution_count": null
    },
    {
      "cell_type": "markdown",
      "source": "Es por ello que se recomienda dejar el código lo más \"en automático\" posible. Poner en el range la longitud del iterable no es una buena práctica, ¿Y si mañana el iterable tiene menos nombres? saltará error. ¿Y si tiene más? No los tendremos en cuenta en el for. Por ello es mejor usar `len`.",
      "metadata": {
        "id": "bN-ActKojmHo"
      }
    },
    {
      "cell_type": "markdown",
      "source": "## 4. Bucle while\nSe trata de otra manera de implementar un bucle en programación. Los bucles tienen que ir siempre limitados. En el caso del `for`, le poníamos un número concreto de ejecuciones, según el iterable que estuviésemos recorriendo. Para el `while` es algo diferente. Tiene una **condición de ejecución**, que mientras que se cumpla (`True`), seguirá ejecutando una y otra vez. Por otro lado, el bucle tiene una **variable de ejecucón**, al igual que en el `for`, que se irá actualizando con cada vuelta, y es esa variable la que determina cuándo acaba el bucle.\n\n> ```Python\n> while condición:\n>     Ejecuta este código mientras se siga cumpliendo la condición\n> ```",
      "metadata": {
        "id": "EVkUfZabjmHp"
      }
    },
    {
      "cell_type": "markdown",
      "source": "**Cuidado** con estos bucles ya que es muy fácil olvidarnos de actualiza la variable de ejecución, o equivocarnos en la condición de ejecución. Si esto ocurre el código se quedará corriendo hasta que detengamos el kernel (botón *interrupt the kernel*, arriba al lado del Run)\n\nVeamos un ejemplo.",
      "metadata": {
        "id": "ibQISzY6jmHq"
      }
    },
    {
      "cell_type": "code",
      "source": "import time #Esta librería nos permite hace paradas de tiempo de x segundos\n#para ello usamos time.sleep(x)",
      "metadata": {
        "id": "x6dh8Sc9jmHq"
      },
      "outputs": [],
      "execution_count": null
    },
    {
      "cell_type": "code",
      "source": "i = 0\n\nwhile i < 5:\n    print(i)\n\n    i = i + 1 # i += 1\n\n    time.sleep(1)\n\nprint(i)\nprint(\"Fin programa\")",
      "metadata": {
        "colab": {
          "base_uri": "https://localhost:8080/"
        },
        "id": "gyjb3yLIjmHq",
        "outputId": "c5243271-1a53-411b-c971-0f49ce70ab2c",
        "trusted": true
      },
      "outputs": [
        {
          "name": "stdout",
          "output_type": "stream",
          "text": "0\n1\n2\n3\n4\n5\nFin programa\n"
        }
      ],
      "execution_count": 92
    },
    {
      "cell_type": "code",
      "source": "i = 0\n\nwhile i < 5:\n    print(i)\n    time.sleep(2)\n\nprint(\"Fin programa\")\n#cuidado con este tipo de bucles, que son infinitos ",
      "metadata": {
        "colab": {
          "base_uri": "https://localhost:8080/",
          "height": 332
        },
        "id": "_nltyMpijmHq",
        "outputId": "67f5b586-f33e-4bb2-8aa5-7670baf35a01",
        "trusted": true
      },
      "outputs": [],
      "execution_count": null
    },
    {
      "cell_type": "markdown",
      "source": "La manera más habitual de implementar estos bucles es:\n1. Declaro la **variable de ejecución fuera del bucle**\n2. Establezco una **condición de ejecución** para determinar cuándo queremos que se pare el bucle.\n3. **Actualizo la variable de ejecución** en cada iteración del bucle.\n",
      "metadata": {
        "id": "tq2s50xYjmHq"
      }
    },
    {
      "cell_type": "markdown",
      "source": "<table align=\"left\">\n <tr><td width=\"80\"><img src=\"./img/ejercicio.png\" style=\"width:auto;height:auto\"></td>\n     <td style=\"text-align:left\">\n         <h3>Ejercicio bucle while</h3>\n\nMediante un bucle while, calcula cuántas veces deberíamos doblar un folio de papel para alcanzar un grosor de 5 metros, considerando el grosor del folio de 1 milímetro\n         \n </td></tr>\n</table>",
      "metadata": {
        "id": "trrFBgTgjmHq"
      }
    },
    {
      "cell_type": "code",
      "source": "grosor = 1\ndobles = 0\n\nwhile grosor < 5000:\n    grosor = grosor * 2\n    dobles = dobles + 1\n    print('grosor', grosor)\n    print('dobles', dobles)\n    time.sleep(1)\n\nprint(\"Terminado, el nº de veces que hemos doblado ha sido de\", dobles, \"y el grosor total alcanzado es de\", grosor)",
      "metadata": {
        "colab": {
          "base_uri": "https://localhost:8080/"
        },
        "id": "VD2Jjko_jmHq",
        "outputId": "61dc7869-12f0-44d7-c48c-bdb4581b9486",
        "trusted": true
      },
      "outputs": [
        {
          "name": "stdout",
          "output_type": "stream",
          "text": "grosor 2\ndobles 1\n"
        },
        {
          "ename": "<class 'NameError'>",
          "evalue": "name 'time' is not defined",
          "traceback": [
            "\u001b[0;31m---------------------------------------------------------------------------\u001b[0m",
            "\u001b[0;31mNameError\u001b[0m                                 Traceback (most recent call last)",
            "Cell \u001b[0;32mIn[1], line 9\u001b[0m\n\u001b[1;32m      7\u001b[0m     \u001b[38;5;28mprint\u001b[39m(\u001b[38;5;124m'\u001b[39m\u001b[38;5;124mgrosor\u001b[39m\u001b[38;5;124m'\u001b[39m, grosor)\n\u001b[1;32m      8\u001b[0m     \u001b[38;5;28mprint\u001b[39m(\u001b[38;5;124m'\u001b[39m\u001b[38;5;124mdobles\u001b[39m\u001b[38;5;124m'\u001b[39m, dobles)\n\u001b[0;32m----> 9\u001b[0m     \u001b[43mtime\u001b[49m\u001b[38;5;241m.\u001b[39msleep(\u001b[38;5;241m1\u001b[39m)\n\u001b[1;32m     11\u001b[0m \u001b[38;5;28mprint\u001b[39m(\u001b[38;5;124m\"\u001b[39m\u001b[38;5;124mTerminado, el nº de veces que hemos doblado ha sido de\u001b[39m\u001b[38;5;124m\"\u001b[39m, dobles, \u001b[38;5;124m\"\u001b[39m\u001b[38;5;124my el grosor total alcanzado es de\u001b[39m\u001b[38;5;124m\"\u001b[39m, grosor)\n",
            "\u001b[0;31mNameError\u001b[0m: name 'time' is not defined"
          ],
          "output_type": "error"
        }
      ],
      "execution_count": 1
    },
    {
      "cell_type": "markdown",
      "source": "## 5. Break/continue\nSon dos sentencias que podemo usar dentro de los bucles para evitar ejecutar código de más.\n\n### Break\nSe usa cuando queremos salir del bucle forzadamente. Imagina que eres una tienda y estás buscando con un for si al menos uno de los pedidos era un abrigo. Si has tenido 1000 pedidos, vas a tener que iterar sobre todos y mediante un `if`, comprobar si es un abrigo. Ahora bien, si el abrigo es el primer elemento de la lista, el `for` va a recorrer igualmente los otros 999 elementos, cuando no es necesario. Con un `break` podremos salirnos del bucle y continuar con el programa.",
      "metadata": {
        "id": "hWGBMN2QjmHr"
      }
    },
    {
      "cell_type": "code",
      "source": "for i in [1,2,3,4]:\n    print(i)\n    if i > 2:\n        break\n",
      "metadata": {
        "id": "wjv1vJamjmHr",
        "outputId": "bca34136-2801-4818-fcb6-7a6ec229d14d",
        "colab": {
          "base_uri": "https://localhost:8080/"
        },
        "trusted": true
      },
      "outputs": [
        {
          "name": "stdout",
          "output_type": "stream",
          "text": "1\n2\n3\n"
        }
      ],
      "execution_count": 2
    },
    {
      "cell_type": "code",
      "source": "for val in \"string\":\n    if val == \"i\":\n        break\n\n    print(val)\n\nprint(\"Fin\")",
      "metadata": {
        "id": "vZ-1Kyp3jmHr",
        "outputId": "1b7b3f95-9578-4b12-f9c4-f842ba878bf8",
        "colab": {
          "base_uri": "https://localhost:8080/"
        },
        "trusted": true
      },
      "outputs": [
        {
          "name": "stdout",
          "output_type": "stream",
          "text": "s\nt\nr\nFin\n"
        }
      ],
      "execution_count": 3
    },
    {
      "cell_type": "markdown",
      "source": "### Continue\nEsta sentencia se usa dentro de un bucle para indicarle que continue con el siguiente elemento del iterable. Al igual que con el `break`, nos sirve para evitar que se ejecute código de más. Volviendo al ejemplo anterior, si después de comprobar que tenemos un abrigo, hay 200 líneas más de código que se utiliza en otros casos, con un `continue` evitamos que se ejecute todo eso, hacemos lo que tengamos que hacer con el abrigo, y le decimos al bucle que pase al siguiente elemento, e ignore el resto del código.\n",
      "metadata": {
        "id": "DGwbiP3qjmHr"
      }
    },
    {
      "cell_type": "code",
      "source": "for val in \"string\":\n    if val == \"i\":\n        continue #pasa de forma forzada a la siguiente iteración\n        # print(\"hola\")\n\n    print(val)\n\n\nprint(\"Fin\")",
      "metadata": {
        "id": "2HdqO2gtjmHr",
        "outputId": "e070884e-2820-42af-80d3-6a3c220f3566",
        "colab": {
          "base_uri": "https://localhost:8080/"
        },
        "trusted": true
      },
      "outputs": [
        {
          "name": "stdout",
          "output_type": "stream",
          "text": "s\nt\nr\nn\ng\nFin\n"
        }
      ],
      "execution_count": 5
    },
    {
      "cell_type": "markdown",
      "source": "**Los bucles `for` y `while`, así como `break` y `continue`, son sentencias complicadas de entender, y si es la primera vez que programas te va a suponer un cambio en la manera de pensar y de solucionar problemas, por ello te recomiendo que cojas papel y boli y hagas los primeros ejercicios de bucles viendo las iteraciones una a una y calculando manualmente todas las opeaciones de dentro del bucle.**",
      "metadata": {
        "id": "ugenppN9jmHs"
      }
    },
    {
      "cell_type": "markdown",
      "source": "## 6. Try/except\n¿Qué ocurre cuando hay un error en nuestro código? Se para toda la ejecución. Por muy buenos programadores que seamos, hay que contar siempre con que puede haber errores. Podemos llegar a controlarlos con sentencias `if/else`, por ejemplo si no sabemos muy bien los tipos de los datos, `if type(data) == float:` haces algo con floats, `else` haces otra cosa con otro tipo de datos, pero lo mejor es usar `try/except`.\n\nAhora bien, si intuimos que el comportamiento de nuestro código puede ser algo impredecible, en programación podemos usar las sentencias `try/except` para capturar ese error, tomar decisiones, y que el código pueda continuar ejecutándose.\n\nLa sintaxis es la siguiente:\n\n> ```Python\n> try:\n>     Código que puede contener errores\n> except:\n>     Qué hacer si nos encontramos con un error\n> ```",
      "metadata": {
        "id": "UJBUnYpYjmHs"
      }
    },
    {
      "cell_type": "code",
      "source": "print(variable_)\nprint(\"AAA\")",
      "metadata": {
        "id": "Kdd5wwPPjmHs",
        "outputId": "63a2aa9f-c7e7-405e-9976-85bb7a22c11c",
        "colab": {
          "base_uri": "https://localhost:8080/",
          "height": 158
        },
        "trusted": true
      },
      "outputs": [
        {
          "ename": "<class 'NameError'>",
          "evalue": "name 'variable_' is not defined",
          "traceback": [
            "\u001b[0;31m---------------------------------------------------------------------------\u001b[0m",
            "\u001b[0;31mNameError\u001b[0m                                 Traceback (most recent call last)",
            "Cell \u001b[0;32mIn[6], line 1\u001b[0m\n\u001b[0;32m----> 1\u001b[0m \u001b[38;5;28mprint\u001b[39m(\u001b[43mvariable_\u001b[49m)\n\u001b[1;32m      2\u001b[0m \u001b[38;5;28mprint\u001b[39m(\u001b[38;5;124m\"\u001b[39m\u001b[38;5;124mAAA\u001b[39m\u001b[38;5;124m\"\u001b[39m)\n",
            "\u001b[0;31mNameError\u001b[0m: name 'variable_' is not defined"
          ],
          "output_type": "error"
        }
      ],
      "execution_count": 6
    },
    {
      "cell_type": "code",
      "source": "try:\n    print(variable_)\nexcept :\n    print(\"El codigo tiene errores\")\n    print(\"Se ejecuta igualmente\")\n\nprint(\"AAA\")",
      "metadata": {
        "colab": {
          "base_uri": "https://localhost:8080/"
        },
        "id": "ggfQSYGujmHs",
        "outputId": "4091e765-989b-49a4-c2a1-ff30f1d56559",
        "trusted": true
      },
      "outputs": [
        {
          "name": "stdout",
          "output_type": "stream",
          "text": "El codigo tiene errores\nSe ejecuta igualmente\nAAA\n"
        }
      ],
      "execution_count": 7
    },
    {
      "cell_type": "code",
      "source": "lista = [1,2,3]\nprint(lista[5])\nprint(\"Hola mundo\")",
      "metadata": {
        "colab": {
          "base_uri": "https://localhost:8080/",
          "height": 176
        },
        "id": "fvBjwDjsjmHt",
        "outputId": "1461f516-fdcd-4089-a5de-1a51775ab92c"
      },
      "outputs": [
        {
          "output_type": "error",
          "ename": "IndexError",
          "evalue": "list index out of range",
          "traceback": [
            "\u001b[0;31m---------------------------------------------------------------------------\u001b[0m",
            "\u001b[0;31mIndexError\u001b[0m                                Traceback (most recent call last)",
            "\u001b[0;32m<ipython-input-56-fd343718116b>\u001b[0m in \u001b[0;36m<cell line: 2>\u001b[0;34m()\u001b[0m\n\u001b[1;32m      1\u001b[0m \u001b[0mlista\u001b[0m \u001b[0;34m=\u001b[0m \u001b[0;34m[\u001b[0m\u001b[0;36m1\u001b[0m\u001b[0;34m,\u001b[0m\u001b[0;36m2\u001b[0m\u001b[0;34m,\u001b[0m\u001b[0;36m3\u001b[0m\u001b[0;34m]\u001b[0m\u001b[0;34m\u001b[0m\u001b[0;34m\u001b[0m\u001b[0m\n\u001b[0;32m----> 2\u001b[0;31m \u001b[0mprint\u001b[0m\u001b[0;34m(\u001b[0m\u001b[0mlista\u001b[0m\u001b[0;34m[\u001b[0m\u001b[0;36m5\u001b[0m\u001b[0;34m]\u001b[0m\u001b[0;34m)\u001b[0m\u001b[0;34m\u001b[0m\u001b[0;34m\u001b[0m\u001b[0m\n\u001b[0m\u001b[1;32m      3\u001b[0m \u001b[0mprint\u001b[0m\u001b[0;34m(\u001b[0m\u001b[0;34m\"Hola mundo\"\u001b[0m\u001b[0;34m)\u001b[0m\u001b[0;34m\u001b[0m\u001b[0;34m\u001b[0m\u001b[0m\n",
            "\u001b[0;31mIndexError\u001b[0m: list index out of range"
          ]
        }
      ],
      "execution_count": null
    },
    {
      "cell_type": "code",
      "source": "lista = [1,2,3]\n\ntry:\n    print(lista[5])\nexcept Exception as e:\n    print(e)\n    print('AAA')\nprint('BBB')",
      "metadata": {
        "colab": {
          "base_uri": "https://localhost:8080/"
        },
        "id": "FoM-B8tojmHt",
        "outputId": "ff9ba270-0ea6-415a-e9e5-595e787fe8e6",
        "trusted": true
      },
      "outputs": [
        {
          "name": "stdout",
          "output_type": "stream",
          "text": "list index out of range\nAAA\nBBB\n"
        }
      ],
      "execution_count": 8
    },
    {
      "cell_type": "markdown",
      "source": "Hay un error en el código, pero no para el programa.\n\nPodemos ser un poco más específicos con los errores, y en función del tipo de error que nos de, tomaremos diferentes caminos",
      "metadata": {
        "id": "bM1uqcy1jmHt"
      }
    },
    {
      "cell_type": "markdown",
      "source": "## 7. Resumen",
      "metadata": {
        "id": "RpUAahhAjmHt"
      }
    },
    {
      "cell_type": "code",
      "source": "# If/elif/else\nmi_nota_de_examen = 7\n\nif mi_nota_de_examen < 5 :\n    print(\"A septiembre :(\")\n\nelif mi_nota_de_examen < 6 :\n    print(\"Suficiente\")\n\nelif mi_nota_de_examen < 7 :\n    print(\"Bien\")\n\nelif mi_nota_de_examen < 9 :\n    print(\"Notable\")\n\nelse:\n    print(\"Sobresaliente\")\n\n\n# Bucle for\ndias_semana = [\"Lunes\", \"Martes\", \"Miércoles\", \"Jueves\", \"Viernes\", \"Sábado\", \"Domingo\"]\n\nfor dia in dias_semana:\n    print(dia)\n\n\n# Bucle while\ni = 0\n\nwhile(i < 5):\n    print(i)\n    i = i + 1\n\n\n# Break y continue\nfor val in \"string\":\n    if val == \"i\":\n        break\n    print(val)\n\nprint(\"Fin\")\n\n\n# Try/except\ntry:\n  print(variable_)\nexcept:\n  print(\"El codigo tiene errores porque la variable 'variable_' no existe\")\n\nprint(\"Continuo con el programa\")",
      "metadata": {
        "id": "CFY3qzVRjmHt"
      },
      "outputs": [],
      "execution_count": null
    }
  ]
}