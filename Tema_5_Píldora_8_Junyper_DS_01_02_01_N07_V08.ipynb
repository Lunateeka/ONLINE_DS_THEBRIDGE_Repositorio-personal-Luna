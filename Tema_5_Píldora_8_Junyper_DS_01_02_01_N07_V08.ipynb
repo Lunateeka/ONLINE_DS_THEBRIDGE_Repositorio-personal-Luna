{
  "metadata": {
    "kernelspec": {
      "name": "python",
      "display_name": "Python (Pyodide)",
      "language": "python"
    },
    "language_info": {
      "codemirror_mode": {
        "name": "python",
        "version": 3
      },
      "file_extension": ".py",
      "mimetype": "text/x-python",
      "name": "python",
      "nbconvert_exporter": "python",
      "pygments_lexer": "ipython3",
      "version": "3.8"
    },
    "colab": {
      "provenance": []
    }
  },
  "nbformat_minor": 4,
  "nbformat": 4,
  "cells": [
    {
      "cell_type": "markdown",
      "source": "![TheBridge_Python_v0.png](attachment:TheBridge_Python_v0.png)",
      "metadata": {
        "id": "1NRjkB6vVvs4"
      }
    },
    {
      "cell_type": "markdown",
      "source": "##  Argumentos posicionales\n",
      "metadata": {
        "id": "YSDkfS1oVvs5"
      }
    },
    {
      "cell_type": "markdown",
      "source": "### Contenidos\n",
      "metadata": {
        "id": "KK7UANUQVvs5"
      }
    },
    {
      "cell_type": "markdown",
      "source": "* [Introducción  ](#Introducción--)\n",
      "metadata": {
        "id": "6QQBtEHLVvs5"
      }
    },
    {
      "cell_type": "markdown",
      "source": "### Introducción  \n[al indice](#Contenidos)  \n\nPuedes implementar funciones con todos los argumentos que quieras. Ahora bien, ten en cuenta dos cosas:\n\n1. **El orden** de los argumentos. Cuando llamemos a la función, tenemos que seguir el mismo orden de argumentos que en la declaración de la función.\n2. **Son obligatorios**. Si los declaramos en la función, después al llamarla, tenemos que poner todos sus argumentos. Luego veremos que hay una manera de poner argumentos opcionales.",
      "metadata": {
        "id": "Ls7LdC9yVvs5"
      }
    },
    {
      "cell_type": "code",
      "source": "def multiplica (x1, x2, x3, x4):\n    resultado = x1*x2*x3/x4\n    return resultado\nprint(multiplica(3,4,5,6))\n#que no es lo mismo que\n(multiplica(3,4,6,5))",
      "metadata": {
        "id": "1xOLOT8kVvs6",
        "trusted": true
      },
      "outputs": [
        {
          "name": "stdout",
          "output_type": "stream",
          "text": "10.0\n"
        },
        {
          "execution_count": 5,
          "output_type": "execute_result",
          "data": {
            "text/plain": "14.4"
          },
          "metadata": {}
        }
      ],
      "execution_count": 5
    },
    {
      "cell_type": "markdown",
      "source": "Fijate que los argumentos siguen un determinado orden: x1, x2, x3, x4. Cuando llamamos a la función, introduciremos 4 argumentos y la función los recogerá en ese orden. Asignará 4 a x1, 6 a x2, etc. Podemos también especificar el nombre del argumento en la llamada, lo que nos permite tener mayor flexibilidad en el orden.",
      "metadata": {
        "id": "D7FHPfksVvs6"
      }
    },
    {
      "cell_type": "code",
      "source": "multiplica(x1=3,x2=4,x4=6,x3=5)",
      "metadata": {
        "id": "lD7yH-dAVvs6",
        "trusted": true
      },
      "outputs": [
        {
          "execution_count": 6,
          "output_type": "execute_result",
          "data": {
            "text/plain": "10.0"
          },
          "metadata": {}
        }
      ],
      "execution_count": 6
    },
    {
      "cell_type": "markdown",
      "source": "<table align=\"left\">\n <tr>\n     <td style=\"text-align:left\">\n         <h3>ERRORES Traza del error dentro de la función</h3>\n         \n </td></tr>\n</table>",
      "metadata": {
        "id": "S-TVztN8Vvs6"
      }
    },
    {
      "cell_type": "code",
      "source": "#cuidado con dividir entre 0\nmultiplica(x4=0,x1=3,x2=5,x3=12)\n#fijate que el error primero te da en la función, \n#y después te dice en que zona de la función",
      "metadata": {
        "id": "2HtR3fENVvs7",
        "trusted": true
      },
      "outputs": [
        {
          "ename": "<class 'ZeroDivisionError'>",
          "evalue": "division by zero",
          "traceback": [
            "\u001b[0;31m---------------------------------------------------------------------------\u001b[0m",
            "\u001b[0;31mZeroDivisionError\u001b[0m                         Traceback (most recent call last)",
            "Cell \u001b[0;32mIn[7], line 1\u001b[0m\n\u001b[0;32m----> 1\u001b[0m \u001b[43mmultiplica\u001b[49m\u001b[43m(\u001b[49m\u001b[43mx4\u001b[49m\u001b[38;5;241;43m=\u001b[39;49m\u001b[38;5;241;43m0\u001b[39;49m\u001b[43m,\u001b[49m\u001b[43mx1\u001b[49m\u001b[38;5;241;43m=\u001b[39;49m\u001b[38;5;241;43m3\u001b[39;49m\u001b[43m,\u001b[49m\u001b[43mx2\u001b[49m\u001b[38;5;241;43m=\u001b[39;49m\u001b[38;5;241;43m5\u001b[39;49m\u001b[43m,\u001b[49m\u001b[43mx3\u001b[49m\u001b[38;5;241;43m=\u001b[39;49m\u001b[38;5;241;43m12\u001b[39;49m\u001b[43m)\u001b[49m\n",
            "Cell \u001b[0;32mIn[5], line 2\u001b[0m, in \u001b[0;36mmultiplica\u001b[0;34m(x1, x2, x3, x4)\u001b[0m\n\u001b[1;32m      1\u001b[0m \u001b[38;5;28;01mdef\u001b[39;00m \u001b[38;5;21mmultiplica\u001b[39m (x1, x2, x3, x4):\n\u001b[0;32m----> 2\u001b[0m     resultado \u001b[38;5;241m=\u001b[39m \u001b[43mx1\u001b[49m\u001b[38;5;241;43m*\u001b[39;49m\u001b[43mx2\u001b[49m\u001b[38;5;241;43m*\u001b[39;49m\u001b[43mx3\u001b[49m\u001b[38;5;241;43m/\u001b[39;49m\u001b[43mx4\u001b[49m\n\u001b[1;32m      3\u001b[0m     \u001b[38;5;28;01mreturn\u001b[39;00m resultado\n",
            "\u001b[0;31mZeroDivisionError\u001b[0m: division by zero"
          ],
          "output_type": "error"
        }
      ],
      "execution_count": 7
    },
    {
      "cell_type": "markdown",
      "source": "Fijate que aparece toda la traza del error, tanto la línea donde llamas a la función, como el error dentro de la función. Podemos solventar el error, introduciendo un bloque `try/except`",
      "metadata": {
        "id": "vqdJmMGMVvs7"
      }
    },
    {
      "cell_type": "code",
      "source": "try: \n    multiplica(x4=0,x1=3,x2=5,x3=12)\nexcept Exception as ex:\n    print(ex)\n    print(\"error en la función\")",
      "metadata": {
        "id": "tBDJTddsVvs7",
        "trusted": true
      },
      "outputs": [
        {
          "name": "stdout",
          "output_type": "stream",
          "text": "division by zero\nerror en la función\n"
        }
      ],
      "execution_count": 8
    },
    {
      "cell_type": "code",
      "source": "def multiplica (x1, x2, x3, x4):\n    if x4 == 0:\n        print(\"Error: No puedo dividir por cero, argumente invalido\")\n    else:\n        resultado = x1*x2*x3/x4\n        return resultado\nprint(multiplica(x4=0,x1=3,x2=5,x3=12))\nprint(multiplica(x4=1,x1=3,x2=5,x3=12))",
      "metadata": {
        "trusted": true
      },
      "outputs": [
        {
          "name": "stdout",
          "output_type": "stream",
          "text": "Error: No puedo dividir por cero, argumente invalido\nNone\n180.0\n"
        }
      ],
      "execution_count": 10
    },
    {
      "cell_type": "code",
      "source": "",
      "metadata": {
        "trusted": true
      },
      "outputs": [],
      "execution_count": null
    }
  ]
}