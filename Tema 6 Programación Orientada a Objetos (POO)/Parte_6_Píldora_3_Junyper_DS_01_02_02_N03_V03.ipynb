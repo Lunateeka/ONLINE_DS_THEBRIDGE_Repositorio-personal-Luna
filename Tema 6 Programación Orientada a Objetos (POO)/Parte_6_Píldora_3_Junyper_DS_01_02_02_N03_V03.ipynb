{
  "metadata": {
    "kernelspec": {
      "name": "python",
      "display_name": "Python (Pyodide)",
      "language": "python"
    },
    "language_info": {
      "codemirror_mode": {
        "name": "python",
        "version": 3
      },
      "file_extension": ".py",
      "mimetype": "text/x-python",
      "name": "python",
      "nbconvert_exporter": "python",
      "pygments_lexer": "ipython3",
      "version": "3.8"
    },
    "colab": {
      "provenance": []
    }
  },
  "nbformat_minor": 4,
  "nbformat": 4,
  "cells": [
    {
      "cell_type": "markdown",
      "source": "![TheBridge_Python_v0.png](attachment:TheBridge_Python_v0.png)",
      "metadata": {
        "id": "uPODHfnfCeq2"
      }
    },
    {
      "cell_type": "markdown",
      "source": "##  Atributos\n",
      "metadata": {
        "id": "0q48yD4ZCeq6"
      }
    },
    {
      "cell_type": "markdown",
      "source": "### Contenidos\n",
      "metadata": {
        "id": "Bu8ihqbuCeq7"
      }
    },
    {
      "cell_type": "markdown",
      "source": "* [Introducción  ](#Introducción--)\n",
      "metadata": {
        "id": "f5xM7vZTCeq8"
      }
    },
    {
      "cell_type": "markdown",
      "source": "### Introducción  \n[al indice](#Contenidos)  \nSon las **características que definen a los objetos de una clase**. La marca, el color, potencia del coche. Estos son atributos, que se definen de manera genérica en la clase y luego cada objeto *Coche* tendrá un valor para cada uno de sus atributos.\n\nLos atributos los definimos tras la declaración de la clase. Y luego se accede a ellos mediante la sintaxis `objeto.atributo`\n\nVamos a empezar a definir atributos en los coches.",
      "metadata": {
        "id": "qIU907cMCeq-"
      }
    },
    {
      "cell_type": "code",
      "source": "class Coche:\n    puertas = 4\n    ruedas = 4",
      "metadata": {
        "id": "kMmA5J4ZCeq_",
        "trusted": true
      },
      "outputs": [],
      "execution_count": 4
    },
    {
      "cell_type": "markdown",
      "source": "Ahora todos los coches que creamos, tendrán 4 puertas y 4 ruedas.",
      "metadata": {
        "id": "1U7lMW-iCerB"
      }
    },
    {
      "cell_type": "code",
      "source": "tesla = Coche()\nprint(tesla.puertas)\nprint(tesla.ruedas)",
      "metadata": {
        "id": "5Lyh5PuzCerC",
        "trusted": true
      },
      "outputs": [
        {
          "name": "stdout",
          "output_type": "stream",
          "text": "4\n4\n"
        }
      ],
      "execution_count": 5
    },
    {
      "cell_type": "markdown",
      "source": "También podemos modificar los atributos. Esto Python lo hace muy sencillo, los cambiamos directamente reasignando valores. En otros lenguajes de programación hay que implementar esto mediante métodos  denominados `getters` y `setters`.",
      "metadata": {
        "id": "Mtcti_iECerD"
      }
    },
    {
      "cell_type": "code",
      "source": "mercedes = Coche()\nmercedes.puertas = 3\n\nprint(mercedes.puertas)\nprint(tesla.puertas)",
      "metadata": {
        "id": "w3GQHOQ5CerE",
        "trusted": true
      },
      "outputs": [
        {
          "name": "stdout",
          "output_type": "stream",
          "text": "3\n4\n"
        }
      ],
      "execution_count": 6
    },
    {
      "cell_type": "code",
      "source": "peugeot = Coche()\nprint(peugeot.puertas)\n#como vemos con mercedes.puertas = 3 no cambiamos el atributo inicial de la clase \n#ni tampoco del resto de objetos",
      "metadata": {
        "trusted": true
      },
      "outputs": [
        {
          "name": "stdout",
          "output_type": "stream",
          "text": "4\n"
        }
      ],
      "execution_count": 8
    },
    {
      "cell_type": "markdown",
      "source": "<table align=\"left\">\n <tr><td width=\"80\"><img src=\"./img/error.png\" style=\"width:auto;height:auto\"></td>\n     <td style=\"text-align:left\">\n         <h3>ERRORES atributos que no existen</h3>\n         \n </td></tr>\n</table>",
      "metadata": {
        "id": "qKcdVYSZCerE"
      }
    },
    {
      "cell_type": "code",
      "source": "#Acceder a un atributo que no existe\nprint(mercedes.motor)",
      "metadata": {
        "id": "of0wj87yCerF",
        "trusted": true
      },
      "outputs": [
        {
          "ename": "<class 'AttributeError'>",
          "evalue": "'Coche' object has no attribute 'motor'",
          "traceback": [
            "\u001b[0;31m---------------------------------------------------------------------------\u001b[0m",
            "\u001b[0;31mAttributeError\u001b[0m                            Traceback (most recent call last)",
            "Cell \u001b[0;32mIn[9], line 2\u001b[0m\n\u001b[1;32m      1\u001b[0m \u001b[38;5;66;03m#Acceder a un atributo que no existe\u001b[39;00m\n\u001b[0;32m----> 2\u001b[0m \u001b[38;5;28mprint\u001b[39m(\u001b[43mmercedes\u001b[49m\u001b[38;5;241;43m.\u001b[39;49m\u001b[43mmotor\u001b[49m)\n",
            "\u001b[0;31mAttributeError\u001b[0m: 'Coche' object has no attribute 'motor'"
          ],
          "output_type": "error"
        }
      ],
      "execution_count": 9
    },
    {
      "cell_type": "markdown",
      "source": "Seguimos sin poder diferenciar claramente un coche de otro, pero ya vamos definiendo sus características, que será posible ir modificándolas tanto en la inicialización del objeto, como después. De momento, tenemos características comunes a todos los coches... o no, ¿todos los coches tienen 4 puertas?",
      "metadata": {
        "id": "fEEOW_ZHCerG"
      }
    },
    {
      "cell_type": "code",
      "source": "bmw = Coche()\nbmw.puertas=6\nbmw.ruedas=8\n#Es un poco farragoso establecer los atributos así, por eso creamos los constructores,\n#Estos nos sirven para identificar los atributos de Coche con la función class",
      "metadata": {
        "trusted": true
      },
      "outputs": [],
      "execution_count": 11
    },
    {
      "cell_type": "code",
      "source": "",
      "metadata": {
        "trusted": true
      },
      "outputs": [],
      "execution_count": null
    }
  ]
}