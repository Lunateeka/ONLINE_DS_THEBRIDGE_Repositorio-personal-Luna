{
  "metadata": {
    "kernelspec": {
      "name": "python",
      "display_name": "Python (Pyodide)",
      "language": "python"
    },
    "language_info": {
      "codemirror_mode": {
        "name": "python",
        "version": 3
      },
      "file_extension": ".py",
      "mimetype": "text/x-python",
      "name": "python",
      "nbconvert_exporter": "python",
      "pygments_lexer": "ipython3",
      "version": "3.8"
    },
    "colab": {
      "provenance": []
    }
  },
  "nbformat_minor": 4,
  "nbformat": 4,
  "cells": [
    {
      "cell_type": "markdown",
      "source": "![TheBridge_Python_v0.png](attachment:TheBridge_Python_v0.png)",
      "metadata": {
        "id": "hWxOAtlGJHlL"
      }
    },
    {
      "cell_type": "markdown",
      "source": "##  Constructores\n",
      "metadata": {
        "id": "35EcpJqAJHlM"
      }
    },
    {
      "cell_type": "markdown",
      "source": "### Contenidos\n",
      "metadata": {
        "id": "7fJFSmNcJHlM"
      }
    },
    {
      "cell_type": "markdown",
      "source": "* [Introducción  ](#Introducción--)\n\n",
      "metadata": {
        "id": "lrnJBgA8JHlM"
      }
    },
    {
      "cell_type": "markdown",
      "source": "### Introducción  \n[al indice](#Contenidos)  \n\nVeíamos en la sesión anterior que cuando creamos un objeto de la clase *Coche* sin más, este objeto adquiere los atributos por defecto de la clase. Si queremos definirlo bien \"de primeras\" (en su instanciación o creación) para diferenciarlo de otros coches, necesitamos algo más.  \n\nEse algo más que me permite la definición inicial, es lo que se denomina constructor de la clase.\n\nSerá un método, muy similar a una función, al que daremos unos argumentos de entrada que sustituirán a los valores por defecto y que nos permitirán diferenciar esa instancia de otras instancias de la misma clase.\n\n**¿Cómo se define un constructor?** Mediante la función `__init__`, dentro de la clase.",
      "metadata": {
        "id": "KHrnh8-CJHlN"
      }
    },
    {
      "cell_type": "code",
      "source": "class Coche:\n    puertas = 4\n    ruedas=4\n    def __init__(self,marca_coche):\n        self.marca = marca_coche\n#self es el objeto que hemos creado a partir de la clase coche\n#lo tenemos que poner siempre",
      "metadata": {
        "id": "bFY5dn9FJHlN",
        "trusted": true
      },
      "outputs": [],
      "execution_count": 1
    },
    {
      "cell_type": "markdown",
      "source": "En la declaración del constructor hemos metido la palabra `self`. **Lo tendremos que poner siempre**. Hace referencia a la propia instancia de coche, es decir, a cuando creemos coches nuevos.\n\nEn este caso estamos diferenciando los atributos comunes de la clase *Coche*, de los atributos particulares de los coches, como por ejemplo, la marca. Por eso la marca va junto con `self`, porque no hace referencia a la clase genérica de coche, sino a cada coche que creemos.",
      "metadata": {
        "id": "X6JUOm3DJHlN"
      }
    },
    {
      "cell_type": "code",
      "source": "tesla = Coche()\n#Como vemos si ahora contruimos un coche nos va a dar error, ya que tenemos que\n#introducir el atributo marca, que se creará a partir de la entrada (o variable)\n#que introduzcamos, que al definir la función hemos llamado marca_coche",
      "metadata": {
        "id": "1885nm5tJHlN",
        "trusted": true
      },
      "outputs": [
        {
          "ename": "<class 'TypeError'>",
          "evalue": "Coche.__init__() missing 1 required positional argument: 'marca_coche'",
          "traceback": [
            "\u001b[0;31m---------------------------------------------------------------------------\u001b[0m",
            "\u001b[0;31mTypeError\u001b[0m                                 Traceback (most recent call last)",
            "Cell \u001b[0;32mIn[3], line 1\u001b[0m\n\u001b[0;32m----> 1\u001b[0m tesla \u001b[38;5;241m=\u001b[39m \u001b[43mCoche\u001b[49m\u001b[43m(\u001b[49m\u001b[43m)\u001b[49m\n\u001b[1;32m      2\u001b[0m \u001b[38;5;66;03m#Como vemos si ahora contruimos un coche nos va a dar error, ya que tenemos que\u001b[39;00m\n\u001b[1;32m      3\u001b[0m \u001b[38;5;66;03m#introducir el atributo marca, que se creará a partir de la entrada (o variable)\u001b[39;00m\n\u001b[1;32m      4\u001b[0m \u001b[38;5;66;03m#que introduzcamos, que al definir la función hemos llamado marca\u001b[39;00m\n",
            "\u001b[0;31mTypeError\u001b[0m: Coche.__init__() missing 1 required positional argument: 'marca_coche'"
          ],
          "output_type": "error"
        }
      ],
      "execution_count": 3
    },
    {
      "cell_type": "code",
      "source": "tesla = Coche(\"Tesla\")\nprint(tesla)\nprint(tesla.marca)\nprint(tesla.puertas)\nprint(tesla.ruedas)\n#Como vemos con introducir una entrada en la clase coche ya nos vale, ya que self es\n#el propio objeto, y no hace falta que lo definamos",
      "metadata": {
        "trusted": true
      },
      "outputs": [
        {
          "name": "stdout",
          "output_type": "stream",
          "text": "<__main__.Coche object at 0x2a062e8>\nTesla\n4\n4\n"
        }
      ],
      "execution_count": 7
    },
    {
      "cell_type": "markdown",
      "source": "Ahora ya podemos diferenciar los coches por su marca. Para acceder al atributo de la marca, lo hacemos igual que con los anteriores.",
      "metadata": {
        "id": "9ogZNTWIJHlO"
      }
    },
    {
      "cell_type": "code",
      "source": "mercedes =Coche(\"Mercedes\")\nrenault = Coche(\"Renault\")\nprint(mercedes)\nprint(mercedes.marca)\nprint(mercedes.puertas)\nprint(mercedes.ruedas)\nprint(renault)\nprint(renault.marca)\nprint(renault.puertas)\nprint(renault.ruedas)",
      "metadata": {
        "id": "uY9tfscIJHlO",
        "trusted": true
      },
      "outputs": [
        {
          "name": "stdout",
          "output_type": "stream",
          "text": "<__main__.Coche object at 0x296c968>\nMercedes\n4\n4\n<__main__.Coche object at 0x29e2410>\nRenault\n4\n4\n"
        }
      ],
      "execution_count": 8
    },
    {
      "cell_type": "markdown",
      "source": "Ya podemos solucionar el tema de que no todos los coches tienen 4 puertas",
      "metadata": {
        "id": "QHNVcGPZJHlO"
      }
    },
    {
      "cell_type": "code",
      "source": "class Coche:\n    puertas = 4\n    ruedas = 4\n\n    def __init__ (self, marca_coche,num_puertas):\n        self.marca =marca_coche\n        self.puertas = num_puertas\n        ",
      "metadata": {
        "id": "s-SNsYyxJHlO",
        "trusted": true
      },
      "outputs": [],
      "execution_count": 9
    },
    {
      "cell_type": "code",
      "source": "tesla = Coche(\"Tesla\",6)\nprint(tesla.puertas)",
      "metadata": {
        "id": "YvpqcRECJHlO",
        "trusted": true
      },
      "outputs": [
        {
          "name": "stdout",
          "output_type": "stream",
          "text": "6\n"
        }
      ],
      "execution_count": 15
    },
    {
      "cell_type": "code",
      "source": "mercedes_500=Coche(\"Mercedes\",8)\nmercedes.puertas",
      "metadata": {
        "trusted": true
      },
      "outputs": [
        {
          "execution_count": 14,
          "output_type": "execute_result",
          "data": {
            "text/plain": "4"
          },
          "metadata": {}
        }
      ],
      "execution_count": 14
    },
    {
      "cell_type": "code",
      "source": "bmw = Coche (\"BMW\")\n#Como vemos aunque pongamos puertas=4 como hemos introducido en el init dos variables\n#necesitamos poner dos para que funcionen",
      "metadata": {
        "trusted": true
      },
      "outputs": [
        {
          "ename": "<class 'TypeError'>",
          "evalue": "Coche.__init__() missing 1 required positional argument: 'num_puertas'",
          "traceback": [
            "\u001b[0;31m---------------------------------------------------------------------------\u001b[0m",
            "\u001b[0;31mTypeError\u001b[0m                                 Traceback (most recent call last)",
            "Cell \u001b[0;32mIn[16], line 1\u001b[0m\n\u001b[0;32m----> 1\u001b[0m bmw \u001b[38;5;241m=\u001b[39m \u001b[43mCoche\u001b[49m\u001b[43m \u001b[49m\u001b[43m(\u001b[49m\u001b[38;5;124;43m\"\u001b[39;49m\u001b[38;5;124;43mBMW\u001b[39;49m\u001b[38;5;124;43m\"\u001b[39;49m\u001b[43m)\u001b[49m\n",
            "\u001b[0;31mTypeError\u001b[0m: Coche.__init__() missing 1 required positional argument: 'num_puertas'"
          ],
          "output_type": "error"
        }
      ],
      "execution_count": 16
    },
    {
      "cell_type": "code",
      "source": "#de esta forma, para ponerlo por defecto y además poder elegirlo  \n#lo hacemos de la siguiente forma\nclass Coche:\n    def __init__ (self, marca_coche,num_puertas=4,num_ruedas=4):\n        self.marca =marca_coche\n        self.puertas = num_puertas\n        self.ruedas=num_ruedas",
      "metadata": {
        "trusted": true
      },
      "outputs": [],
      "execution_count": 23
    },
    {
      "cell_type": "code",
      "source": "tesla_4 =Coche(\"Tesla\")\ntesla_6r = Coche(\"Tesla\",num_ruedas=6)",
      "metadata": {
        "trusted": true
      },
      "outputs": [],
      "execution_count": 24
    },
    {
      "cell_type": "code",
      "source": "print(tesla_4.puertas, tesla_6r.puertas)",
      "metadata": {
        "trusted": true
      },
      "outputs": [
        {
          "name": "stdout",
          "output_type": "stream",
          "text": "4 4\n"
        }
      ],
      "execution_count": 25
    },
    {
      "cell_type": "code",
      "source": "print(tesla_4.ruedas, tesla_6r.ruedas)",
      "metadata": {
        "trusted": true
      },
      "outputs": [
        {
          "name": "stdout",
          "output_type": "stream",
          "text": "4 6\n"
        }
      ],
      "execution_count": 26
    },
    {
      "cell_type": "code",
      "source": "",
      "metadata": {
        "trusted": true
      },
      "outputs": [],
      "execution_count": null
    }
  ]
}