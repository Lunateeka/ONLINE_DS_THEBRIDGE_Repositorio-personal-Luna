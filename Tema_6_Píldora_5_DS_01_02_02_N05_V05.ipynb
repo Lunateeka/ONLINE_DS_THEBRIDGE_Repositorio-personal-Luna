{
  "metadata": {
    "kernelspec": {
      "name": "python",
      "display_name": "Python (Pyodide)",
      "language": "python"
    },
    "language_info": {
      "codemirror_mode": {
        "name": "python",
        "version": 3
      },
      "file_extension": ".py",
      "mimetype": "text/x-python",
      "name": "python",
      "nbconvert_exporter": "python",
      "pygments_lexer": "ipython3",
      "version": "3.8"
    },
    "colab": {
      "provenance": []
    }
  },
  "nbformat_minor": 4,
  "nbformat": 4,
  "cells": [
    {
      "cell_type": "markdown",
      "source": "![TheBridge_Python_v0.png](attachment:TheBridge_Python_v0.png)",
      "metadata": {
        "id": "6Oj_OmATCFJQ"
      }
    },
    {
      "cell_type": "markdown",
      "source": "##  Métodos\n",
      "metadata": {
        "id": "AUk_h9_hCFJS"
      }
    },
    {
      "cell_type": "markdown",
      "source": "### Contenidos\n",
      "metadata": {
        "id": "FDlj7uMeCFJS"
      }
    },
    {
      "cell_type": "markdown",
      "source": "* [Introducción  ](#Introducción--)\n\n",
      "metadata": {
        "id": "EhVUN4LkCFJT"
      }
    },
    {
      "cell_type": "markdown",
      "source": "### Introducción  \n[al indice](#Contenidos)  \n\nSon funciones que podemos definir dentro de las clases. Estas funciones cambiarán el estado de algún atributo o realizarán cálculos que nos sirvan de output. Un ejemplo sencillo puede ser, un método de la clase coche que saque la potencia en kilovatios, en vez de en caballos. O si tiene un estado de mantenimiento (ITV pasada o no), que modifique ese estado.\n\nEl constructor es un tipo de método. La diferencia con el resto de métodos radica en su nombre, `__init__`. La sintaxis para definir los métodos es como si fuese una función. Y luego para llamar al método se utiliza `objeto.metodo(argumentos_metodo)`. Esto ya lo hemos usado anteriormente, cuando haciamos un `string.lower()`, simplemente llamábamos al método `lower()`, que no requería de argumentos, de la clase *string*.",
      "metadata": {
        "id": "fb0ub0x3CFJT"
      }
    },
    {
      "cell_type": "code",
      "source": "class Coche ():\n    ruedas = 4\n    def __init__(self, marca_coche, num_puertas = 4):\n        self.marca = marca_coche\n        self.puertas = num_puertas\n    def caracteristicas(self):\n#aunque no haya que introducirlo a la hora de definir un metodo siempre hay que poner self\n        return \"Marca :\"+marca+\", Puertas:\" + str(puertas)\n#observa que todo lo tenemos que tener en str para que nos lo pueda retornar\nford_ka=Coche(\"Ford\")\nford_ka.caracteristicas()\n#pero esto ha va a dar error porque tenemos que añadir el self\n",
      "metadata": {
        "id": "ePbMjBDMCFJT",
        "trusted": true
      },
      "outputs": [
        {
          "ename": "<class 'NameError'>",
          "evalue": "name 'marca' is not defined",
          "traceback": [
            "\u001b[0;31m---------------------------------------------------------------------------\u001b[0m",
            "\u001b[0;31mNameError\u001b[0m                                 Traceback (most recent call last)",
            "Cell \u001b[0;32mIn[19], line 11\u001b[0m\n\u001b[1;32m      9\u001b[0m \u001b[38;5;66;03m#observa que todo lo tenemos que tener en str para que nos lo pueda retornar\u001b[39;00m\n\u001b[1;32m     10\u001b[0m ford_ka\u001b[38;5;241m=\u001b[39mCoche(\u001b[38;5;124m\"\u001b[39m\u001b[38;5;124mFord\u001b[39m\u001b[38;5;124m\"\u001b[39m)\n\u001b[0;32m---> 11\u001b[0m \u001b[43mford_ka\u001b[49m\u001b[38;5;241;43m.\u001b[39;49m\u001b[43mcaracteristicas\u001b[49m\u001b[43m(\u001b[49m\u001b[43m)\u001b[49m\n\u001b[1;32m     12\u001b[0m \u001b[38;5;66;03m#pero esto ha va a dar error porque tenemos que añadir el self\u001b[39;00m\n",
            "Cell \u001b[0;32mIn[19], line 8\u001b[0m, in \u001b[0;36mCoche.caracteristicas\u001b[0;34m(self)\u001b[0m\n\u001b[1;32m      6\u001b[0m     \u001b[38;5;28;01mdef\u001b[39;00m \u001b[38;5;21mcaracteristicas\u001b[39m(\u001b[38;5;28mself\u001b[39m):\n\u001b[1;32m      7\u001b[0m \u001b[38;5;66;03m#aunque no haya que introducirlo a la hora de definir un metodo siempre hay que poner self\u001b[39;00m\n\u001b[0;32m----> 8\u001b[0m         \u001b[38;5;28;01mreturn\u001b[39;00m \u001b[38;5;124m\"\u001b[39m\u001b[38;5;124mMarca :\u001b[39m\u001b[38;5;124m\"\u001b[39m\u001b[38;5;241m+\u001b[39m\u001b[43mmarca\u001b[49m\u001b[38;5;241m+\u001b[39m\u001b[38;5;124m\"\u001b[39m\u001b[38;5;124m, Puertas:\u001b[39m\u001b[38;5;124m\"\u001b[39m \u001b[38;5;241m+\u001b[39m \u001b[38;5;28mstr\u001b[39m(puertas)\n",
            "\u001b[0;31mNameError\u001b[0m: name 'marca' is not defined"
          ],
          "output_type": "error"
        }
      ],
      "execution_count": 19
    },
    {
      "cell_type": "code",
      "source": "#se haría de esta forma\nclass Coche ():\n    ruedas = 4\n    def __init__(self, marca_coche, num_puertas = 4):\n        self.marca = marca_coche\n        self.puertas = num_puertas\n    def caracteristicas(self):\n        return \"Marca :\"+self.marca+\", Puertas:\" + str(self.puertas)\n\nford_ka=Coche(\"Ford\")\nford_ka.caracteristicas()",
      "metadata": {
        "trusted": true
      },
      "outputs": [
        {
          "execution_count": 17,
          "output_type": "execute_result",
          "data": {
            "text/plain": "'Marca :Ford, Puertas:4'"
          },
          "metadata": {}
        }
      ],
      "execution_count": 17
    },
    {
      "cell_type": "markdown",
      "source": "Fíjate que para llamar a las ruedas se usa `self`, a pesar de que no lo habíamos metido en el constructor. Así evitamos llamar a otra variable del programa que se llame *ruedas*. Nos aseguramos que son las ruedas de ese coche con el `self`.",
      "metadata": {
        "id": "vDAYUCBZCFJU"
      }
    },
    {
      "cell_type": "code",
      "source": "class Coche ():\n    ruedas = 4\n    def __init__(self, marca_coche, precio_coche,num_puertas = 4):\n        self.marca = marca_coche\n        self.puertas = num_puertas\n        self.precio = precio_coche\n    def caracteristicas(self):\n        return \"Marca :\"+self.marca+\", Puertas:\" + str(self.puertas)\n    def precio_actual(self,agnos):  #para evitar usar las ñ usamos agnos\n        if agnos <= 5:\n            return self.precio*0.7\n        elif agnos > 5 and agnos < 10:\n            return self.precio*0.5\n        else:\n            return self.precio*0.3\n    \njeep=Coche(\"Jeep\",35000)\njeep.precio_actual(7)\n\n",
      "metadata": {
        "id": "axuUXKyyCFJV",
        "trusted": true
      },
      "outputs": [
        {
          "execution_count": 25,
          "output_type": "execute_result",
          "data": {
            "text/plain": "17500.0"
          },
          "metadata": {}
        }
      ],
      "execution_count": 25
    },
    {
      "cell_type": "code",
      "source": "",
      "metadata": {
        "id": "Pd_hKV4MCFJV"
      },
      "outputs": [],
      "execution_count": null
    }
  ]
}