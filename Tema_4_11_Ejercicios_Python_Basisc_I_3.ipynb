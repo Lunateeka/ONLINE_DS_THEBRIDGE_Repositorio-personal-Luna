{
  "metadata": {
    "kernelspec": {
      "name": "python",
      "display_name": "Python (Pyodide)",
      "language": "python"
    },
    "language_info": {
      "codemirror_mode": {
        "name": "python",
        "version": 3
      },
      "file_extension": ".py",
      "mimetype": "text/x-python",
      "name": "python",
      "nbconvert_exporter": "python",
      "pygments_lexer": "ipython3",
      "version": "3.8"
    },
    "colab": {
      "provenance": []
    }
  },
  "nbformat_minor": 4,
  "nbformat": 4,
  "cells": [
    {
      "cell_type": "markdown",
      "source": "![TheBridge_logo_RGB_color.jpg](attachment:TheBridge_logo_RGB_color.jpg)",
      "metadata": {
        "id": "QzEleQECU8bZ"
      }
    },
    {
      "cell_type": "markdown",
      "source": "![imagen](./img/ejercicios.png)",
      "metadata": {
        "id": "NuWf1LQ_U8ba"
      }
    },
    {
      "cell_type": "markdown",
      "source": "## EJERCICIOS PYTHON BASICO 3:\n## Operaciones matemáticas, comparación y booleanas",
      "metadata": {
        "id": "A04Zp282U8ba"
      }
    },
    {
      "cell_type": "markdown",
      "source": "Completa los siguiente ejercicios, la solución completa a los mismos se publicarán en el repo del curso a lo largo del sprint. En algunos ejercicios se muestra la solución final, para que puedas comprobar que lo has hecho bien, pero lo importante es el código que generes. ¡Vaaamos, a ello...!",
      "metadata": {
        "id": "HC0BDo8TU8ba"
      }
    },
    {
      "cell_type": "markdown",
      "source": "![ejercicio.png](./img/ejercicio.png)\n\n\n## Ejercicio 1\nTenemos las siguientes variables:\n\n```Python\nA = 4\nB = \"Text\"\nC = 4.1\n```\n\nComprueba:\n1. Si A y B son equivalentes\n2. Si A y C NO son equivalentes\n3. Si A es mayor que C\n4. Si C es menor o igual que A\n5. Si B NO es equivalente a C",
      "metadata": {
        "id": "534GVi5_U8bb"
      }
    },
    {
      "cell_type": "code",
      "source": "A = 4\nB = \"Text\"\nC = 4.1\nprint(A == B)\nprint(not A == C)\nprint(A > C)\nprint(C <= A)\nprint(B != C)\n",
      "metadata": {
        "id": "4lIPHtJcU8bb",
        "outputId": "02d100a9-2b8f-4f16-f30c-bcc086d8362b",
        "trusted": true
      },
      "outputs": [
        {
          "name": "stdout",
          "output_type": "stream",
          "text": "False\nTrue\nFalse\nFalse\nTrue\n"
        }
      ],
      "execution_count": 6
    },
    {
      "cell_type": "markdown",
      "source": "![ejercicio.png](./img/ejercicio.png)\n\n## Ejercicio 2\nCrea un programa donde se recojan dos inputs del usuario, y el output del programa sea si esos inputs son iguales o no",
      "metadata": {
        "id": "EhgcABekU8bc"
      }
    },
    {
      "cell_type": "code",
      "source": "def igualdad(a,b):\n    if a == b:\n        print(\"¡Son iguales! :D\")\n    else :\n        print(\"Las cosas que has escrito son distintas :(\")\ninput_a = input(\"¡Escribe algo! :\")\ninput_b = input(\"Ahora escribe lo mismo u otra cosa :\")\nigualdad(input_a,input_b)   ",
      "metadata": {
        "id": "pWGngT2vU8bc",
        "trusted": true
      },
      "outputs": [
        {
          "output_type": "stream",
          "name": "stdin",
          "text": "¡Escribe algo! : a\nAhora escribe lo mismo u otra cosa : a\n"
        },
        {
          "name": "stdout",
          "output_type": "stream",
          "text": "¡Son iguales! :D\n"
        }
      ],
      "execution_count": 11
    },
    {
      "cell_type": "markdown",
      "source": "![ejercicio.png](./img/ejercicio.png)\n\n## Ejercicio 3\nMismo programa que en 2, pero en esta ocasión tienen que ser tres inputs y dos salidas. Una de las salidas que nos indique si todos son iguales, y la otra si al menos dos inputs sí que lo son",
      "metadata": {
        "id": "vWPN6B95U8bc"
      }
    },
    {
      "cell_type": "code",
      "source": "def igualdad3(a,b,c):\n    if a == b and a == c:\n        print(\"¡Todos son iguales! :D\")\n    elif a == b:\n        print('Solo las primera y segunda respuesta, en la que escribes \"',a,'\" son iguales :/', sep=\"\")\n    elif a == c:\n        print('Solo las primera y tercera respuesta, en la que escribes \"',a,'\" son iguales :/', sep=\"\")\n    elif b == c:\n        print('Solo las segunda y tercera respuesta, en la que escribes \"',b,'\" son iguales :/', sep=\"\")\n    else: \n        print(\"Todas las cosas que has escrito son distintas :(\")\ninput_a = input(\"¡Escribe algo! :\")\ninput_b = input(\"Ahora escribe una segunda cosa (recuerda: puede ser igual o distinto a lo anterior) :\")\ninput_c = input(\"Por último escribe algo igual o distinto a cualquiera de tus anteriores respuestas :\")\nigualdad3(input_a,input_b,input_c)   ",
      "metadata": {
        "id": "qIHosuDNU8bc",
        "outputId": "5cf3dd0a-ae95-439a-ff35-e687939b739e",
        "trusted": true
      },
      "outputs": [
        {
          "output_type": "stream",
          "name": "stdin",
          "text": "¡Escribe algo! : a\nAhora escribe una segunda cosa (recuerda: puede ser igual o distinto a lo anterior) : a\nPor último escribe algo igual o distinto a cualquiera de tus anteriores respuestas : a\n"
        },
        {
          "name": "stdout",
          "output_type": "stream",
          "text": "¡Todos son iguales! :D\n"
        }
      ],
      "execution_count": 19
    },
    {
      "cell_type": "markdown",
      "source": "![ejercicio.png](./img/ejercicio.png)\n\n## Ejercicio 4\nRazona sin ejecutar código el output que obtendremos de las siguientes sentencias\n1. True and True and False\n2. not ((True or False) and (True or False))\n3. (False or False or False or True) and False\n4. not False and True and not True",
      "metadata": {
        "id": "b1bo1drFU8bd"
      }
    },
    {
      "cell_type": "markdown",
      "source": "obtendremos:\n1. False\n2. True\n3. False\n4. False",
      "metadata": {
        "id": "Ijx1RnV8U8bd"
      }
    },
    {
      "cell_type": "code",
      "source": "",
      "metadata": {
        "trusted": true
      },
      "outputs": [],
      "execution_count": null
    }
  ]
}