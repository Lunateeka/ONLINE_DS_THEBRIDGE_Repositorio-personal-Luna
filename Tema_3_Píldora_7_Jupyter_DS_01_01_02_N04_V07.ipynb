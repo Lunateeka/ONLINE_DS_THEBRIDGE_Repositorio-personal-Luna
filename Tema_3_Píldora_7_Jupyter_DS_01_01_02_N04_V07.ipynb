{
  "metadata": {
    "kernelspec": {
      "name": "python",
      "display_name": "Python (Pyodide)",
      "language": "python"
    },
    "language_info": {
      "codemirror_mode": {
        "name": "python",
        "version": 3
      },
      "file_extension": ".py",
      "mimetype": "text/x-python",
      "name": "python",
      "nbconvert_exporter": "python",
      "pygments_lexer": "ipython3",
      "version": "3.8"
    },
    "colab": {
      "provenance": []
    }
  },
  "nbformat_minor": 4,
  "nbformat": 4,
  "cells": [
    {
      "cell_type": "markdown",
      "source": "<img src = \"./img/TheBridge_logo_RGB_color.jpg\" width = 500><img src = \"./img/python.jpg\" width = 500>",
      "metadata": {
        "id": "cVKE4hEPX5l9"
      }
    },
    {
      "cell_type": "markdown",
      "source": "# Python Basics I\n\n",
      "metadata": {
        "id": "-5bhFryrX5l-"
      }
    },
    {
      "cell_type": "markdown",
      "source": "## Contenidos",
      "metadata": {
        "id": "O3qHxuWRX5l_"
      }
    },
    {
      "cell_type": "markdown",
      "source": "* [Conversión de tipos](#Conversión-de-tipos)\n* [Input](#Input)\n* [None](#None)\n* [Sintaxis y best practices](#Sintaxis-y-best-practices)\n",
      "metadata": {
        "id": "14Q473gJX5l_"
      }
    },
    {
      "cell_type": "markdown",
      "source": "## Conversión de tipos\n[al indice](#Contenidos)\nComo en otros lenguajes, en Python también tenemos la posibilidad de realizar conversiones entre los tipos de datos. Hasta ahora hemos visto pocos, pero cuando descubramos más tipos de datos y objetos, verás que son muy comunes estas transformaciones.\n\nUn caso muy habitual es leer un archivo datos numéricos, y que Python interprete los números como caracteres. No es un error, pero posteriormente, cuando hagamos operaciones con nuestros números, tendremos errores, ya que en realidad son cadenas de texto. Si forzamos el cambio a numerico, nos evitaremos futuros problemas.\n\n**Mucho cuidado en los cambios de tipos**. Tenemos que estar seguros de lo que hacemos ya que podemos perder información, o lo más probable, puede dar error, al no ser compatible el cambio.\n\nVeamos como cambiar los tipos",
      "metadata": {
        "id": "SnoBN2lfX5l_"
      }
    },
    {
      "cell_type": "code",
      "source": "num_real = 24.69\nprint(type(num_real))\nnum_entero = int(num_real) #al convertir tipo float a int con esta función NO REDONDEA\nprint(num_entero) \nprint(type(num_entero))",
      "metadata": {
        "id": "vdCDePnqX5mA",
        "outputId": "c83cb4eb-adcd-4419-ab25-a7fcb6aa186e",
        "colab": {
          "base_uri": "https://localhost:8080/"
        },
        "trusted": true
      },
      "outputs": [
        {
          "name": "stdout",
          "output_type": "stream",
          "text": "<class 'float'>\n24\n<class 'int'>\n"
        }
      ],
      "execution_count": 4
    },
    {
      "cell_type": "markdown",
      "source": "Perdemos unos decimales, normalmente nada grave, aunque depende de la aplicación.\n\n**NOTA**: si lo que queremos es redondear, podemos usar la función `round()`",
      "metadata": {
        "id": "QdWCjIbjX5mA"
      }
    },
    {
      "cell_type": "code",
      "source": "# Esta funcion tiene dos argumentos: el número y la cantidad de decimales que queremos conservar.\n# Veremos funciones más adelante.\nnum_real =24.686\nnum_redondeado = round(num_real) #si lo pongo solo así redondea a numeros entrero\nprint(num_redondeado)\nprint(type(num_redondeado))\n#es lo mismo que poner esto pero de esta forma nos sale un tipo float\nnum_redondeado = round(num_real,0) #si lo pongo solo así redondea a numeros entrero\nprint(num_redondeado)\nprint(type(num_redondeado))\n#podemos redondear a dos decimares de la siguiente forma \nnum_redondeado_2 = round(num_real,2) #si lo pongo solo así redondea a numeros entrero\nprint(num_redondeado_2)",
      "metadata": {
        "id": "wVlusQvYX5mA",
        "trusted": true
      },
      "outputs": [
        {
          "name": "stdout",
          "output_type": "stream",
          "text": "25\n<class 'int'>\n25.0\n<class 'float'>\n24.69\n"
        }
      ],
      "execution_count": 12
    },
    {
      "cell_type": "markdown",
      "source": "Para pasar de un **numero a string**, no hay problema",
      "metadata": {
        "id": "oMuhBbdsX5mB"
      }
    },
    {
      "cell_type": "code",
      "source": "num_real=24.69\nrem_entero=12\n\nreal_str=str(num_real)\nprint(\"El tipo de\", real_str, \"es\", type(real_str))\n\nentero_str=str(num_entero)\nprint(\"El tipo de\", entero_str, \"es\", type(entero_str))",
      "metadata": {
        "id": "XZ7s0Z0QX5mB",
        "trusted": true
      },
      "outputs": [
        {
          "name": "stdout",
          "output_type": "stream",
          "text": "El tipo de 24.69 es <class 'str'>\nEl tipo de 24 es <class 'str'>\n"
        }
      ],
      "execution_count": 20
    },
    {
      "cell_type": "markdown",
      "source": "De **String a un número** tampoco suele haber problema. Hay que tener mucho cuidado con los puntos de los decimales. **Puntos, NO comas**",
      "metadata": {
        "id": "PE5mSpnTX5mB"
      }
    },
    {
      "cell_type": "code",
      "source": "print (num_real + num_entero) #las variables numericas las suma\nprint (real_str + entero_str) #las strings las concatena sin espacio!\nprint (real_str + \" \" +entero_str)",
      "metadata": {
        "id": "f4U-o3DJX5mB",
        "trusted": true
      },
      "outputs": [
        {
          "name": "stdout",
          "output_type": "stream",
          "text": "48.69\n24.6924\n24.69 24\n"
        }
      ],
      "execution_count": 22
    },
    {
      "cell_type": "markdown",
      "source": "Pasar de **numero a boleano y viceversa**, tambien es bastante sencillo. Simplemente ten en cuenta que los 0s son `False`, y el resto de numeros equivalen a un `True`",
      "metadata": {
        "id": "eHOw_lqsX5mB"
      }
    },
    {
      "cell_type": "code",
      "source": "mi_cadena = \"98\"\nmi_entero = int(mi_cadena)\nprint(mi_cadena, type(mi_entero))\nprint(mi_entero, type(mi_entero))",
      "metadata": {
        "id": "PmAIVXwOX5mC",
        "trusted": true
      },
      "outputs": [
        {
          "name": "stdout",
          "output_type": "stream",
          "text": "98 <class 'int'>\n98 <class 'int'>\n"
        }
      ],
      "execution_count": 26
    },
    {
      "cell_type": "code",
      "source": "mi_cadena_real = \"98,33\" #Cuidado con poner la coma en ver de el punto\nmi_real = float(mi_cadena_real)",
      "metadata": {
        "trusted": true
      },
      "outputs": [
        {
          "ename": "<class 'ValueError'>",
          "evalue": "could not convert string to float: '98,33'",
          "traceback": [
            "\u001b[0;31m---------------------------------------------------------------------------\u001b[0m",
            "\u001b[0;31mValueError\u001b[0m                                Traceback (most recent call last)",
            "Cell \u001b[0;32mIn[29], line 2\u001b[0m\n\u001b[1;32m      1\u001b[0m mi_cadena_real \u001b[38;5;241m=\u001b[39m \u001b[38;5;124m\"\u001b[39m\u001b[38;5;124m98,33\u001b[39m\u001b[38;5;124m\"\u001b[39m \u001b[38;5;66;03m#Cuidado con poner la coma en ver de el punto\u001b[39;00m\n\u001b[0;32m----> 2\u001b[0m mi_real \u001b[38;5;241m=\u001b[39m \u001b[38;5;28;43mfloat\u001b[39;49m\u001b[43m(\u001b[49m\u001b[43mmi_cadena_real\u001b[49m\u001b[43m)\u001b[49m\n",
            "\u001b[0;31mValueError\u001b[0m: could not convert string to float: '98,33'"
          ],
          "output_type": "error"
        }
      ],
      "execution_count": 29
    },
    {
      "cell_type": "code",
      "source": "mi_cadena_real = \"98.33\" #Cuidado con poner la coma en ver de el punto\nmi_real = float(mi_cadena_real)\nprint(mi_real,type(mi_real))",
      "metadata": {
        "trusted": true
      },
      "outputs": [
        {
          "name": "stdout",
          "output_type": "stream",
          "text": "98.33 <class 'float'>\n"
        }
      ],
      "execution_count": 30
    },
    {
      "cell_type": "code",
      "source": "#Cuando el resultado del bool es que cualquiera que no sea 0 es True\nbooleano_1 = bool (123)\nprint(\"si meto 123 en bool me sale\",booleano_1,\", un variable que es del tipo\",type(booleano_1))\nbooleano_2 = bool (0)\nprint(\"si meto 0 en bool me sale\",booleano_2,\", un variable que es del tipo\",type(booleano_1))",
      "metadata": {
        "id": "Pihq3tMIX5mC",
        "trusted": true
      },
      "outputs": [
        {
          "name": "stdout",
          "output_type": "stream",
          "text": "si meto 123 en bool me sale True , un variable que es del tipo <class 'bool'>\nsi meto 0 en bool me sale False , un variable que es del tipo <class 'bool'>\n"
        }
      ],
      "execution_count": 35
    },
    {
      "cell_type": "markdown",
      "source": "En el caso de transformar **String a booleano**, los strings vacíos serán `False`, mientras que los que tengan cualquier cadena, equivaldrán a `True`.\n\nSin embargo, si la operación es la inversa, el booleano `True` pasará a valer una cadena de texto como `True`, y para `False` lo mismo.",
      "metadata": {
        "id": "m4kAmYygX5mC"
      }
    },
    {
      "cell_type": "code",
      "source": "#En cambio si tenemos una variable string vacía nos saldrá False\nstring_f=bool(\"\")\nprint(string_f,type(string_f))\n#y si tenemos una variable string llena nos saldrá true\nstring_t=bool(\"por ejemplo\")\nprint(string_t,type(string_t))",
      "metadata": {
        "trusted": true
      },
      "outputs": [
        {
          "name": "stdout",
          "output_type": "stream",
          "text": "False <class 'bool'>\nTrue <class 'bool'>\n"
        }
      ],
      "execution_count": 38
    },
    {
      "cell_type": "code",
      "source": "bool_str = str (string_f)\nbool_2_str = str (string_t)\nprint(bool_str,bool_2_str)",
      "metadata": {
        "trusted": true
      },
      "outputs": [
        {
          "name": "stdout",
          "output_type": "stream",
          "text": "False True\n"
        }
      ],
      "execution_count": 39
    },
    {
      "cell_type": "markdown",
      "source": "<table align=\"left\">\n <tr><td width=\"80\"><img src=\"img/error.png\" style=\"width:auto;height:auto\"></td>\n     <td style=\"text-align:left\">\n         <h3>ERRORES en conversion de tipos</h3>\n         \n </td></tr>\n</table>",
      "metadata": {
        "id": "asTtemeNX5mC"
      }
    },
    {
      "cell_type": "markdown",
      "source": "Ojo si intentamos pasar a entero un string con pinta de real. En cuanto lleva el punto, ya tiene que ser un numero real. A no ser que lo pasemos a real y posteriormente a entero (`int()`), o usando el `round()` como vimos anteriormente",
      "metadata": {
        "id": "2gk4mUFlX5mC"
      }
    },
    {
      "cell_type": "code",
      "source": "#para arregral el error este\nmi_cadena_real = \"98,33\" \nmi_real = float(mi_cadena_real)",
      "metadata": {
        "id": "0jH9hybLX5mD",
        "trusted": true
      },
      "outputs": [
        {
          "ename": "<class 'ValueError'>",
          "evalue": "could not convert string to float: '98,33'",
          "traceback": [
            "\u001b[0;31m---------------------------------------------------------------------------\u001b[0m",
            "\u001b[0;31mValueError\u001b[0m                                Traceback (most recent call last)",
            "Cell \u001b[0;32mIn[46], line 3\u001b[0m\n\u001b[1;32m      1\u001b[0m \u001b[38;5;66;03m#para arregral el error este\u001b[39;00m\n\u001b[1;32m      2\u001b[0m mi_cadena_real \u001b[38;5;241m=\u001b[39m \u001b[38;5;124m\"\u001b[39m\u001b[38;5;124m98,33\u001b[39m\u001b[38;5;124m\"\u001b[39m \n\u001b[0;32m----> 3\u001b[0m mi_real \u001b[38;5;241m=\u001b[39m \u001b[38;5;28;43mfloat\u001b[39;49m\u001b[43m(\u001b[49m\u001b[43mmi_cadena_real\u001b[49m\u001b[43m)\u001b[49m\n",
            "\u001b[0;31mValueError\u001b[0m: could not convert string to float: '98,33'"
          ],
          "output_type": "error"
        }
      ],
      "execution_count": 46
    },
    {
      "cell_type": "markdown",
      "source": "Si leemos datos con decimales y tenemos comas en vez de puntos, habrá errores.",
      "metadata": {
        "id": "4IjH5-bjX5mD"
      }
    },
    {
      "cell_type": "code",
      "source": "#utilizamos esta función que se aplicará solo a la variable que está delante\nreal_str.replace(\",\",\".\") ",
      "metadata": {
        "id": "YYLZk9r_X5mD",
        "trusted": true
      },
      "outputs": [
        {
          "execution_count": 47,
          "output_type": "execute_result",
          "data": {
            "text/plain": "'24.69'"
          },
          "metadata": {}
        }
      ],
      "execution_count": 47
    },
    {
      "cell_type": "markdown",
      "source": "Para solventar esto utilizaremos funciones que sustituyan unos caracteres por otros",
      "metadata": {
        "id": "WXshhJl7X5mD"
      }
    },
    {
      "cell_type": "code",
      "source": "nuevo_str=real_str.replace(\",\",\".\") #ojo! lo hará con todas!\nprint(nuevo_str,type(nuevo_str))",
      "metadata": {
        "id": "b87mtgazX5mD",
        "trusted": true
      },
      "outputs": [
        {
          "name": "stdout",
          "output_type": "stream",
          "text": "24.69 <class 'str'>\n"
        }
      ],
      "execution_count": 48
    },
    {
      "cell_type": "code",
      "source": "real = float(nuevo_str)\nprint(real,type(real))",
      "metadata": {
        "trusted": true
      },
      "outputs": [
        {
          "name": "stdout",
          "output_type": "stream",
          "text": "24.69 <class 'float'>\n"
        }
      ],
      "execution_count": 49
    },
    {
      "cell_type": "markdown",
      "source": "Es fundamental operar con los mismos tipos de datos. Mira lo que ocurre cuando sumamos texto con un numero. Da un `TypeError`. Básicamente nos dice que no puedes concatenar un texto con un numero entero",
      "metadata": {
        "id": "WiYe_qlLX5mD"
      }
    },
    {
      "cell_type": "code",
      "source": "suma = \"texto\" + 1",
      "metadata": {
        "id": "uTe4PksuX5mE",
        "trusted": true
      },
      "outputs": [
        {
          "ename": "<class 'TypeError'>",
          "evalue": "can only concatenate str (not \"int\") to str",
          "traceback": [
            "\u001b[0;31m---------------------------------------------------------------------------\u001b[0m",
            "\u001b[0;31mTypeError\u001b[0m                                 Traceback (most recent call last)",
            "Cell \u001b[0;32mIn[50], line 1\u001b[0m\n\u001b[0;32m----> 1\u001b[0m suma \u001b[38;5;241m=\u001b[39m \u001b[38;5;124;43m\"\u001b[39;49m\u001b[38;5;124;43mtexto\u001b[39;49m\u001b[38;5;124;43m\"\u001b[39;49m\u001b[43m \u001b[49m\u001b[38;5;241;43m+\u001b[39;49m\u001b[43m \u001b[49m\u001b[38;5;241;43m1\u001b[39;49m\n",
            "\u001b[0;31mTypeError\u001b[0m: can only concatenate str (not \"int\") to str"
          ],
          "output_type": "error"
        }
      ],
      "execution_count": 50
    },
    {
      "cell_type": "markdown",
      "source": "## Input\n[al indice](#Contenidos)\nEsta sentencia se usa en Python para recoger un valor que escriba el usuario del programa. Los programas suelen funcionar de esa manera, reciben un input, realizan operaciones, y acaban sacando un output para el usuario.\n\nPor ejemplo, en la siguiente celda recojo un input, que luego podremos usar en celdas posteriores.\n\n**CUIDADO**. Si corres una celda con un `input()` el programa se queda esperando a que el usuario meta un valor. Si en el momento en el que está esperando, vuelves a correr la misma celda, se te puede quedar pillado, depende del ordendaor/versión de Jupyter. Si eso ocurre, pincha en la celda y dale despues al botón de stop de arriba, o sino a Kernel -> Restart Kernel...",
      "metadata": {
        "id": "F65wPCntX5mE"
      }
    },
    {
      "cell_type": "code",
      "source": "primer_input = input (\"Escribeme argo mi arma:\")",
      "metadata": {
        "id": "V6zMtMfUX5mE",
        "trusted": true
      },
      "outputs": [
        {
          "output_type": "stream",
          "name": "stdin",
          "text": "Escribeme argo mi arma: talch\n"
        }
      ],
      "execution_count": 52
    },
    {
      "cell_type": "code",
      "source": "print(primer_input)\nprint(\"Esta variable siempre se recoje como\",type(primer_input))",
      "metadata": {
        "id": "S8p2YPurX5mE",
        "trusted": true
      },
      "outputs": [
        {
          "name": "stdout",
          "output_type": "stream",
          "text": "talch\nEsta variable siempre se recoje como <class 'str'>\n"
        }
      ],
      "execution_count": 54
    },
    {
      "cell_type": "markdown",
      "source": "Puedes poner ints, floats, strings, lo que quieras recoger en texto plano.\n\nMira que fácil es hacer un chatbot un poco tonto, mediante el que hacemos preguntas al usuario, y almacenamos sus respuestas.",
      "metadata": {
        "id": "B3jVo8_pX5mE"
      }
    },
    {
      "cell_type": "code",
      "source": "nombre = input(\"¿Cuál es tu nombre?\")\nprint(\"Encantada de conocerte!\",nombre)\npreferencias=input(\"¿Que te ha parecido la clase?\")\nprint (\"Coindido!\",nombre)",
      "metadata": {
        "id": "vtmgQHoIX5mE",
        "trusted": true
      },
      "outputs": [
        {
          "output_type": "stream",
          "name": "stdin",
          "text": "¿Cuál es tu nombre? Luna \n"
        },
        {
          "name": "stdout",
          "output_type": "stream",
          "text": "Encantada de conocerte! Luna \n"
        },
        {
          "output_type": "stream",
          "name": "stdin",
          "text": "¿Que te ha parecido la clase? Talch\n"
        },
        {
          "name": "stdout",
          "output_type": "stream",
          "text": "Coindido! Luna \n"
        }
      ],
      "execution_count": 56
    },
    {
      "cell_type": "markdown",
      "source": "## None\n[al indice](#Contenidos)\nPalabra reservada en Python para designar al valor nulo. `None` no es 0, tampoco es un string vacio, ni `False`, simplemente es un tipo de datos más para representar el conjunto vacío.",
      "metadata": {
        "id": "MJqvsBd9X5mE"
      }
    },
    {
      "cell_type": "code",
      "source": "print(None) #Cuidado!! tiene que estar en mayuscula la primera\nprint(type(None)) #Es un tipo en sí",
      "metadata": {
        "id": "5_2zfAAXX5mF",
        "trusted": true
      },
      "outputs": [
        {
          "name": "stdout",
          "output_type": "stream",
          "text": "None\n<class 'NoneType'>\n"
        }
      ],
      "execution_count": 60
    },
    {
      "cell_type": "code",
      "source": "\"\" == None #No es lo mismo la propia variable none que un string con nada ",
      "metadata": {
        "trusted": true
      },
      "outputs": [
        {
          "execution_count": 62,
          "output_type": "execute_result",
          "data": {
            "text/plain": "False"
          },
          "metadata": {}
        }
      ],
      "execution_count": 62
    },
    {
      "cell_type": "code",
      "source": "False == None #Ni esto ",
      "metadata": {
        "trusted": true,
        "scrolled": true
      },
      "outputs": [
        {
          "execution_count": 64,
          "output_type": "execute_result",
          "data": {
            "text/plain": "False"
          },
          "metadata": {}
        }
      ],
      "execution_count": 64
    },
    {
      "cell_type": "code",
      "source": "0 == None #Ni esto",
      "metadata": {
        "trusted": true
      },
      "outputs": [
        {
          "execution_count": 66,
          "output_type": "execute_result",
          "data": {
            "text/plain": "False"
          },
          "metadata": {}
        }
      ],
      "execution_count": 66
    },
    {
      "cell_type": "markdown",
      "source": "## Sintaxis y best practices\n[al indice](#Contenidos)\nA la hora de escribir en Python, existen ciertas normas que hay que tener en cuenta:\n* Todo lo que abras, lo tienes que cerrar: paréntesis, llaves, corchetes...\n* Los decimales se ponen con puntos `.`\n* Best practices\n    * **Caracteres**: NO se recomienda usar Ñs, acentos o caracteres raros (ª,º,@,ç...) en el codigo. Ponerlo únicamente en los comentarios.\n    * **Espacios**: NO usar espacios en los nombres de las variables ni de las funciones. Se recomienda usar guión bajo para simular el espacio. O también juntar las palabras y usar mayuscula para diferenciarlas `miVariable`. Lo normal es todo minúscula y guiones bajos\n    * Ahora bien, sí se recomienda usar espacios entre cada comando, para facilitar la lectura, aunque esto ya es más cuestión de gustos. `mi_variable = 36`.\n    * Se suelen declarar las variables en minuscula.\n    * Las constantes (variables que no van a cambiar nunca) en mayuscula. `MI_PAIS = \"España\"`\n    * **Cada sentencia en una linea**. Se puede usar el `;` para declarar varias variables, pero no es lo habitual\n    * **Comentarios**: TODOS los que se pueda. Nunca sabes cuándo otra persona va a coger tu espectacular código, o si tu *yo* del futuro se acordará de por qué hiciste ese bucle while en vez de un for.\n    * **Case sensitive**: sensible a mayusculas y minusculas. CUIDADO con esto cuando declaremos variables o usemos Strings\n    * **Sintaxis de línea**: para una correcta lectura del codigo lo mejor es aplicar sintaxis de línea en la medida de lo posible",
      "metadata": {
        "id": "Q566LqOQX5mF"
      }
    },
    {
      "cell_type": "code",
      "source": "# A esto nos referimos con sintaxis de línea\nlista_compra = ['Manzanas',\n               'Galletas',\n               'Pollo',\n               'Cereales']",
      "metadata": {
        "id": "o4LxvppdX5mF"
      },
      "outputs": [],
      "execution_count": null
    },
    {
      "cell_type": "markdown",
      "source": "### The Zen of Python\nCualquier consejo que te haya podido dar hasta ahora se queda en nada comparado con los 20 principios que definió *Tim Peters* en 1999. Uno de los mayores colaboradores en la creación de este lenguaje",
      "metadata": {
        "id": "Lg0DGQliX5mF"
      }
    },
    {
      "cell_type": "code",
      "source": "import this",
      "metadata": {
        "id": "KgtxkitSX5mG",
        "trusted": true
      },
      "outputs": [
        {
          "name": "stdout",
          "output_type": "stream",
          "text": "The Zen of Python, by Tim Peters\n\nBeautiful is better than ugly.\nExplicit is better than implicit.\nSimple is better than complex.\nComplex is better than complicated.\nFlat is better than nested.\nSparse is better than dense.\nReadability counts.\nSpecial cases aren't special enough to break the rules.\nAlthough practicality beats purity.\nErrors should never pass silently.\nUnless explicitly silenced.\nIn the face of ambiguity, refuse the temptation to guess.\nThere should be one-- and preferably only one --obvious way to do it.\nAlthough that way may not be obvious at first unless you're Dutch.\nNow is better than never.\nAlthough never is often better than *right* now.\nIf the implementation is hard to explain, it's a bad idea.\nIf the implementation is easy to explain, it may be a good idea.\nNamespaces are one honking great idea -- let's do more of those!\n"
        }
      ],
      "execution_count": 67
    },
    {
      "cell_type": "code",
      "source": "",
      "metadata": {
        "id": "bvT7YcTyX5mG"
      },
      "outputs": [],
      "execution_count": null
    },
    {
      "cell_type": "code",
      "source": "",
      "metadata": {
        "id": "H0QXOiaZX5mG"
      },
      "outputs": [],
      "execution_count": null
    }
  ]
}