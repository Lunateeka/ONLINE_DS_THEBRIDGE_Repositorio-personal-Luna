{
  "metadata": {
    "kernelspec": {
      "name": "python",
      "display_name": "Python (Pyodide)",
      "language": "python"
    },
    "language_info": {
      "codemirror_mode": {
        "name": "python",
        "version": 3
      },
      "file_extension": ".py",
      "mimetype": "text/x-python",
      "name": "python",
      "nbconvert_exporter": "python",
      "pygments_lexer": "ipython3",
      "version": "3.8"
    },
    "colab": {
      "provenance": []
    }
  },
  "nbformat_minor": 4,
  "nbformat": 4,
  "cells": [
    {
      "cell_type": "markdown",
      "source": "![TheBridge_Python_v0.png](attachment:TheBridge_Python_v0.png)",
      "metadata": {
        "id": "RZXLf9fsW88_"
      }
    },
    {
      "cell_type": "markdown",
      "source": "##  Argumentos clave-valor",
      "metadata": {
        "id": "gebit2D8W89A"
      }
    },
    {
      "cell_type": "markdown",
      "source": "### Contenidos",
      "metadata": {
        "id": "RhIT7JDgW89A"
      }
    },
    {
      "cell_type": "markdown",
      "source": "* [Combinar `*args` con `**kwargs`](#Combinar-`*args`-con-`**kwargs`)\n* [Argumentos keyword](#Argumentos-keyword)\n",
      "metadata": {
        "id": "Pkn1jVKiW89A"
      }
    },
    {
      "cell_type": "markdown",
      "source": "\nPara terminar con las diferentes posibilidades que ofrecen los argumentos de las funciones, vamos a tratar los argumentos clave-valor.  \n\nEs decir, tenemos también la opción de introducir un diccionario como argumentos, de esta forma, aunque el numero de argumentos sea variable, tendremos un inidicador, la clave, y el valor de cada clave.\n\nSe implementa con `**`",
      "metadata": {
        "id": "bFlLW11fW89A"
      }
    },
    {
      "cell_type": "code",
      "source": "#kwargs es lo que se suele usar para argumento clave-valor (key:worth)\n\n#primero veremos que tipo de variable genera **kwargs\ndef insertar_movil_bd(**clave_valor):\n    print(type(clave_valor))\n    print(clave_valor)\n\ninsertar_movil_bd(modelo=\"S20\",marca=\"samsung\",camara=\"24mpx\")",
      "metadata": {
        "id": "uN6LJdBoW89B",
        "trusted": true
      },
      "outputs": [
        {
          "name": "stdout",
          "output_type": "stream",
          "text": "<class 'dict'>\n{'modelo': 'S20', 'marca': 'samsung', 'camara': '24mpx'}\n"
        }
      ],
      "execution_count": 2
    },
    {
      "cell_type": "code",
      "source": "#Vamos a crear una función para hacer una base de datos cualidades de un movil\ndef insertar_movil_bd(**kwargs):\n    for clave,valor in kwargs.items():\n        #insertar(clave,valor) sería lo que normalmente haríamos\n        print(clave,\":\",valor)\n\ninsertar_movil_bd(modelo=\"S20\",marca=\"samsung\",camara=\"24mpx\", flip=True)",
      "metadata": {
        "trusted": true
      },
      "outputs": [
        {
          "name": "stdout",
          "output_type": "stream",
          "text": "modelo : S20\nmarca : samsung\ncamara : 24mpx\nflip : True\n"
        }
      ],
      "execution_count": 7
    },
    {
      "cell_type": "markdown",
      "source": "### Combinar `*args` con `**kwargs`\n[al indice](#Contenidos)  \nNo hay ningun problema en tener un numero variable de argumentos y también argumentos clave-valor, todo ello en la misma función.",
      "metadata": {
        "id": "rKsMjeUnW89B"
      }
    },
    {
      "cell_type": "code",
      "source": "#Recordamos que *args nos daba una tupla de los argumentos\ndef insertar_movil(*args,**kwargs):\n    print(type(args))\n    for i in args:\n        print(i)\ninsertar_movil(\"Es muy bueno :D\",\"No dura la batería :(\",modelo=\"S20\",marca=\"samsung\",\n               camara=\"24mpx\", flip=True)",
      "metadata": {
        "trusted": true
      },
      "outputs": [
        {
          "name": "stdout",
          "output_type": "stream",
          "text": "<class 'tuple'>\nEs muy bueno :D\nNo dura la batería :(\n"
        }
      ],
      "execution_count": 13
    },
    {
      "cell_type": "code",
      "source": "#Recordamos que *args nos daba una diccionario de los argumentos\ndef insertar_movil(*args,**kwargs):\n    print(type(kwargs))\n    for clave,valor in kwargs.items():\n        print(clave,\":\",valor)\n\ninsertar_movil(\"Es muy bueno :D\",\"No dura la batería :(\",modelo=\"S20\",marca=\"samsung\"\n               ,camara=\"24mpx\", flip=True)",
      "metadata": {
        "id": "31OJIFtyW89B",
        "trusted": true
      },
      "outputs": [
        {
          "name": "stdout",
          "output_type": "stream",
          "text": "<class 'dict'>\nmodelo : S20\nmarca : samsung\ncamara : 24mpx\nflip : True\n"
        }
      ],
      "execution_count": 12
    },
    {
      "cell_type": "code",
      "source": "#Hay que tener en cuenta que siempre tenenemos que poner los variables y luego clave:valor\ndef test(**kwargs,*args):\n    print(\"test\")\n#Siempre que queramos introducir los dos tiene que ser primero *args y despues **kwargs",
      "metadata": {
        "trusted": true
      },
      "outputs": [
        {
          "ename": "<class 'SyntaxError'>",
          "evalue": "arguments cannot follow var-keyword argument (<ipython-input-16-1efe88a13bf3>, line 2)",
          "traceback": [
            "\u001b[0;36m  Cell \u001b[0;32mIn[16], line 2\u001b[0;36m\u001b[0m\n\u001b[0;31m    def test(**kwargs,*args):\u001b[0m\n\u001b[0m                      ^\u001b[0m\n\u001b[0;31mSyntaxError\u001b[0m\u001b[0;31m:\u001b[0m arguments cannot follow var-keyword argument\n"
          ],
          "output_type": "error"
        }
      ],
      "execution_count": 16
    },
    {
      "cell_type": "markdown",
      "source": "### Argumentos keyword\n[al indice](#Contenidos)  \nExiste otro tipo de argumentos que son los *keyword*. Se caracterizan porque llevan un valor por defecto, y por tanto, si no usamos dicho argumento en la llamada, dentro de la función tomará el valor que hayamos dejado por defecto.\n\nTen en cuenta que estos argumentos se colocan **al final**",
      "metadata": {
        "id": "R6tk7ojQW89B"
      }
    },
    {
      "cell_type": "code",
      "source": "#cuando vemos funciones como round estas siempre tienen un clave valor que podemos\n#introducir opcionalmente, por eso siempre se tienen que colocar al final\n\n#Mira la funición con shift + tab\n\nprint(round(12.3394523872895)) #por defecto es none o 0\nprint(round(12.3394523872895, ndigits=3))\n\n#pero también tienen la opción de incluirlo de forma posicional\nprint(round(12.3394523872895,3))",
      "metadata": {
        "id": "8LDtONSmW89C",
        "trusted": true
      },
      "outputs": [
        {
          "name": "stdout",
          "output_type": "stream",
          "text": "12\n12.339\n12.339\n"
        }
      ],
      "execution_count": 23
    },
    {
      "cell_type": "markdown",
      "source": "<table align=\"left\">\n <tr>\n     <td style=\"text-align:left\">\n         <h3>ERRORES con argumentos keyword</h3>\n         \n </td></tr>\n</table>",
      "metadata": {
        "id": "w-GUG0l5W89C"
      }
    },
    {
      "cell_type": "code",
      "source": "#Si ponemos directamente un valor en la variable por defecto tiene ese y a no ser \n#que se le introduzca específicamente se quedará así\n\ndef pedido_online(pedido, fecha, incidencia = False):\n    if incidencia == True:\n        print(\"pongase en contacto con Att. al cliente\")\n    print(\"Su pedido de\",pedido,\"se entregará el\",fecha)\n\npedido_online(\"Televisión LG\",\"12/12/2023\")",
      "metadata": {
        "id": "SZjsv5vJW89C",
        "trusted": true
      },
      "outputs": [
        {
          "name": "stdout",
          "output_type": "stream",
          "text": "Su pedido de Televisión LG se entregará el 12/12/2023\n"
        }
      ],
      "execution_count": 29
    },
    {
      "cell_type": "code",
      "source": "pedido_online(\"iMac 27\",\"10/11/2023\",incidencia = True)",
      "metadata": {
        "id": "SZjsv5vJW89C",
        "trusted": true
      },
      "outputs": [
        {
          "name": "stdout",
          "output_type": "stream",
          "text": "pongase en contacto con Att. al cliente\nSu pedido de iMac 27 se entregará el 10/11/2023\n"
        }
      ],
      "execution_count": 28
    },
    {
      "cell_type": "markdown",
      "source": "### ERRORES con argumentos keyword",
      "metadata": {}
    },
    {
      "cell_type": "code",
      "source": "#El error más común es no poder los kwargs al final\ndef pedido_online(pedido, incidencia = False,fecha):\n    if incidencia == True:\n        print(\"pongase en contacto con Att. al cliente\")\n    print(\"Su pedido de\",pedido,\"se entregará el\",fecha)",
      "metadata": {
        "trusted": true
      },
      "outputs": [
        {
          "ename": "<class 'SyntaxError'>",
          "evalue": "parameter without a default follows parameter with a default (<ipython-input-30-d287f873a9a8>, line 2)",
          "traceback": [
            "\u001b[0;36m  Cell \u001b[0;32mIn[30], line 2\u001b[0;36m\u001b[0m\n\u001b[0;31m    def pedido_online(pedido, incidencia = False,fecha):\u001b[0m\n\u001b[0m                                                 ^\u001b[0m\n\u001b[0;31mSyntaxError\u001b[0m\u001b[0;31m:\u001b[0m parameter without a default follows parameter with a default\n"
          ],
          "output_type": "error"
        }
      ],
      "execution_count": 30
    },
    {
      "cell_type": "code",
      "source": "",
      "metadata": {
        "trusted": true
      },
      "outputs": [],
      "execution_count": null
    }
  ]
}